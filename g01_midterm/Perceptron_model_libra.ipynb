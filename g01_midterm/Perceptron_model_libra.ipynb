{
 "cells": [
  {
   "cell_type": "code",
   "execution_count": 2,
   "metadata": {},
   "outputs": [],
   "source": [
    "from sklearn.linear_model import Perceptron\n",
    "import numpy as np"
   ]
  },
  {
   "cell_type": "code",
   "execution_count": 49,
   "metadata": {},
   "outputs": [
    {
     "name": "stdout",
     "output_type": "stream",
     "text": [
      "len of dict folder 1: 2617\n",
      "accurracy_test of folder 1:  0.7746478873239436\n",
      "accurracy_train of folder 1:  0.9807073954983923\n",
      "len of dict folder 2: 2737\n",
      "accurracy_test of folder 2:  0.7746478873239436\n",
      "accurracy_train of folder 2:  0.9935691318327974\n",
      "len of dict folder 3: 2592\n",
      "accurracy_test of folder 3:  0.7746478873239436\n",
      "accurracy_train of folder 3:  0.9903536977491961\n",
      "len of dict folder 4: 2580\n",
      "accurracy_test of folder 4:  0.7746478873239436\n",
      "accurracy_train of folder 4:  0.9839228295819936\n",
      "len of dict folder 5: 2716\n",
      "accurracy_test of folder 5:  0.7746478873239436\n",
      "accurracy_train of folder 5:  1.0\n",
      "average accurracy_train :  0.9897106109324758\n",
      "average accurracy_test :  0.7746478873239436\n"
     ]
    }
   ],
   "source": [
    "sum_acc_test = 0\n",
    "aver_acc_test = 0\n",
    "sum_acc_train = 0\n",
    "aver_acc_train = 0\n",
    "for i in range(1, 6):\n",
    "    A = np.loadtxt('data/train{}.txt'.format(i))\n",
    "    X_train = np.array(A[:, 1: ])\n",
    "    print('len of dict folder {}:'.format(i), X_train.shape[1])\n",
    "    y_train = np.array(A[:, 0])\n",
    "    T = np.loadtxt('data/test{}.txt'.format(i))\n",
    "    X_test=np.array(T[:, 1: ])\n",
    "    y_test=np.array(T[:, 0])\n",
    "    clf = Perceptron(tol=1e-3, random_state=0)\n",
    "    clf.fit(X_train, y_train)  \n",
    "    acc_train=clf.score(X_train, y_train)\n",
    "    sum_acc_test = sum_acc_test + acc_test\n",
    "    sum_acc_train = sum_acc_train + acc_train\n",
    "    print('accurracy_test of folder {}: '.format(i), acc_test)\n",
    "    print('accurracy_train of folder {}: '.format(i), acc_train)\n",
    "aver_acc_train = sum_acc_train/5\n",
    "aver_acc_test = sum_acc_test/5\n",
    "print('average accurracy_train : ', aver_acc_train)\n",
    "print('average accurracy_test : ', aver_acc_test)"
   ]
  }
 ],
 "metadata": {
  "kernelspec": {
   "display_name": "Python 3",
   "language": "python",
   "name": "python3"
  },
  "language_info": {
   "codemirror_mode": {
    "name": "ipython",
    "version": 3
   },
   "file_extension": ".py",
   "mimetype": "text/x-python",
   "name": "python",
   "nbconvert_exporter": "python",
   "pygments_lexer": "ipython3",
   "version": "3.7.3"
  }
 },
 "nbformat": 4,
 "nbformat_minor": 2
}
