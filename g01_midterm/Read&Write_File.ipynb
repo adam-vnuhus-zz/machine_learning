{
 "cells": [
  {
   "cell_type": "code",
   "execution_count": 1,
   "metadata": {},
   "outputs": [],
   "source": [
    "from sklearn.utils import shuffle\n",
    "from pyvi import ViTokenizer #For split vietnamese words\n",
    "import pandas as pd #For reading xlsx file\n",
    "from gensim.parsing.preprocessing import strip_non_alphanum, strip_multiple_whitespaces,preprocess_string, split_alphanum, strip_short, strip_numeric\n",
    "import re\n",
    "import numpy as np\n",
    "from scipy.sparse import coo_matrix\n",
    "from sklearn.naive_bayes import MultinomialNB, BernoulliNB\n",
    "from sklearn.metrics import accuracy_score\n",
    "import string"
   ]
  },
  {
   "cell_type": "code",
   "execution_count": 4,
   "metadata": {},
   "outputs": [
    {
     "name": "stdout",
     "output_type": "stream",
     "text": [
      "391\n"
     ]
    }
   ],
   "source": [
    "document = []\n",
    "label = []\n",
    "def read_file(file):\n",
    "    doc = []\n",
    "    with open(file, 'r', encoding = 'utf-8') as f:\n",
    "        for line in f:\n",
    "            doc.append(line)\n",
    "    doc = shuffle(doc,random_state = 0)\n",
    "    \n",
    "    for line in doc:\n",
    "        document.append(line[7: ])\n",
    "        if ('non' in line[: 6]):\n",
    "            label.append(0)\n",
    "        else:\n",
    "            label.append(1)\n",
    "\n",
    "read_file('data_mail.txt')\n",
    "read_file('data_email.txt')\n",
    "print(len(document))"
   ]
  },
  {
   "cell_type": "code",
   "execution_count": 7,
   "metadata": {},
   "outputs": [],
   "source": [
    "def raw_text_preprocess(raw):\n",
    "    raw = raw.lower()\n",
    "    raw = re.sub(r\"http\\S+\", \"URL_Change\", raw)\n",
    "    raw = re.sub(r\"https\\S+\", \"URL_Change\", raw)\n",
    "    raw = re.sub(r\"(www\\S+)|(\\S+@\\S+)\", \"URL_Change\", raw)\n",
    "    raw = re.sub(r\"([0-9][0-9]/[0-9][0-9]/[0-9][0-9][0-9][0-9])|([0-9][0-9]/[0-9][0-9])|([0-9][0-9]/[0-9][0-9][0-9][0-9])\", \"DATE_Change\", raw)\n",
    "    raw = re.sub(r\"([0-9][0-9]-[0-9][0-9]-[0-9][0-9][0-9][0-9])|([0-9][0-9]-[0-9][0-9])|([0-9][0-9]-[0-9][0-9][0-9][0-9])\", \"DATE_Change\", raw)\n",
    "    raw = re.sub(r\"(ngày [0-9][0-9] tháng [0-9][0-9] năm [0-9][0-9][0-9][0-9])|(ngày [0-9][0-9] tháng [0-9][0-9])|(tháng [0-9][0-9] năm [0-9][0-9][0-9][0-9])\", \"DATE_Change\", raw)\n",
    "\n",
    "    raw = strip_numeric(raw)\n",
    "    raw = ViTokenizer.tokenize(raw)\n",
    "    raw = strip_short(raw, minsize=2)\n",
    "    return raw"
   ]
  },
  {
   "cell_type": "code",
   "execution_count": 6,
   "metadata": {},
   "outputs": [],
   "source": [
    "#Chia dữ liệu làm 5 đoạn, lấy đoạn thứ i để test và còn lại để train\n",
    "def divide_fold(i):\n",
    "    document = [raw_text_preprocess(d) for d in document]\n",
    "    document_test = document[(i-1)*80:i*80]\n",
    "    label_test = label[(i-1)*80:i*80]\n",
    "    document_train = document[:(i-1)*80+1]+document[i*80+1:]\n",
    "    label_train = label[:(i-1)*80+1]+label[i*80+1:]\n",
    "    return (document_test,label_test,document_train ,label_train)"
   ]
  },
  {
   "cell_type": "code",
   "execution_count": 8,
   "metadata": {},
   "outputs": [],
   "source": [
    "def dict_word(document):\n",
    "    res = {}\n",
    "    words = {}\n",
    "    conten = 0\n",
    "    for doc in document:\n",
    "#             token = change(doc)\n",
    "            token = doc.split(\" \")\n",
    "            for tok in token:\n",
    "                if tok in res.keys():\n",
    "                    res[tok] = res[tok] + 1\n",
    "                else:\n",
    "                    res.update({tok : 1})\n",
    "            for key, value in res.items():\n",
    "                if (value >= 3):\n",
    "                    words.update({key : value})\n",
    "    words = sorted(words.keys())\n",
    "    return words"
   ]
  },
  {
   "cell_type": "code",
   "execution_count": 9,
   "metadata": {},
   "outputs": [],
   "source": [
    "def read_data(document, label, words, fileName):\n",
    "    word_list = []\n",
    "    N = len(document)\n",
    "#     conten = 0\n",
    "    for doc in document:\n",
    "#         token = change(doc)\n",
    "        token = doc.split(\" \")\n",
    "        word = {}\n",
    "        for tok in token:\n",
    "            if tok in word.keys():\n",
    "                word[tok] = word[tok] + 1\n",
    "            else:\n",
    "                word.update({tok : 1})\n",
    "        word_list.append(word)\n",
    "    data = dat = np.zeros((N, len(words)), dtype = int)\n",
    "    j = 0\n",
    "    for word in word_list:\n",
    "        dat = []\n",
    "        for key in words:\n",
    "            if(key in word.keys()):\n",
    "                dat.append(word[key])\n",
    "            else:\n",
    "                dat.append(0)\n",
    "        data[j, :] = np.array(np.asarray(dat))\n",
    "        j = j + 1\n",
    "#     return (np.array(np.asarray(data)), np.array(np.asarray(label)))\n",
    "    with open(fileName, 'w') as f:\n",
    "        for i, l in enumerate(label):\n",
    "            f.write(str(l))\n",
    "            f.write(\" \")\n",
    "            for num in data[i, :]:\n",
    "                f.write(str(num))\n",
    "                f.write(\" \")\n",
    "            f.write('\\n')\n",
    "#     return (data, np.array(np.asarray(label)))"
   ]
  },
  {
   "cell_type": "code",
   "execution_count": 15,
   "metadata": {},
   "outputs": [],
   "source": [
    "for i in range(1, 6):\n",
    "    document_test,label_test,document_train ,label_train = divide_fold(i)\n",
    "    words = dict_word(document_train)\n",
    "    read_data(document_test,label_test, words, 'test{}.txt'.format(i))\n",
    "    read_data(document_train,label_train, words, 'train{}.txt'.format(i))"
   ]
  },
  {
   "cell_type": "code",
   "execution_count": 12,
   "metadata": {},
   "outputs": [
    {
     "data": {
      "text/plain": [
       "'test12.txt'"
      ]
     },
     "execution_count": 12,
     "metadata": {},
     "output_type": "execute_result"
    }
   ],
   "source": [
    "'test{}.txt'.format(12)"
   ]
  },
  {
   "cell_type": "code",
   "execution_count": null,
   "metadata": {},
   "outputs": [],
   "source": []
  }
 ],
 "metadata": {
  "kernelspec": {
   "display_name": "Python 3",
   "language": "python",
   "name": "python3"
  },
  "language_info": {
   "codemirror_mode": {
    "name": "ipython",
    "version": 3
   },
   "file_extension": ".py",
   "mimetype": "text/x-python",
   "name": "python",
   "nbconvert_exporter": "python",
   "pygments_lexer": "ipython3",
   "version": "3.7.3"
  }
 },
 "nbformat": 4,
 "nbformat_minor": 2
}
