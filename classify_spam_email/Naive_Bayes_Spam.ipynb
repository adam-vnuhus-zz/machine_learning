{
 "cells": [
  {
   "cell_type": "markdown",
   "metadata": {},
   "source": [
    "#### Train a Native Bayes model\n",
    "#### INP: A matrix X of size NxD(N is number of samples, D is number\n",
    "#### of features); y is a column vector of size Nx1 of values 1, 2, ..., K)\n",
    "#### OUT: conditional probability matrix theta_jk of size DxK\n",
    "#### and prior distribution theta, which is a vector of size K."
   ]
  },
  {
   "cell_type": "code",
   "execution_count": 1,
   "metadata": {},
   "outputs": [],
   "source": [
    "import numpy as np\n",
    "import math"
   ]
  },
  {
   "cell_type": "code",
   "execution_count": 2,
   "metadata": {},
   "outputs": [],
   "source": [
    "def train(X, y):\n",
    "    N, D = X.shape\n",
    "    classes, noElementOfClass = np.unique(y, return_counts=True)\n",
    "    print(N)\n",
    "    K=classes.size\n",
    "    theta = np.zeros((K, 1))\n",
    "    theta_jk = np.zeros((K, D))\n",
    "    for k in range(K):\n",
    "        theta[k] = np.sum(y == k)\n",
    "        idx = (y == k)\n",
    "        X_k = X[idx, :]\n",
    "        u_k = np.sum(X_k);\n",
    "        theta_jk[k, :] = u_k/theta[k]\n",
    "    theta = theta/N\n",
    "    return (theta_jk, theta)"
   ]
  },
  {
   "cell_type": "code",
   "execution_count": 3,
   "metadata": {},
   "outputs": [],
   "source": [
    "def classify(x, theta_jk, theta_k):\n",
    "    K = len(theta_jk)\n",
    "    D = len(theta_jk[0])\n",
    "    y = 0\n",
    "    r = np.zeros((K, 1))\n",
    "    for k in range(K):\n",
    "        p_k = 1\n",
    "        for i in range(D):\n",
    "            if(x[i] == 1):\n",
    "                p_k = p_k * theta_jk[k][i]\n",
    "            else:\n",
    "                p_k = p_k * (1 - theta_jk[k][i])\n",
    "        r[k] = p_k * theta_k[k]\n",
    "        if (r[k] > r[y]):\n",
    "            y = k\n",
    "    return y"
   ]
  },
  {
   "cell_type": "code",
   "execution_count": 4,
   "metadata": {},
   "outputs": [],
   "source": [
    "def accuracy(X_test, y_test, theta_jk, theta_k):\n",
    "    M = X_test.shape[0]\n",
    "    \n",
    "    prediction = np.zeros((M, 1))\n",
    "    for i in range(M):\n",
    "        x = X_test[i, :];\n",
    "        prediction[i] = classify(x, theta_jk, theta_k)\n",
    "#    compare y_test and prediction\n",
    "    count = 0\n",
    "    for i in range(M):\n",
    "        if (prediction[i] == y_test[i]):\n",
    "            count += 1\n",
    "    return count/M"
   ]
  },
  {
   "cell_type": "code",
   "execution_count": 5,
   "metadata": {},
   "outputs": [
    {
     "name": "stdout",
     "output_type": "stream",
     "text": [
      "311\n"
     ]
    },
    {
     "name": "stderr",
     "output_type": "stream",
     "text": [
      "C:\\ProgramData\\Anaconda3\\lib\\site-packages\\ipykernel_launcher.py:12: RuntimeWarning: overflow encountered in double_scalars\n",
      "  if sys.path[0] == '':\n"
     ]
    },
    {
     "name": "stdout",
     "output_type": "stream",
     "text": [
      "accurracy of folder 1:  0.5125\n",
      "311\n"
     ]
    },
    {
     "name": "stderr",
     "output_type": "stream",
     "text": [
      "C:\\ProgramData\\Anaconda3\\lib\\site-packages\\ipykernel_launcher.py:10: RuntimeWarning: overflow encountered in double_scalars\n",
      "  # Remove the CWD from sys.path while we load stuff.\n"
     ]
    },
    {
     "name": "stdout",
     "output_type": "stream",
     "text": [
      "accurracy of folder 2:  0.55\n",
      "311\n",
      "accurracy of folder 3:  0.4\n",
      "311\n",
      "accurracy of folder 4:  0.65\n",
      "321\n",
      "accurracy of folder 5:  0.4647887323943662\n",
      "average accurracy :  0.5154577464788732\n"
     ]
    }
   ],
   "source": [
    "sum_acc = 0\n",
    "aver_acc = 0\n",
    "for i in range(1, 6):\n",
    "    A = np.loadtxt('data_bira/train{}.txt'.format(i))\n",
    "    X_train = np.array(A[:, 1: ])\n",
    "    y_train = np.array(A[:, 0])\n",
    "    T = np.loadtxt('data_bira/test{}.txt'.format(i))\n",
    "    X_test=np.array(T[:, 1: ])\n",
    "    y_test=np.array(T[:, 0])\n",
    "    theta_jk, theta =train(X_train, y_train)\n",
    "    acc= accuracy(X_test, y_test, theta_jk, theta)\n",
    "    sum_acc = sum_acc + acc\n",
    "    print('accurracy of folder {}: '.format(i), acc)\n",
    "aver_acc = sum_acc/5\n",
    "print('average accurracy : ', aver_acc)"
   ]
  },
  {
   "cell_type": "code",
   "execution_count": 6,
   "metadata": {},
   "outputs": [
    {
     "name": "stdout",
     "output_type": "stream",
     "text": [
      "311\n"
     ]
    },
    {
     "name": "stderr",
     "output_type": "stream",
     "text": [
      "C:\\ProgramData\\Anaconda3\\lib\\site-packages\\ipykernel_launcher.py:12: RuntimeWarning: overflow encountered in double_scalars\n",
      "  if sys.path[0] == '':\n"
     ]
    },
    {
     "name": "stdout",
     "output_type": "stream",
     "text": [
      "accurracy of folder 1:  0.5125\n",
      "311\n"
     ]
    },
    {
     "name": "stderr",
     "output_type": "stream",
     "text": [
      "C:\\ProgramData\\Anaconda3\\lib\\site-packages\\ipykernel_launcher.py:10: RuntimeWarning: overflow encountered in double_scalars\n",
      "  # Remove the CWD from sys.path while we load stuff.\n"
     ]
    },
    {
     "name": "stdout",
     "output_type": "stream",
     "text": [
      "accurracy of folder 2:  0.55\n",
      "311\n",
      "accurracy of folder 3:  0.4\n",
      "311\n",
      "accurracy of folder 4:  0.65\n",
      "321\n",
      "accurracy of folder 5:  0.4647887323943662\n",
      "average accurracy :  0.5154577464788732\n"
     ]
    }
   ],
   "source": [
    "sum_acc = 0\n",
    "aver_acc = 0\n",
    "for i in range(1, 6):\n",
    "    A = np.loadtxt('data_bira_no/train_no{}.txt'.format(i))\n",
    "    X_train = np.array(A[:, 1: ])\n",
    "    y_train = np.array(A[:, 0])\n",
    "    T = np.loadtxt('data_bira_no/test_no{}.txt'.format(i))\n",
    "    X_test=np.array(T[:, 1: ])\n",
    "    y_test=np.array(T[:, 0])\n",
    "    theta_jk, theta =train(X_train, y_train)\n",
    "    acc= accuracy(X_test, y_test, theta_jk, theta)\n",
    "    sum_acc = sum_acc + acc\n",
    "    print('accurracy of folder {}: '.format(i), acc)\n",
    "aver_acc = sum_acc/5\n",
    "print('average accurracy : ', aver_acc)"
   ]
  },
  {
   "cell_type": "code",
   "execution_count": null,
   "metadata": {},
   "outputs": [],
   "source": []
  }
 ],
 "metadata": {
  "kernelspec": {
   "display_name": "Python 3",
   "language": "python",
   "name": "python3"
  },
  "language_info": {
   "codemirror_mode": {
    "name": "ipython",
    "version": 3
   },
   "file_extension": ".py",
   "mimetype": "text/x-python",
   "name": "python",
   "nbconvert_exporter": "python",
   "pygments_lexer": "ipython3",
   "version": "3.7.3"
  }
 },
 "nbformat": 4,
 "nbformat_minor": 2
}
