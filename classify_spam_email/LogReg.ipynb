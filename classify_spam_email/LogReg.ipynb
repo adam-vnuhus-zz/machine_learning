{
 "cells": [
  {
   "cell_type": "code",
   "execution_count": 20,
   "metadata": {},
   "outputs": [],
   "source": [
    "import math\n",
    "import numpy as np\n",
    "def sigmoid(z):\n",
    "    return(1 / (1 + np.exp(-z)))"
   ]
  },
  {
   "cell_type": "code",
   "execution_count": 91,
   "metadata": {},
   "outputs": [],
   "source": [
    "import numpy as np\n",
    "def costLogReg(theta, X, y, lamb):\n",
    "    J = 0\n",
    "    N = X.shape[1]\n",
    "    u = theta\n",
    "    D = X.shape[0]\n",
    "    dJ = []\n",
    "#     h = sigmoid(np.dot(X, theta.transpose()))\n",
    "#     print(np.log(h))\n",
    "#     J = np.dot(y, np.log(h)) + np.dot(1 - y, np.log(1 - h))\n",
    "#     J = -J/N;\n",
    "#     dJ = -X.transpose.dot(y - h)/N\n",
    "#     return (J, dJ)\n",
    "    for i in range(N):\n",
    "        h_i = sigmoid(np.dot(X[i, :] ,theta.transpose()))\n",
    "       \n",
    "        J = J + y[i]*math.log(h_i) + (1 - y[i])*math.log(1 - h_i)\n",
    "    J = -J/N;\n",
    "    J = J\n",
    "    print(J)\n",
    "    for j in range(D):\n",
    "        v_j = 0;\n",
    "        for i in range(N):\n",
    "            h_i = sigmoid(np.dot(X[i, :] ,theta.transpose()))\n",
    "            v_j = v_j + (y[i] - h_i) * X[j][i];\n",
    "        dJ.append(-v_j/N)\n",
    "    print(dJ)\n",
    "    return (J, dJ)"
   ]
  },
  {
   "cell_type": "code",
   "execution_count": 92,
   "metadata": {},
   "outputs": [
    {
     "name": "stdout",
     "output_type": "stream",
     "text": [
      "1.1144984267978908\n",
      "[0.43206467157452866, 1.3095809325512509, 2.187097193527973]\n"
     ]
    }
   ],
   "source": [
    "costLogReg(np.array([0.1, 1]), np.array([[1, 2], [3, 4], [5, 6]]), np.array([0, 1]))\n",
    "X = np.array([[1, 2], [3, 4], [5, 6]])\n"
   ]
  },
  {
   "cell_type": "code",
   "execution_count": 12,
   "metadata": {},
   "outputs": [
    {
     "ename": "TypeError",
     "evalue": "'tuple' object is not callable",
     "output_type": "error",
     "traceback": [
      "\u001b[1;31m---------------------------------------------------------------------------\u001b[0m",
      "\u001b[1;31mTypeError\u001b[0m                                 Traceback (most recent call last)",
      "\u001b[1;32m<ipython-input-12-386b8665a4c0>\u001b[0m in \u001b[0;36m<module>\u001b[1;34m\u001b[0m\n\u001b[1;32m----> 1\u001b[1;33m \u001b[0mX\u001b[0m\u001b[1;33m.\u001b[0m\u001b[0mshape\u001b[0m\u001b[1;33m(\u001b[0m\u001b[1;33m)\u001b[0m\u001b[1;33m\u001b[0m\u001b[1;33m\u001b[0m\u001b[0m\n\u001b[0m",
      "\u001b[1;31mTypeError\u001b[0m: 'tuple' object is not callable"
     ]
    }
   ],
   "source": [
    "def classify(x, theta):\n",
    "    h = sigmoid(x*theta)\n",
    "    d = [0, 1]\n",
    "    P = "
   ]
  },
  {
   "cell_type": "code",
   "execution_count": 116,
   "metadata": {},
   "outputs": [
    {
     "name": "stdout",
     "output_type": "stream",
     "text": [
      "[[1.27542503]\n",
      " [0.16292535]]\n",
      "[[-0.30704954]\n",
      " [ 0.73733243]]\n"
     ]
    }
   ],
   "source": [
    "X = np.array([[0.50, 0.75, 1.00, 1.25, 1.50, 1.75, 1.75, 2.00, 2.25, 2.50, \n",
    "              2.75, 3.00, 3.25, 3.50, 4.00, 4.25, 4.50, 4.75, 5.00, 5.50],\n",
    "             [0.25, 0.50, 0.50, 0.75, 1.00, 1.00, 1.50, 1.25, 1.25, 1.75,\n",
    "             1.50, 2.50, 2.75, 2.73, 3.25, 3.32, 4.24, 3.35, 2.5, 4.75]])\n",
    "y = np.array([0, 0, 0, 0, 0, 0, 1, 0, 1, 0, 1, 0, 1, 0, 1, 1, 1, 1, 1, 1])\n",
    "def sigmoid(s):\n",
    "    return 1/(1 + np.exp(-s))\n",
    "\n",
    "def logistic_sigmoid_regression(X, y, w_init, eta, tol = 1e-4, max_count = 10000):\n",
    "    w = [w_init]    \n",
    "    it = 0\n",
    "    N = X.shape[1]\n",
    "    d = X.shape[0]\n",
    "    count = 0\n",
    "    check_w_after = 20\n",
    "    while count < max_count:\n",
    "        # mix data \n",
    "        mix_id = np.random.permutation(N)\n",
    "        for i in mix_id:\n",
    "            xi = X[:, i].reshape(d, 1)\n",
    "            yi = y[i]\n",
    "            zi = sigmoid(np.dot(w[-1].T, xi))\n",
    "            w_new = w[-1] + eta*(yi - zi)*xi\n",
    "            count += 1\n",
    "            # stopping criteria\n",
    "            if count%check_w_after == 0:                \n",
    "                if np.linalg.norm(w_new - w[-check_w_after]) < tol:\n",
    "                    return w\n",
    "            w.append(w_new)\n",
    "    return w\n",
    "eta = .05 \n",
    "d = X.shape[0]\n",
    "w_init = np.random.randn(d, 1)\n",
    "print(w_init)\n",
    "w = logistic_sigmoid_regression(X, y, w_init, eta)\n",
    "print(w[-1])"
   ]
  },
  {
   "cell_type": "code",
   "execution_count": 128,
   "metadata": {},
   "outputs": [],
   "source": [
    "import numpy as np\n",
    "def costLogReg(theta, X, y, lamb):\n",
    "    J = 0\n",
    "    N = X.shape[1]\n",
    "    u = theta\n",
    "    D = X.shape[0]\n",
    "    dJ = []\n",
    "#     h = sigmoid(np.dot(X, theta.transpose()))\n",
    "#     print(np.log(h))\n",
    "#     J = np.dot(y, np.log(h)) + np.dot(1 - y, np.log(1 - h))\n",
    "#     J = -J/N;\n",
    "#     dJ = -X.transpose.dot(y - h)/N\n",
    "#     return (J, dJ)\n",
    "    for i in range(N):\n",
    "        h_i = sigmoid(np.dot(X[:, i] ,theta))\n",
    "       \n",
    "        J = J + y[i]*math.log(h_i) + (1 - y[i])*math.log(1 - h_i)\n",
    "    J = -J/N;\n",
    "    J = J\n",
    "    print(J)\n",
    "    for j in range(D):\n",
    "        v_j = 0;\n",
    "        for i in range(N):\n",
    "            h_i = sigmoid(np.dot(X[:, i] ,theta))\n",
    "            v_j = v_j + (y[i] - h_i) * X[j][i];\n",
    "        dJ.append(-v_j/N)\n",
    "    print(dJ)\n",
    "    return (J, dJ)"
   ]
  },
  {
   "cell_type": "code",
   "execution_count": 129,
   "metadata": {},
   "outputs": [
    {
     "name": "stdout",
     "output_type": "stream",
     "text": [
      "0.6310407048609299\n",
      "[array([0.02830936]), array([0.02264653])]\n"
     ]
    },
    {
     "data": {
      "text/plain": [
       "(0.6310407048609299, [array([0.02830936]), array([0.02264653])])"
      ]
     },
     "execution_count": 129,
     "metadata": {},
     "output_type": "execute_result"
    }
   ],
   "source": [
    "costLogReg(w[-1], X, y, 0.5)\n"
   ]
  },
  {
   "cell_type": "code",
   "execution_count": null,
   "metadata": {},
   "outputs": [],
   "source": []
  }
 ],
 "metadata": {
  "kernelspec": {
   "display_name": "Python 3",
   "language": "python",
   "name": "python3"
  },
  "language_info": {
   "codemirror_mode": {
    "name": "ipython",
    "version": 3
   },
   "file_extension": ".py",
   "mimetype": "text/x-python",
   "name": "python",
   "nbconvert_exporter": "python",
   "pygments_lexer": "ipython3",
   "version": "3.7.3"
  }
 },
 "nbformat": 4,
 "nbformat_minor": 2
}
