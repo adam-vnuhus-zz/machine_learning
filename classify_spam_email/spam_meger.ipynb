{
 "cells": [
  {
   "cell_type": "code",
   "execution_count": null,
   "metadata": {},
   "outputs": [],
   "source": []
  },
  {
   "cell_type": "code",
   "execution_count": 1,
   "metadata": {},
   "outputs": [],
   "source": [
    "from pyvi import ViTokenizer #For split vietnamese words\n",
    "import pandas as pd #For reading xlsx file\n",
    "from gensim.parsing.preprocessing import strip_non_alphanum, strip_multiple_whitespaces,preprocess_string, split_alphanum, strip_short, strip_numeric\n",
    "import re\n",
    "import numpy as np\n",
    "from scipy.sparse import coo_matrix\n",
    "from sklearn.naive_bayes import MultinomialNB, BernoulliNB\n",
    "from sklearn.metrics import accuracy_score"
   ]
  },
  {
   "cell_type": "code",
   "execution_count": 2,
   "metadata": {},
   "outputs": [],
   "source": [
    "def raw_text_preprocess(raw):    \n",
    "    raw = ViTokenizer.tokenize(raw)\n",
    "    raw = strip_short(raw, minsize=2)\n",
    "    return raw"
   ]
  },
  {
   "cell_type": "code",
   "execution_count": 3,
   "metadata": {},
   "outputs": [
    {
     "name": "stdout",
     "output_type": "stream",
     "text": [
      "407\n"
     ]
    }
   ],
   "source": [
    "document = []\n",
    "label = []\n",
    "with open('data_email.txt', 'r', encoding = 'utf-8') as f:\n",
    "    for line in f:\n",
    "#         document_test.append(line[6: ])\n",
    "        document.append(line[6: ])\n",
    "        if ('non' in line[: 6]):\n",
    "#             label.append(0)\n",
    "            label.append(0)\n",
    "        else:\n",
    "#             label.append(1)\n",
    "            label.append(1)\n",
    "\n",
    "print(len(document))"
   ]
  },
  {
   "cell_type": "code",
   "execution_count": 4,
   "metadata": {},
   "outputs": [],
   "source": [
    "def change(raw):\n",
    "    raw_cop = raw\n",
    "    token = raw.split(\" \")\n",
    "    links = ('http:', '.com', '.org', '.vn', '@', 'https:')\n",
    "    for i, char in enumerate(token):\n",
    "#         print(char)\n",
    "        for link in links:\n",
    "            if (link in char):\n",
    "                token[i] = 'URL'\n",
    "                break\n",
    "    for i, tok in enumerate(token):\n",
    "        if (tok[0].isdigit()):\n",
    "            token[i] = 'number_change'\n",
    "#     print(token)\n",
    "    return token"
   ]
  },
  {
   "cell_type": "code",
   "execution_count": 5,
   "metadata": {},
   "outputs": [],
   "source": [
    "document = [raw_text_preprocess(d) for d in document]\n",
    "document_test = document[: 80]\n",
    "label_test = label[: 80]\n",
    "document = document[80 :]\n",
    "label = label[80 :]\n"
   ]
  },
  {
   "cell_type": "code",
   "execution_count": 6,
   "metadata": {},
   "outputs": [],
   "source": [
    "def dict_word(document):\n",
    "    res = {}\n",
    "    words = {}\n",
    "    conten = 0\n",
    "    for doc in document:\n",
    "            token = change(doc)\n",
    "            for tok in token:\n",
    "                if tok in res.keys():\n",
    "                    res[tok] = res[tok] + 1\n",
    "                else:\n",
    "                    res.update({tok : 1})\n",
    "            for key, value in res.items():\n",
    "                if value >= 3:\n",
    "                    words.update({key : value})\n",
    "            word = {}\n",
    "            for tok in token:\n",
    "                if tok in word.keys():\n",
    "                    word[tok] = word[tok] + 1\n",
    "                else:\n",
    "                    word.update({tok : 1})\n",
    "            conten = conten + len(word)\n",
    "    words = sorted(words.keys())\n",
    "    \n",
    "    return (words, conten)"
   ]
  },
  {
   "cell_type": "code",
   "execution_count": 7,
   "metadata": {},
   "outputs": [],
   "source": [
    "def read_data(document, label, words, conten):\n",
    "    word_list = []\n",
    "#     conten = 0\n",
    "    for doc in document:\n",
    "        token = change(doc)\n",
    "        word = {}\n",
    "        for tok in token:\n",
    "            if tok in word.keys():\n",
    "                word[tok] = word[tok] + 1\n",
    "            else:\n",
    "                word.update({tok : 1})\n",
    "        word_list.append(word)\n",
    "    j = 0\n",
    "    dat = np.zeros((conten, 3), dtype = int)\n",
    "    for i, word in enumerate(word_list):\n",
    "        for key, value in word.items():\n",
    "            if(key in words):\n",
    "                dat[j, :] = np.array([int(i), int(words.index(key)), int(value)])\n",
    "                j = j + 1\n",
    "    data = coo_matrix((dat[:, 2], (dat[:, 0] , dat[:, 1] )),shape=(len(label), len(words)))\n",
    "    return (data, label)"
   ]
  },
  {
   "cell_type": "code",
   "execution_count": 8,
   "metadata": {},
   "outputs": [
    {
     "name": "stdout",
     "output_type": "stream",
     "text": [
      "Training size = 327 . accuracy = 86.25\n"
     ]
    }
   ],
   "source": [
    "(words, conten) = dict_word(document)\n",
    "(train_data, train_label) = read_data(document, label, words, conten)\n",
    "(test_data, test_label) = read_data(document_test, label_test, words, conten)\n",
    "clf = MultinomialNB()\n",
    "clf.fit(train_data, train_label)\n",
    "y_pred = clf.predict(test_data)\n",
    "print('Training size =',train_data.shape[0],'. accuracy =', accuracy_score(y_pred,test_label)*100)"
   ]
  },
  {
   "cell_type": "code",
   "execution_count": null,
   "metadata": {},
   "outputs": [],
   "source": []
  },
  {
   "cell_type": "code",
   "execution_count": null,
   "metadata": {},
   "outputs": [],
   "source": []
  },
  {
   "cell_type": "code",
   "execution_count": null,
   "metadata": {},
   "outputs": [],
   "source": []
  }
 ],
 "metadata": {
  "kernelspec": {
   "display_name": "Python 3",
   "language": "python",
   "name": "python3"
  },
  "language_info": {
   "codemirror_mode": {
    "name": "ipython",
    "version": 3
   },
   "file_extension": ".py",
   "mimetype": "text/x-python",
   "name": "python",
   "nbconvert_exporter": "python",
   "pygments_lexer": "ipython3",
   "version": "3.7.3"
  }
 },
 "nbformat": 4,
 "nbformat_minor": 2
}
