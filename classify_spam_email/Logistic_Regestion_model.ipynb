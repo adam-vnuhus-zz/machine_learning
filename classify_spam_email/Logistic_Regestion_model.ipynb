{
 "cells": [
  {
   "cell_type": "code",
   "execution_count": null,
   "metadata": {},
   "outputs": [],
   "source": []
  },
  {
   "cell_type": "code",
   "execution_count": 113,
   "metadata": {},
   "outputs": [],
   "source": [
    "import numpy as np\n"
   ]
  },
  {
   "cell_type": "code",
   "execution_count": 114,
   "metadata": {},
   "outputs": [],
   "source": [
    "# calculate value of sigmoid of a variation\n",
    "def sigmoid(S):\n",
    "    return 1/(1+np.exp(-S))"
   ]
  },
  {
   "cell_type": "code",
   "execution_count": 115,
   "metadata": {},
   "outputs": [],
   "source": [
    "# calculate value of sigmoid of a linear z=X.w\n",
    "def prob(w,X):\n",
    "    return sigmoid(X.dot(w))"
   ]
  },
  {
   "cell_type": "code",
   "execution_count": 116,
   "metadata": {},
   "outputs": [],
   "source": [
    "# loss function\n",
    "def loss(w, X, y, lam):\n",
    "    z = prob(w,X)\n",
    "    return -np.mean(y*np.log(z) + (1-y)*np.log(1-z) + 0.5*lam/X.shape[0]*np.sum(w*w))"
   ]
  },
  {
   "cell_type": "code",
   "execution_count": 117,
   "metadata": {},
   "outputs": [],
   "source": [
    "# training function with regulation norm l1\n",
    "def logistic_regression(w_init, X, y, lam =0.001, lr=0.1, nEpoches=2000):\n",
    "    N, d= X.shape\n",
    "    w = w_old = w_init\n",
    "    loss_hist =[loss(w_init, X, y, lam)]\n",
    "    ep = 0\n",
    "    while ep < nEpoches:\n",
    "        ep += 1;\n",
    "        mix_ids = np.random.permutation(N)\n",
    "        for i in mix_ids:\n",
    "            xi= X[i]\n",
    "            yi = y[i]\n",
    "            zi = sigmoid(xi.dot(w))\n",
    "            w = w -lr*((zi-yi)*xi+lam*w)\n",
    "        loss_hist.append(loss(w, X, y, lam))\n",
    "        if np.linalg.norm(w - w_old)/d <1e-6:\n",
    "            break\n",
    "        w_old = w\n",
    "    return w, loss_hist"
   ]
  },
  {
   "cell_type": "code",
   "execution_count": 118,
   "metadata": {},
   "outputs": [],
   "source": [
    "#classify with X is a matrix (M,D), M is the number of samples, D is the number of feature\n",
    "def predict(w, X, threshold =0.5):\n",
    "    res = np.zeros(X.shape[0])\n",
    "    res[np.where(prob(w,X)> threshold)[0]]=1\n",
    "    return res"
   ]
  },
  {
   "cell_type": "code",
   "execution_count": 149,
   "metadata": {},
   "outputs": [],
   "source": [
    "#accurracy of Model with w parameter\n",
    "def accurracy(w,X_test, y_text):\n",
    "    y_predict = predict(w,X_test)\n",
    "    M=X_test.shape[0]\n",
    "    count=0\n",
    "    for m in range(0,M):\n",
    "        if y_predict[m]==y_test[m]:\n",
    "            count+=1;\n",
    "    return count/M"
   ]
  },
  {
   "cell_type": "code",
   "execution_count": 150,
   "metadata": {},
   "outputs": [
    {
     "name": "stderr",
     "output_type": "stream",
     "text": [
      "/home/quynhsu/.local/lib/python3.6/site-packages/ipykernel_launcher.py:3: RuntimeWarning: divide by zero encountered in log\n",
      "  This is separate from the ipykernel package so we can avoid doing imports until\n",
      "/home/quynhsu/.local/lib/python3.6/site-packages/ipykernel_launcher.py:3: RuntimeWarning: invalid value encountered in multiply\n",
      "  This is separate from the ipykernel package so we can avoid doing imports until\n",
      "/home/quynhsu/.local/lib/python3.6/site-packages/ipykernel_launcher.py:2: RuntimeWarning: overflow encountered in exp\n",
      "  \n"
     ]
    },
    {
     "name": "stdout",
     "output_type": "stream",
     "text": [
      "569\n",
      "0.9033391915641477\n"
     ]
    }
   ],
   "source": [
    "#example with predict beastcancer problem \n",
    "A = np.loadtxt('wdbc.txt', delimiter=',')\n",
    "y = y_test=np.array(A[:,1])\n",
    "X = X_test=np.array(A[:,2:])\n",
    "w_init = np.random.randn(X.shape[1])\n",
    "lam =0.0001\n",
    "w, loss_hist=logistic_regression(w_init, X, y, lam, lr =0.05, nEpoches = 500)\n",
    "x_input =np.array(A[:, 2:])\n",
    "print(x_input.shape[0])\n",
    "#y_pre=predict(w,x_input,threshold = 0.5)\n",
    "a=accurracy(w,X_test, y_test)\n",
    "print(a)"
   ]
  },
  {
   "cell_type": "code",
   "execution_count": null,
   "metadata": {},
   "outputs": [],
   "source": []
  },
  {
   "cell_type": "code",
   "execution_count": 136,
   "metadata": {},
   "outputs": [
    {
     "name": "stdout",
     "output_type": "stream",
     "text": [
      "1\n"
     ]
    }
   ],
   "source": []
  }
 ],
 "metadata": {
  "kernelspec": {
   "display_name": "Python 3",
   "language": "python",
   "name": "python3"
  },
  "language_info": {
   "codemirror_mode": {
    "name": "ipython",
    "version": 3
   },
   "file_extension": ".py",
   "mimetype": "text/x-python",
   "name": "python",
   "nbconvert_exporter": "python",
   "pygments_lexer": "ipython3",
   "version": "3.6.8"
  }
 },
 "nbformat": 4,
 "nbformat_minor": 2
}
