{
 "cells": [
  {
   "cell_type": "code",
   "execution_count": 241,
   "metadata": {},
   "outputs": [
    {
     "ename": "SyntaxError",
     "evalue": "invalid syntax (<ipython-input-241-3b5d2897d7b6>, line 1)",
     "output_type": "error",
     "traceback": [
      "\u001b[0;36m  File \u001b[0;32m\"<ipython-input-241-3b5d2897d7b6>\"\u001b[0;36m, line \u001b[0;32m1\u001b[0m\n\u001b[0;31m    Model includes three functions\u001b[0m\n\u001b[0m                 ^\u001b[0m\n\u001b[0;31mSyntaxError\u001b[0m\u001b[0;31m:\u001b[0m invalid syntax\n"
     ]
    }
   ],
   "source": [
    "Model includes three functions\n",
    "    training: Input : X_train, y_train\n",
    "                Out : theta, mu_jk, sigma_jk\n",
    "    classify: Input : X,  theta, mu_jk, sigma_jk\n",
    "                 Out: y_predict\n",
    "    Acurracy: Input : X_test, y_test,  theta, mu_jk, sigma_jk\n",
    "                Out : accuracy of model"
   ]
  },
  {
   "cell_type": "code",
   "execution_count": 191,
   "metadata": {},
   "outputs": [],
   "source": [
    "import numpy as np\n",
    "import math"
   ]
  },
  {
   "cell_type": "code",
   "execution_count": 197,
   "metadata": {},
   "outputs": [],
   "source": [
    "def training(X_train, y_train):\n",
    "    N,D = X_train.shape\n",
    "    classes, noElementOfClass = np.unique(y_train, return_counts=True)\n",
    "    K=classes.size\n",
    "    theta = np.ones((K,1))\n",
    "    mu_jk = np.ones((K,D))\n",
    "    sigma_jk = np.ones((K,D))\n",
    "    for k in range(0,K):\n",
    "        theta[k]= noElementOfClass[k] \n",
    "        ide = np.where(y_train==classes[k])[-1]\n",
    "        X=[]\n",
    "        for i in ide:\n",
    "             X.append(X_train[i][:])\n",
    "        X=np.array(X)\n",
    "        mu_jk[k][:]= np.sum(X,0)/X.shape[0]\n",
    "        sigma_jk[k][:]= np.square(X[k][:]-mu_jk[k][:])/X.shape[0]\n",
    "    theta/=N\n",
    "    return theta, mu_jk, sigma_jk"
   ]
  },
  {
   "cell_type": "code",
   "execution_count": 228,
   "metadata": {},
   "outputs": [],
   "source": [
    "def classify(theta, mu_jk, sigma_jk, x):\n",
    "    K,D = mu_jk.shape\n",
    "    p= np.ones((K,1))\n",
    "    for k in range(0, K):\n",
    "        l=np.log(1/np.sqrt(2*np.pi*sigma_jk[k][:]))-(np.square(x[:]-mu_jk[k][:])/(2*sigma_jk[k][:]))\n",
    "        p[k] = np.log(theta[k])+np.sum(l)\n",
    "    return np.argmax(p)"
   ]
  },
  {
   "cell_type": "code",
   "execution_count": 239,
   "metadata": {},
   "outputs": [],
   "source": [
    "def accuracy(theta, mu_jk, sigma_jk,X_test, y_test):\n",
    "    K, D = sigma_jk.shape\n",
    "    M, D  = X_test.shape\n",
    "    y_pre = np.ones((M,1))\n",
    "    count =0;\n",
    "    for j in range(0,M):\n",
    "        y_pre[j] = classify(theta, mu_jk, sigma_jk, X_test[j][:])\n",
    "        if y_pre[j]==y_test[j]:\n",
    "            count+=1\n",
    "    return count/M"
   ]
  },
  {
   "cell_type": "code",
   "execution_count": 240,
   "metadata": {},
   "outputs": [
    {
     "name": "stdout",
     "output_type": "stream",
     "text": [
      "[[0.5]\n",
      " [0.5]]\n",
      "[[3.  6.  2.  1.5]\n",
      " [4.  2.5 3.5 2.5]]\n",
      "[[2.    8.    0.5   0.125]\n",
      " [4.5   0.125 0.125 1.125]]\n",
      "0\n",
      "0.75\n"
     ]
    }
   ],
   "source": [
    "X=np.array([[7,2,3,1], [1,2,3,2],[1,3,4,4],[5,10,1,1]])\n",
    "y=np.array([1,0,1,0])\n",
    "theta, mu_jk, sigma_jk=training(X, y)\n",
    "print(theta)\n",
    "print(mu_jk)\n",
    "print(sigma_jk)\n",
    "x=np.array([5,10,1,1])\n",
    "y=classify(theta, mu_jk, sigma_jk, x)\n",
    "print(y)\n",
    "X_test=np.array([[7,2,3,1], [1,2,3,2],[1,3,4,4],[5,10,1,1]])\n",
    "y_test=np.array([1,0,1,0])\n",
    "acc= accuracy(theta, mu_jk, sigma_jk,X_test, y_test)\n",
    "print(acc)"
   ]
  },
  {
   "cell_type": "code",
   "execution_count": null,
   "metadata": {},
   "outputs": [],
   "source": []
  },
  {
   "cell_type": "code",
   "execution_count": null,
   "metadata": {},
   "outputs": [],
   "source": []
  }
 ],
 "metadata": {
  "kernelspec": {
   "display_name": "Python 3",
   "language": "python",
   "name": "python3"
  },
  "language_info": {
   "codemirror_mode": {
    "name": "ipython",
    "version": 3
   },
   "file_extension": ".py",
   "mimetype": "text/x-python",
   "name": "python",
   "nbconvert_exporter": "python",
   "pygments_lexer": "ipython3",
   "version": "3.6.8"
  }
 },
 "nbformat": 4,
 "nbformat_minor": 2
}
