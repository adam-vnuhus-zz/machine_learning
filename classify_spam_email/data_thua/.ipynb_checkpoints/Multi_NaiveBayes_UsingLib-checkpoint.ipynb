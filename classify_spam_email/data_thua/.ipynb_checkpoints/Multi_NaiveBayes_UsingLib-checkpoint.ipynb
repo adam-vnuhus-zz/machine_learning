{
 "cells": [
  {
   "cell_type": "code",
   "execution_count": 1,
   "metadata": {},
   "outputs": [],
   "source": [
    "from __future__ import print_function\n",
    "import numpy as np\n",
    "from scipy.sparse import coo_matrix\n",
    "from sklearn.naive_bayes import MultinomialNB, BernoulliNB\n",
    "from sklearn.metrics import accuracy_score"
   ]
  },
  {
   "cell_type": "code",
   "execution_count": 2,
   "metadata": {},
   "outputs": [],
   "source": [
    "def read_data(data_fn, label_fn, nwords):\n",
    "    \n",
    "    with open(nwords, 'r', encoding = 'utf-8') as f:\n",
    "        content = f.readlines()\n",
    "    nwords = [int(x.strip()) for x in content][0]\n",
    "    ## read label_fn\n",
    "    with open(label_fn, 'r', encoding = 'utf-8') as f:\n",
    "        content = f.readlines()\n",
    "    label = [int(x.strip()) for x in content]\n",
    "    ## read data_fn\n",
    "    with open (data_fn, 'r', encoding = 'utf-8') as f:\n",
    "        content = f.readlines()\n",
    "    # remove ’\\n’ at the end of each line\n",
    "    content = [x.strip() for x in content]\n",
    "    dat = np.zeros((len(content), 3), dtype = int)\n",
    "    for i, line in enumerate(content):\n",
    "        a = line.split(' ')\n",
    "        dat[i, :] = np.array([int(a[0]), int(a[1]), int(a[2])])\n",
    "    # remember to -1 at coordinate since we’re in Python\n",
    "    data = coo_matrix((dat[:, 2], (dat[:, 0] , dat[:, 1] )),shape=(len(label), nwords))\n",
    "    return (data, label)"
   ]
  },
  {
   "cell_type": "code",
   "execution_count": 3,
   "metadata": {},
   "outputs": [
    {
     "name": "stdout",
     "output_type": "stream",
     "text": [
      "Length dict = 1888 . accuracy_test_folder1 = 67.5\n",
      "Length dict = 1888 . accuracy_train_folder1 = 89.38906752411575\n",
      "----------------------------------------\n",
      "Length dict = 1967 . accuracy_test_folder2 = 67.5\n",
      "Length dict = 1967 . accuracy_train_folder2 = 91.31832797427653\n",
      "----------------------------------------\n",
      "Length dict = 1875 . accuracy_test_folder3 = 62.5\n",
      "Length dict = 1875 . accuracy_train_folder3 = 89.06752411575563\n",
      "----------------------------------------\n",
      "Length dict = 1867 . accuracy_test_folder4 = 56.25\n",
      "Length dict = 1867 . accuracy_train_folder4 = 91.31832797427653\n",
      "----------------------------------------\n",
      "Length dict = 1929 . accuracy_test_folder5 = 66.19718309859155\n",
      "Length dict = 1929 . accuracy_train_folder5 = 90.34267912772586\n",
      "----------------------------------------\n"
     ]
    }
   ],
   "source": [
    "sum_acc_test = 0\n",
    "aver_acc_test = 0\n",
    "sum_acc_train = 0\n",
    "aver_acc_train = 0\n",
    "for i in range(1, 6):\n",
    "    train_data_fn = 'train_fn{}.txt'.format(i)\n",
    "    train_label_fn = 'train_label{}.txt'.format(i)\n",
    "    test_data_fn = 'test_fn{}.txt'.format(i)\n",
    "    test_label_fn = 'test_label{}.txt'.format(i)\n",
    "    nwords = 'nword{}.txt'.format(i)\n",
    "    (train_data, train_label) = read_data(train_data_fn, train_label_fn, nwords)\n",
    "    (test_data, test_label) = read_data(test_data_fn, test_label_fn, nwords)\n",
    "    clf = MultinomialNB()\n",
    "    clf.fit(train_data, train_label)\n",
    "    y_pred_test = clf.predict(test_data)\n",
    "    \n",
    "    y_pred_train = clf.predict(train_data)\n",
    "    \n",
    "    acc_test = accuracy_score(y_pred_test,test_label)\n",
    "    \n",
    "    acc_train = accuracy_score(y_pred_train,train_label)\n",
    "    \n",
    "    sum_acc_test = sum_acc_test + acc_test\n",
    "    sum_acc_train = sum_acc_train + acc_train\n",
    "    \n",
    "    print('Length dict =',train_data.shape[1],'. accuracy_test_folder{} ='.format(i), acc_test*100)\n",
    "    \n",
    "    print('Length dict =',train_data.shape[1],'. accuracy_train_folder{} ='.format(i), acc_train*100)\n",
    "    \n",
    "    print('----------------------------------------')\n",
    "\n",
    "aver_acc_train = sum_acc_train/5\n",
    "aver_acc_test = sum_acc_test/5\n",
    "print('average accurracy_train : ', aver_acc_train)\n",
    "print('average accurracy_test : ', aver_acc_test)"
   ]
  }
 ],
 "metadata": {
  "kernelspec": {
   "display_name": "Python 3",
   "language": "python",
   "name": "python3"
  },
  "language_info": {
   "codemirror_mode": {
    "name": "ipython",
    "version": 3
   },
   "file_extension": ".py",
   "mimetype": "text/x-python",
   "name": "python",
   "nbconvert_exporter": "python",
   "pygments_lexer": "ipython3",
   "version": "3.7.3"
  }
 },
 "nbformat": 4,
 "nbformat_minor": 2
}
