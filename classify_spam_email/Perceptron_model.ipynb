{
 "cells": [
  {
   "cell_type": "code",
   "execution_count": 2,
   "metadata": {},
   "outputs": [],
   "source": [
    "from sklearn.linear_model import Perceptron\n",
    "import numpy as np"
   ]
  },
  {
   "cell_type": "code",
   "execution_count": null,
   "metadata": {},
   "outputs": [],
   "source": [
    "\n",
    "\n",
    "clf = Perceptron(tol=1e-3, random_state=0)\n",
    "clf.fit(X, y)  \n",
    "Perceptron(alpha=0.0001, class_weight=None, early_stopping=False, eta0=1.0, fit_intercept=True, max_iter=1000, n_iter_no_change=5, n_jobs=None,penalty=None, random_state=0, shuffle=True, tol=0.001,validation_fraction=0.1, verbose=0, warm_start=False)\n",
    "clf.score(X, y) "
   ]
  },
  {
   "cell_type": "code",
   "execution_count": 49,
   "metadata": {},
   "outputs": [
    {
     "name": "stdout",
     "output_type": "stream",
     "text": [
      "len of dict folder 1: 2617\n",
      "accurracy_test of folder 1:  0.7746478873239436\n",
      "accurracy_train of folder 1:  0.9807073954983923\n",
      "len of dict folder 2: 2737\n",
      "accurracy_test of folder 2:  0.7746478873239436\n",
      "accurracy_train of folder 2:  0.9935691318327974\n",
      "len of dict folder 3: 2592\n",
      "accurracy_test of folder 3:  0.7746478873239436\n",
      "accurracy_train of folder 3:  0.9903536977491961\n",
      "len of dict folder 4: 2580\n",
      "accurracy_test of folder 4:  0.7746478873239436\n",
      "accurracy_train of folder 4:  0.9839228295819936\n",
      "len of dict folder 5: 2716\n",
      "accurracy_test of folder 5:  0.7746478873239436\n",
      "accurracy_train of folder 5:  1.0\n",
      "average accurracy_train :  0.9897106109324758\n",
      "average accurracy_test :  0.7746478873239436\n"
     ]
    }
   ],
   "source": [
    "sum_acc_test = 0\n",
    "aver_acc_test = 0\n",
    "sum_acc_train = 0\n",
    "aver_acc_train = 0\n",
    "for i in range(1, 6):\n",
    "    A = np.loadtxt('data/train{}.txt'.format(i))\n",
    "    X_train = np.array(A[:, 1: ])\n",
    "    print('len of dict folder {}:'.format(i), X_train.shape[1])\n",
    "    y_train = np.array(A[:, 0])\n",
    "    T = np.loadtxt('data/test{}.txt'.format(i))\n",
    "    X_test=np.array(T[:, 1: ])\n",
    "    y_test=np.array(T[:, 0])\n",
    "    clf = Perceptron(tol=1e-3, random_state=0)\n",
    "    clf.fit(X_train, y_train)  \n",
    "    acc_train=clf.score(X_train, y_train)\n",
    "    sum_acc_test = sum_acc_test + acc_test\n",
    "    sum_acc_train = sum_acc_train + acc_train\n",
    "    print('accurracy_test of folder {}: '.format(i), acc_test)\n",
    "    print('accurracy_train of folder {}: '.format(i), acc_train)\n",
    "aver_acc_train = sum_acc_train/5\n",
    "aver_acc_test = sum_acc_test/5\n",
    "print('average accurracy_train : ', aver_acc_train)\n",
    "print('average accurracy_test : ', aver_acc_test)"
   ]
  },
  {
   "cell_type": "code",
   "execution_count": 46,
   "metadata": {},
   "outputs": [
    {
     "name": "stdout",
     "output_type": "stream",
     "text": [
      "[[  51.224  313.186 -272.978 ... -231.992  258.006 -528.99 ]]\n",
      "321\n"
     ]
    },
    {
     "data": {
      "text/plain": [
       "0.46417445482866043"
      ]
     },
     "execution_count": 46,
     "metadata": {},
     "output_type": "execute_result"
    }
   ],
   "source": [
    "import math\n",
    "#X= np.array([[1,-12,3],[1,-2,3],[1,2,3]])\n",
    "#y= np.array([[-1],[-1],[-1]])\n",
    "def training(X,y,T,eta):\n",
    "    N, D = X.shape\n",
    "    X = np.concatenate((np.ones((1,N)),X.T)).T\n",
    "    D+=1;\n",
    "    theta = np.random.randint(1000, size=(1, D))-540\n",
    "    h = np.ones((N,1))\n",
    "    for t in (1,T):\n",
    "        for  i in range(N):\n",
    "            h[i] = np.sign(np.dot(theta,X[i][:]))\n",
    "            if h[i]==0:\n",
    "                h[i]=-1\n",
    "            if h[i] != y[i]:\n",
    "                theta = theta + eta*np.dot(y[i],X[i,:])\n",
    "    return theta\n",
    "\n",
    "def classify(x,theta):\n",
    "    x = np.append(1,x)\n",
    "    h = np.sign(np.dot(theta,x))\n",
    "    if h==0:\n",
    "        h=-1;\n",
    "    return h\n",
    "\n",
    "def accuracy(X, y, theta):\n",
    "    M = X.shape[0]\n",
    "    y_pre = np.ones((M,1))\n",
    "    count = 0;\n",
    "    count1=0\n",
    "    for i in range(M):\n",
    "        y_pre[i] = classify(X[i,:],theta)\n",
    "        if (y_pre[i]==y[i]):\n",
    "            count+=1\n",
    "        if(y_pre[i]==-1):\n",
    "            count1+=1\n",
    "    print(M)\n",
    "    return count/M\n",
    "\n",
    "for i, y in enumerate(y_train):\n",
    "    if y==0:\n",
    "        y_train[i]=-1\n",
    "theta=training(X_train,y_train,10000000000, 0.001)\n",
    "print(theta)\n",
    "#x=np.array([1,-12,3])\n",
    "#h= classify(x,theta)\n",
    "#print(h)\n",
    "\n",
    "accuracy(X_train,y_train,theta)"
   ]
  },
  {
   "cell_type": "code",
   "execution_count": 58,
   "metadata": {},
   "outputs": [
    {
     "name": "stdout",
     "output_type": "stream",
     "text": [
      "[[1.]\n",
      " [1.]\n",
      " [1.]\n",
      " [1.]]\n",
      "[ 1  1 -2  3]\n",
      "[1.]\n"
     ]
    }
   ],
   "source": []
  }
 ],
 "metadata": {
  "kernelspec": {
   "display_name": "Python 3",
   "language": "python",
   "name": "python3"
  },
  "language_info": {
   "codemirror_mode": {
    "name": "ipython",
    "version": 3
   },
   "file_extension": ".py",
   "mimetype": "text/x-python",
   "name": "python",
   "nbconvert_exporter": "python",
   "pygments_lexer": "ipython3",
   "version": "3.6.8"
  }
 },
 "nbformat": 4,
 "nbformat_minor": 2
}
