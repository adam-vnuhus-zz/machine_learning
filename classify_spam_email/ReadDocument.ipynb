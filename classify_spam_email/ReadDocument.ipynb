{
 "cells": [
  {
   "cell_type": "code",
   "execution_count": 65,
   "metadata": {},
   "outputs": [],
   "source": [
    "from sklearn.utils import shuffle\n",
    "from pyvi import ViTokenizer #For split vietnamese words\n",
    "import pandas as pd #For reading xlsx file\n",
    "from gensim.parsing.preprocessing import strip_non_alphanum, strip_multiple_whitespaces,preprocess_string, split_alphanum, strip_short, strip_numeric\n",
    "import re\n",
    "import numpy as np\n",
    "from scipy.sparse import coo_matrix\n",
    "from sklearn.naive_bayes import MultinomialNB, BernoulliNB\n",
    "from sklearn.metrics import accuracy_score\n",
    "import string"
   ]
  },
  {
   "cell_type": "code",
   "execution_count": 66,
   "metadata": {},
   "outputs": [],
   "source": [
    "doc = []\n",
    "label = []\n",
    "with open('data_email.txt','r', encoding= 'utf-8') as f:\n",
    "    for line in f:\n",
    "        doc.append(line[:])\n",
    "doc = shuffle(doc,random_state = 0)\n",
    "document = []\n",
    "for d in doc:\n",
    "    ind = d.find('|')        \n",
    "    if ind == 5:   \n",
    "        label.append(1)\n",
    "    elif ind == 8:\n",
    "        label.append(0)\n",
    "    document.append(d[ind+2:])"
   ]
  },
  {
   "cell_type": "code",
   "execution_count": 67,
   "metadata": {},
   "outputs": [],
   "source": [
    "def raw_text_preprocess(raw):\n",
    "    raw = raw.lower()\n",
    "    raw = re.sub(r\"(http\\S+)|(https\\S+)\", \"URL_Change\", raw)\n",
    "    raw = re.sub(r\"(www\\S+)|(\\S+@\\S+)\", \"URL_Change\", raw)\n",
    "    raw = re.sub(r\"([0-9][0-9]/[0-9][0-9]/[0-9][0-9][0-9][0-9])|([0-9][0-9]/[0-9][0-9])|([0-9][0-9]/[0-9][0-9][0-9][0-9])\", \"DATE_Change\", raw)\n",
    "    raw = re.sub(r\"([0-9][0-9]-[0-9][0-9]-[0-9][0-9][0-9][0-9])|([0-9][0-9]-[0-9][0-9])|([0-9][0-9]-[0-9][0-9][0-9][0-9])\", \"DATE_Change\", raw)\n",
    "    raw = strip_numeric(raw)\n",
    "    raw = strip_short(raw, minsize=2)\n",
    "    raw = ViTokenizer.tokenize(raw)\n",
    "    return raw"
   ]
  },
  {
   "cell_type": "code",
   "execution_count": 68,
   "metadata": {},
   "outputs": [],
   "source": [
    "document = [raw_text_preprocess(d) for d in document]"
   ]
  },
  {
   "cell_type": "code",
   "execution_count": null,
   "metadata": {},
   "outputs": [],
   "source": []
  },
  {
   "cell_type": "code",
   "execution_count": 69,
   "metadata": {},
   "outputs": [
    {
     "name": "stdout",
     "output_type": "stream",
     "text": [
      "Test fold: 3\n",
      "fold  3 :\n",
      "Length of train document :  80\n",
      "Length of test document :  327\n"
     ]
    }
   ],
   "source": [
    "document_test = []\n",
    "label_test = []\n",
    "document_train = []\n",
    "label_train = []\n",
    "\n",
    "i = int(input(\"Test fold: \"))\n",
    "\n",
    "document_test = document[(i-1)*80:i*80]\n",
    "label_test = label[(i-1)*80:i*80]\n",
    "document_train = document[:(i-1)*80+1]+document[i*80+1:]\n",
    "label_train = label[:(i-1)*80+1]+label[i*80+1:]\n",
    "\n",
    "print(\"fold \",i,\":\")\n",
    "print(\"Length of train document : \",len(document_test))\n",
    "print(\"Length of test document : \",len(document_train))"
   ]
  },
  {
   "cell_type": "code",
   "execution_count": null,
   "metadata": {},
   "outputs": [],
   "source": []
  },
  {
   "cell_type": "code",
   "execution_count": null,
   "metadata": {},
   "outputs": [],
   "source": []
  }
 ],
 "metadata": {
  "kernelspec": {
   "display_name": "Python 3",
   "language": "python",
   "name": "python3"
  },
  "language_info": {
   "codemirror_mode": {
    "name": "ipython",
    "version": 3
   },
   "file_extension": ".py",
   "mimetype": "text/x-python",
   "name": "python",
   "nbconvert_exporter": "python",
   "pygments_lexer": "ipython3",
   "version": "3.7.1"
  }
 },
 "nbformat": 4,
 "nbformat_minor": 2
}
