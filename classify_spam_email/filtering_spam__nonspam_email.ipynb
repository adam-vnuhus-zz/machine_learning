{
 "cells": [
  {
   "cell_type": "code",
   "execution_count": 1,
   "metadata": {},
   "outputs": [
    {
     "name": "stdout",
     "output_type": "stream",
     "text": [
      "Requirement already up-to-date: gensim in c:\\programdata\\anaconda3\\lib\\site-packages (3.8.1)\n",
      "Requirement already satisfied, skipping upgrade: smart-open>=1.8.1 in c:\\programdata\\anaconda3\\lib\\site-packages (from gensim) (1.8.4)\n",
      "Requirement already satisfied, skipping upgrade: six>=1.5.0 in c:\\users\\admin\\appdata\\roaming\\python\\python37\\site-packages (from gensim) (1.12.0)\n",
      "Requirement already satisfied, skipping upgrade: numpy>=1.11.3 in c:\\programdata\\anaconda3\\lib\\site-packages (from gensim) (1.16.4)\n",
      "Requirement already satisfied, skipping upgrade: scipy>=0.18.1 in c:\\programdata\\anaconda3\\lib\\site-packages (from gensim) (1.2.1)\n",
      "Requirement already satisfied, skipping upgrade: boto>=2.32 in c:\\programdata\\anaconda3\\lib\\site-packages (from smart-open>=1.8.1->gensim) (2.49.0)\n",
      "Requirement already satisfied, skipping upgrade: boto3 in c:\\programdata\\anaconda3\\lib\\site-packages (from smart-open>=1.8.1->gensim) (1.10.1)\n",
      "Requirement already satisfied, skipping upgrade: requests in c:\\programdata\\anaconda3\\lib\\site-packages (from smart-open>=1.8.1->gensim) (2.22.0)\n",
      "Requirement already satisfied, skipping upgrade: jmespath<1.0.0,>=0.7.1 in c:\\programdata\\anaconda3\\lib\\site-packages (from boto3->smart-open>=1.8.1->gensim) (0.9.4)\n",
      "Requirement already satisfied, skipping upgrade: botocore<1.14.0,>=1.13.1 in c:\\programdata\\anaconda3\\lib\\site-packages (from boto3->smart-open>=1.8.1->gensim) (1.13.1)\n",
      "Requirement already satisfied, skipping upgrade: s3transfer<0.3.0,>=0.2.0 in c:\\programdata\\anaconda3\\lib\\site-packages (from boto3->smart-open>=1.8.1->gensim) (0.2.1)\n",
      "Requirement already satisfied, skipping upgrade: certifi>=2017.4.17 in c:\\programdata\\anaconda3\\lib\\site-packages (from requests->smart-open>=1.8.1->gensim) (2019.6.16)\n",
      "Requirement already satisfied, skipping upgrade: idna<2.9,>=2.5 in c:\\programdata\\anaconda3\\lib\\site-packages (from requests->smart-open>=1.8.1->gensim) (2.8)\n",
      "Requirement already satisfied, skipping upgrade: urllib3!=1.25.0,!=1.25.1,<1.26,>=1.21.1 in c:\\programdata\\anaconda3\\lib\\site-packages (from requests->smart-open>=1.8.1->gensim) (1.24.2)\n",
      "Requirement already satisfied, skipping upgrade: chardet<3.1.0,>=3.0.2 in c:\\programdata\\anaconda3\\lib\\site-packages (from requests->smart-open>=1.8.1->gensim) (3.0.4)\n",
      "Requirement already satisfied, skipping upgrade: python-dateutil<3.0.0,>=2.1; python_version >= \"2.7\" in c:\\programdata\\anaconda3\\lib\\site-packages (from botocore<1.14.0,>=1.13.1->boto3->smart-open>=1.8.1->gensim) (2.8.0)\n",
      "Requirement already satisfied, skipping upgrade: docutils<0.16,>=0.10 in c:\\programdata\\anaconda3\\lib\\site-packages (from botocore<1.14.0,>=1.13.1->boto3->smart-open>=1.8.1->gensim) (0.14)\n",
      "Note: you may need to restart the kernel to use updated packages.\n"
     ]
    }
   ],
   "source": [
    "pip install -U gensim"
   ]
  },
  {
   "cell_type": "code",
   "execution_count": 2,
   "metadata": {},
   "outputs": [
    {
     "name": "stdout",
     "output_type": "stream",
     "text": [
      "Requirement already satisfied: pyvi in c:\\programdata\\anaconda3\\lib\\site-packages (0.0.9.7)\n",
      "Requirement already satisfied: sklearn-crfsuite in c:\\programdata\\anaconda3\\lib\\site-packages (from pyvi) (0.3.6)\n",
      "Requirement already satisfied: scikit-learn in c:\\programdata\\anaconda3\\lib\\site-packages (from pyvi) (0.21.2)\n",
      "Requirement already satisfied: tqdm>=2.0 in c:\\programdata\\anaconda3\\lib\\site-packages (from sklearn-crfsuite->pyvi) (4.32.1)\n",
      "Requirement already satisfied: python-crfsuite>=0.8.3 in c:\\programdata\\anaconda3\\lib\\site-packages (from sklearn-crfsuite->pyvi) (0.9.6)\n",
      "Requirement already satisfied: six in c:\\users\\admin\\appdata\\roaming\\python\\python37\\site-packages (from sklearn-crfsuite->pyvi) (1.12.0)\n",
      "Requirement already satisfied: tabulate in c:\\programdata\\anaconda3\\lib\\site-packages (from sklearn-crfsuite->pyvi) (0.8.5)\n",
      "Requirement already satisfied: scipy>=0.17.0 in c:\\programdata\\anaconda3\\lib\\site-packages (from scikit-learn->pyvi) (1.2.1)\n",
      "Requirement already satisfied: joblib>=0.11 in c:\\programdata\\anaconda3\\lib\\site-packages (from scikit-learn->pyvi) (0.13.2)\n",
      "Requirement already satisfied: numpy>=1.11.0 in c:\\programdata\\anaconda3\\lib\\site-packages (from scikit-learn->pyvi) (1.16.4)\n",
      "Note: you may need to restart the kernel to use updated packages.\n"
     ]
    }
   ],
   "source": [
    "pip install pyvi"
   ]
  },
  {
   "cell_type": "code",
   "execution_count": 3,
   "metadata": {},
   "outputs": [],
   "source": [
    "from pyvi import ViTokenizer #For split vietnamese words\n",
    "#import pandas as pd #For reading xlsx file\n",
    "from gensim.parsing.preprocessing import strip_non_alphanum, strip_multiple_whitespaces,preprocess_string, split_alphanum, strip_short, strip_numeric\n",
    "import re #For preprocessing raw text"
   ]
  },
  {
   "cell_type": "code",
   "execution_count": 4,
   "metadata": {},
   "outputs": [],
   "source": [
    "f = open('spam.txt','r', encoding='utf-8')\n",
    "s = f.readline()\n",
    "f.close()"
   ]
  },
  {
   "cell_type": "code",
   "execution_count": null,
   "metadata": {},
   "outputs": [],
   "source": []
  },
  {
   "cell_type": "code",
   "execution_count": 5,
   "metadata": {},
   "outputs": [],
   "source": [
    "# Dữ liệu ban đầu"
   ]
  },
  {
   "cell_type": "code",
   "execution_count": 6,
   "metadata": {},
   "outputs": [
    {
     "name": "stdout",
     "output_type": "stream",
     "text": [
      "spam | ✅Cơ hội được tham gia hỗ trợ trực tiếp các dự án \"\"khủng\"\" với hàng triệu khách hàng trong nước và quốc tế. ✅ Được trải nghiệm môi trường làm việc trẻ, chuyên nghiệp và sáng tạo. ✅ Lương trong thời gian đào tạo từ 300 USD++, Phụ cấp cơm trưa, cafe miễn phí. ✅ Được hướng dẫn, đào tạo từ các mentors là chuyên gia hàng đầu trong lĩnh vực Marketing. ✅≥.....HÌNH THỨC ĐĂNG KÝ: ✅ B1: Truy cập: http://bit.ly/2AezDzP Click Đăng kí & Điền thông tin ✅ B2: Like Fanpage http://bit.ly/2PctnNo, bật chế độ See First ✅ B3: Join group VNG HN - TALENT FRESHER : http://bit.ly/2PgfA8R\\n'\n",
      "\n"
     ]
    }
   ],
   "source": [
    "print(s)"
   ]
  },
  {
   "cell_type": "code",
   "execution_count": 7,
   "metadata": {},
   "outputs": [],
   "source": [
    "# Loại bỏ tất cả các đường dẫn trong văn bản"
   ]
  },
  {
   "cell_type": "code",
   "execution_count": 8,
   "metadata": {},
   "outputs": [
    {
     "name": "stdout",
     "output_type": "stream",
     "text": [
      "spam | ✅Cơ hội được tham gia hỗ trợ trực tiếp các dự án \"\"khủng\"\" với hàng triệu khách hàng trong nước và quốc tế. ✅ Được trải nghiệm môi trường làm việc trẻ, chuyên nghiệp và sáng tạo. ✅ Lương trong thời gian đào tạo từ 300 USD++, Phụ cấp cơm trưa, cafe miễn phí. ✅ Được hướng dẫn, đào tạo từ các mentors là chuyên gia hàng đầu trong lĩnh vực Marketing. ✅≥.....HÌNH THỨC ĐĂNG KÝ: ✅ B1: Truy cập:  Click Đăng kí & Điền thông tin ✅ B2: Like Fanpage  bật chế độ See First ✅ B3: Join group VNG HN - TALENT FRESHER : \n",
      "\n"
     ]
    }
   ],
   "source": [
    "document_test = re.sub(r\"http\\S+\", \"\", s)\n",
    "print(document_test)"
   ]
  },
  {
   "cell_type": "code",
   "execution_count": 9,
   "metadata": {},
   "outputs": [],
   "source": [
    "# Loại bỏ ký tự lạ, chuẩn hoá văn bản\n",
    "# Các ký tự (emoji) cần phải được loại bỏ hết, sau đó văn bản sẽ được chuẩn hoá loại bỏ các khoảng trắng đầu cuối và đưa tất cả về dạng viết thường (lowercase)."
   ]
  },
  {
   "cell_type": "code",
   "execution_count": 10,
   "metadata": {},
   "outputs": [
    {
     "name": "stdout",
     "output_type": "stream",
     "text": [
      "spam    cơ hội được tham gia hỗ trợ trực tiếp các dự án   khủng   với hàng triệu khách hàng trong nước và quốc tế    được trải nghiệm môi trường làm việc trẻ  chuyên nghiệp và sáng tạo    lương trong thời gian đào tạo từ 300 usd    phụ cấp cơm trưa  cafe miễn phí    được hướng dẫn  đào tạo từ các mentors là chuyên gia hàng đầu trong lĩnh vực marketing         hình thức đăng ký    b1  truy cập  http   bit ly 2aezdzp click đăng kí   điền thông tin   b2  like fanpage http   bit ly 2pctnno  bật chế độ see first   b3  join group vng hn   talent fresher   http   bit ly 2pgfa8r n\n"
     ]
    }
   ],
   "source": [
    "document_test = strip_non_alphanum(s).lower().strip()\n",
    "print(document_test)"
   ]
  },
  {
   "cell_type": "code",
   "execution_count": 11,
   "metadata": {},
   "outputs": [],
   "source": [
    "# Tách biệt các từ vô nghĩa\n",
    "# Các từ vô nghĩa có thể hiểu khi nhìn thấy ở trên ví dụ như (b1, b2...). Chúng là các chữ cái kết hợp với các số và hoàn toàn không có nghĩa."
   ]
  },
  {
   "cell_type": "code",
   "execution_count": 12,
   "metadata": {},
   "outputs": [
    {
     "name": "stdout",
     "output_type": "stream",
     "text": [
      "spam    cơ hội được tham gia hỗ trợ trực tiếp các dự án   khủng   với hàng triệu khách hàng trong nước và quốc tế    được trải nghiệm môi trường làm việc trẻ  chuyên nghiệp và sáng tạo    lương trong thời gian đào tạo từ 300 usd    phụ cấp cơm trưa  cafe miễn phí    được hướng dẫn  đào tạo từ các mentors là chuyên gia hàng đầu trong lĩnh vực marketing         hình thức đăng ký    b 1  truy cập  http   bit ly 2 aezdzp click đăng kí   điền thông tin   b 2  like fanpage http   bit ly 2 pctnno  bật chế độ see first   b 3  join group vng hn   talent fresher   http   bit ly 2 pgfa 8 r n\n"
     ]
    }
   ],
   "source": [
    "document_test = split_alphanum(document_test)\n",
    "print(document_test)"
   ]
  },
  {
   "cell_type": "code",
   "execution_count": 13,
   "metadata": {},
   "outputs": [],
   "source": [
    "# Loại bỏ toàn bộ các ký tự đứng 1 mình\n",
    "# Gần như không có ký tự nào đứng 1 mình mà lại mang nghĩa, vậy nên hãy loại bỏ chúng nhé"
   ]
  },
  {
   "cell_type": "code",
   "execution_count": 14,
   "metadata": {},
   "outputs": [
    {
     "name": "stdout",
     "output_type": "stream",
     "text": [
      "spam cơ hội được tham gia hỗ trợ trực tiếp các dự án khủng với hàng triệu khách hàng trong nước và quốc tế được trải nghiệm môi trường làm việc trẻ chuyên nghiệp và sáng tạo lương trong thời gian đào tạo từ 300 usd phụ cấp cơm trưa cafe miễn phí được hướng dẫn đào tạo từ các mentors là chuyên gia hàng đầu trong lĩnh vực marketing hình thức đăng ký truy cập http bit ly aezdzp click đăng kí điền thông tin like fanpage http bit ly pctnno bật chế độ see first join group vng hn talent fresher http bit ly pgfa\n"
     ]
    }
   ],
   "source": [
    "document_test = strip_short(document_test, minsize=2)\n",
    "print(document_test)"
   ]
  },
  {
   "cell_type": "code",
   "execution_count": 15,
   "metadata": {},
   "outputs": [],
   "source": [
    "# Loại bỏ hết các số trong văn bản"
   ]
  },
  {
   "cell_type": "code",
   "execution_count": 16,
   "metadata": {},
   "outputs": [
    {
     "name": "stdout",
     "output_type": "stream",
     "text": [
      "spam cơ hội được tham gia hỗ trợ trực tiếp các dự án khủng với hàng triệu khách hàng trong nước và quốc tế được trải nghiệm môi trường làm việc trẻ chuyên nghiệp và sáng tạo lương trong thời gian đào tạo từ  usd phụ cấp cơm trưa cafe miễn phí được hướng dẫn đào tạo từ các mentors là chuyên gia hàng đầu trong lĩnh vực marketing hình thức đăng ký truy cập http bit ly aezdzp click đăng kí điền thông tin like fanpage http bit ly pctnno bật chế độ see first join group vng hn talent fresher http bit ly pgfa\n"
     ]
    }
   ],
   "source": [
    "document_test = strip_numeric(document_test)\n",
    "print(document_test)"
   ]
  },
  {
   "cell_type": "code",
   "execution_count": 17,
   "metadata": {},
   "outputs": [],
   "source": [
    "# Ghép các từ tiếng Việt"
   ]
  },
  {
   "cell_type": "code",
   "execution_count": 18,
   "metadata": {},
   "outputs": [
    {
     "name": "stdout",
     "output_type": "stream",
     "text": [
      "spam cơ_hội được tham_gia hỗ_trợ trực_tiếp các dự_án khủng với hàng triệu khách_hàng trong nước và quốc_tế được trải nghiệm môi_trường làm_việc trẻ chuyên_nghiệp và sáng_tạo lương trong thời_gian đào_tạo từ usd phụ_cấp cơm trưa cafe miễn_phí được hướng_dẫn đào_tạo từ các mentors là chuyên_gia hàng_đầu trong lĩnh_vực marketing hình_thức đăng_ký truy_cập http bit ly aezdzp click đăng_kí điền thông_tin like fanpage http bit ly pctnno bật chế_độ see first join group vng hn talent fresher http bit ly pgfa\n"
     ]
    }
   ],
   "source": [
    "document_test = ViTokenizer.tokenize(document_test)\n",
    "print(document_test)"
   ]
  },
  {
   "cell_type": "code",
   "execution_count": null,
   "metadata": {},
   "outputs": [],
   "source": []
  }
 ],
 "metadata": {
  "kernelspec": {
   "display_name": "Python 3",
   "language": "python",
   "name": "python3"
  },
  "language_info": {
   "codemirror_mode": {
    "name": "ipython",
    "version": 3
   },
   "file_extension": ".py",
   "mimetype": "text/x-python",
   "name": "python",
   "nbconvert_exporter": "python",
   "pygments_lexer": "ipython3",
   "version": "3.7.3"
  }
 },
 "nbformat": 4,
 "nbformat_minor": 2
}
