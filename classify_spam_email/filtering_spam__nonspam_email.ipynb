{
 "cells": [
  {
   "cell_type": "code",
   "execution_count": 2,
   "metadata": {},
   "outputs": [
    {
     "name": "stdout",
     "output_type": "stream",
     "text": [
      "Collecting gensim\n",
      "\u001b[?25l  Downloading https://files.pythonhosted.org/packages/b3/54/1d7294672110d5c0565cabc4b99ed952ced9a2dc2ca1d59ad1b34303a6de/gensim-3.8.1-cp37-cp37m-macosx_10_6_intel.macosx_10_9_intel.macosx_10_9_x86_64.macosx_10_10_intel.macosx_10_10_x86_64.whl (24.7MB)\n",
      "\u001b[K     |████████████████████████████████| 24.7MB 1.5MB/s eta 0:00:01\n",
      "\u001b[?25hRequirement already satisfied, skipping upgrade: numpy>=1.11.3 in /Users/damanh/anaconda3/lib/python3.7/site-packages (from gensim) (1.17.2)\n",
      "Requirement already satisfied, skipping upgrade: scipy>=0.18.1 in /Users/damanh/anaconda3/lib/python3.7/site-packages (from gensim) (1.3.1)\n",
      "Requirement already satisfied, skipping upgrade: six>=1.5.0 in /Users/damanh/anaconda3/lib/python3.7/site-packages (from gensim) (1.12.0)\n",
      "Collecting smart-open>=1.8.1\n",
      "\u001b[?25l  Downloading https://files.pythonhosted.org/packages/37/c0/25d19badc495428dec6a4bf7782de617ee0246a9211af75b302a2681dea7/smart_open-1.8.4.tar.gz (63kB)\n",
      "\u001b[K     |████████████████████████████████| 71kB 8.6MB/s  eta 0:00:01\n",
      "\u001b[?25hRequirement already satisfied, skipping upgrade: boto>=2.32 in /Users/damanh/anaconda3/lib/python3.7/site-packages (from smart-open>=1.8.1->gensim) (2.49.0)\n",
      "Requirement already satisfied, skipping upgrade: requests in /Users/damanh/anaconda3/lib/python3.7/site-packages (from smart-open>=1.8.1->gensim) (2.22.0)\n",
      "Collecting boto3\n",
      "\u001b[?25l  Downloading https://files.pythonhosted.org/packages/f1/63/56d49c9ac4b00e56fa9a954e995cc08098b1adebb4fa5654e19ff734567d/boto3-1.10.0-py2.py3-none-any.whl (128kB)\n",
      "\u001b[K     |████████████████████████████████| 133kB 9.2MB/s eta 0:00:01\n",
      "\u001b[?25hRequirement already satisfied, skipping upgrade: idna<2.9,>=2.5 in /Users/damanh/anaconda3/lib/python3.7/site-packages (from requests->smart-open>=1.8.1->gensim) (2.8)\n",
      "Requirement already satisfied, skipping upgrade: chardet<3.1.0,>=3.0.2 in /Users/damanh/anaconda3/lib/python3.7/site-packages (from requests->smart-open>=1.8.1->gensim) (3.0.4)\n",
      "Requirement already satisfied, skipping upgrade: urllib3!=1.25.0,!=1.25.1,<1.26,>=1.21.1 in /Users/damanh/anaconda3/lib/python3.7/site-packages (from requests->smart-open>=1.8.1->gensim) (1.25.6)\n",
      "Requirement already satisfied, skipping upgrade: certifi>=2017.4.17 in /Users/damanh/anaconda3/lib/python3.7/site-packages (from requests->smart-open>=1.8.1->gensim) (2019.9.11)\n",
      "Collecting s3transfer<0.3.0,>=0.2.0\n",
      "\u001b[?25l  Downloading https://files.pythonhosted.org/packages/16/8a/1fc3dba0c4923c2a76e1ff0d52b305c44606da63f718d14d3231e21c51b0/s3transfer-0.2.1-py2.py3-none-any.whl (70kB)\n",
      "\u001b[K     |████████████████████████████████| 71kB 12.8MB/s eta 0:00:01\n",
      "\u001b[?25hCollecting jmespath<1.0.0,>=0.7.1\n",
      "  Downloading https://files.pythonhosted.org/packages/83/94/7179c3832a6d45b266ddb2aac329e101367fbdb11f425f13771d27f225bb/jmespath-0.9.4-py2.py3-none-any.whl\n",
      "Collecting botocore<1.14.0,>=1.13.0\n",
      "\u001b[?25l  Downloading https://files.pythonhosted.org/packages/f4/72/5d81c5eb90ce94e438875d166ed98724bbe24be1283ec650cdfe2107cd3e/botocore-1.13.0-py2.py3-none-any.whl (5.3MB)\n",
      "\u001b[K     |████████████████████████████████| 5.3MB 2.8MB/s eta 0:00:011\n",
      "\u001b[?25hRequirement already satisfied, skipping upgrade: docutils<0.16,>=0.10 in /Users/damanh/anaconda3/lib/python3.7/site-packages (from botocore<1.14.0,>=1.13.0->boto3->smart-open>=1.8.1->gensim) (0.15.2)\n",
      "Requirement already satisfied, skipping upgrade: python-dateutil<3.0.0,>=2.1; python_version >= \"2.7\" in /Users/damanh/anaconda3/lib/python3.7/site-packages (from botocore<1.14.0,>=1.13.0->boto3->smart-open>=1.8.1->gensim) (2.8.0)\n",
      "Building wheels for collected packages: smart-open\n",
      "  Building wheel for smart-open (setup.py) ... \u001b[?25ldone\n",
      "\u001b[?25h  Created wheel for smart-open: filename=smart_open-1.8.4-cp37-none-any.whl size=68201 sha256=3f2ffd09f328c9679807c8667e12f9347b62319cf24bbe69b20610fecee33ee7\n",
      "  Stored in directory: /Users/damanh/Library/Caches/pip/wheels/5f/ea/fb/5b1a947b369724063b2617011f1540c44eb00e28c3d2ca8692\n",
      "Successfully built smart-open\n",
      "Installing collected packages: jmespath, botocore, s3transfer, boto3, smart-open, gensim\n",
      "Successfully installed boto3-1.10.0 botocore-1.13.0 gensim-3.8.1 jmespath-0.9.4 s3transfer-0.2.1 smart-open-1.8.4\n",
      "Note: you may need to restart the kernel to use updated packages.\n"
     ]
    }
   ],
   "source": [
    "pip install -U gensim"
   ]
  },
  {
   "cell_type": "code",
   "execution_count": 8,
   "metadata": {},
   "outputs": [
    {
     "name": "stdout",
     "output_type": "stream",
     "text": [
      "Collecting pyvi\n",
      "\u001b[?25l  Downloading https://files.pythonhosted.org/packages/31/73/89be26d66c71f3bcca1de13bb73a9d622fabe282b55e518d68e86081d4e6/pyvi-0.0.9.7-py2.py3-none-any.whl (8.7MB)\n",
      "\u001b[K     |████████████████████████████████| 8.8MB 1.9MB/s eta 0:00:01\n",
      "\u001b[?25hRequirement already satisfied: scikit-learn in /Users/damanh/anaconda3/lib/python3.7/site-packages (from pyvi) (0.21.3)\n",
      "Collecting sklearn-crfsuite\n",
      "  Downloading https://files.pythonhosted.org/packages/25/74/5b7befa513482e6dee1f3dd68171a6c9dfc14c0eaa00f885ffeba54fe9b0/sklearn_crfsuite-0.3.6-py2.py3-none-any.whl\n",
      "Requirement already satisfied: numpy>=1.11.0 in /Users/damanh/anaconda3/lib/python3.7/site-packages (from scikit-learn->pyvi) (1.17.2)\n",
      "Requirement already satisfied: joblib>=0.11 in /Users/damanh/anaconda3/lib/python3.7/site-packages (from scikit-learn->pyvi) (0.14.0)\n",
      "Requirement already satisfied: scipy>=0.17.0 in /Users/damanh/anaconda3/lib/python3.7/site-packages (from scikit-learn->pyvi) (1.3.1)\n",
      "Collecting tabulate\n",
      "\u001b[?25l  Downloading https://files.pythonhosted.org/packages/66/d4/977fdd5186b7cdbb7c43a7aac7c5e4e0337a84cb802e154616f3cfc84563/tabulate-0.8.5.tar.gz (45kB)\n",
      "\u001b[K     |████████████████████████████████| 51kB 11.5MB/s eta 0:00:01\n",
      "\u001b[?25hCollecting python-crfsuite>=0.8.3\n",
      "\u001b[?25l  Downloading https://files.pythonhosted.org/packages/0d/85/b953dedd781dbc5c36083b6266b1b16dd305d0bced6730db019afad6e7b2/python_crfsuite-0.9.6-cp37-cp37m-macosx_10_13_x86_64.whl (187kB)\n",
      "\u001b[K     |████████████████████████████████| 194kB 11.8MB/s eta 0:00:01\n",
      "\u001b[?25hRequirement already satisfied: tqdm>=2.0 in /Users/damanh/anaconda3/lib/python3.7/site-packages (from sklearn-crfsuite->pyvi) (4.36.1)\n",
      "Requirement already satisfied: six in /Users/damanh/anaconda3/lib/python3.7/site-packages (from sklearn-crfsuite->pyvi) (1.12.0)\n",
      "Building wheels for collected packages: tabulate\n",
      "  Building wheel for tabulate (setup.py) ... \u001b[?25ldone\n",
      "\u001b[?25h  Created wheel for tabulate: filename=tabulate-0.8.5-cp37-none-any.whl size=23257 sha256=8c83874d6117d2e9b9f88978fdf95adb22216fea3e2845f75bed7cf68f325835\n",
      "  Stored in directory: /Users/damanh/Library/Caches/pip/wheels/e1/41/5e/e201f95d90fc84f93aa629b6638adacda680fe63aac47174ab\n",
      "Successfully built tabulate\n",
      "Installing collected packages: tabulate, python-crfsuite, sklearn-crfsuite, pyvi\n",
      "Successfully installed python-crfsuite-0.9.6 pyvi-0.0.9.7 sklearn-crfsuite-0.3.6 tabulate-0.8.5\n",
      "Note: you may need to restart the kernel to use updated packages.\n"
     ]
    }
   ],
   "source": [
    "pip install pyvi"
   ]
  },
  {
   "cell_type": "code",
   "execution_count": 1,
   "metadata": {},
   "outputs": [],
   "source": [
    "from pyvi import ViTokenizer #For split vietnamese words\n",
    "#import pandas as pd #For reading xlsx file\n",
    "from gensim.parsing.preprocessing import strip_non_alphanum, strip_multiple_whitespaces,preprocess_string, split_alphanum, strip_short, strip_numeric\n",
    "#import re #For preprocessing raw text"
   ]
  },
  {
   "cell_type": "code",
   "execution_count": 2,
   "metadata": {},
   "outputs": [],
   "source": [
    "f = open('spam.txt','r')"
   ]
  },
  {
   "cell_type": "code",
   "execution_count": 3,
   "metadata": {},
   "outputs": [],
   "source": [
    "s = f.readline()"
   ]
  },
  {
   "cell_type": "code",
   "execution_count": 4,
   "metadata": {},
   "outputs": [
    {
     "name": "stdout",
     "output_type": "stream",
     "text": [
      "spam    quà tặng  cải thiện vượt bậc khả năng nghe với bộ 3 ebook tiếng anh giá trị sau  cải thiện vượt bậc khả năng nghe và giao tiếp với bộ 3 ebook tiếng anh bạn thân mến  khả năng nghe được coi là tối quan trọng trong giao tiếp  nếu không hiểu người khác nói gì  chúng ta sẽ dễ rơi vào cảnh  ngậm hột thị   rất may mắn  kỹ năng nghe không quá khó để lên trình  chỉ cần bạn kiên nhẫn làm quen với nó  luyện tập chậm rãi từng bước  giống như trước khi học bơi bạn phải học  chơi  với nước vậy đặc biệt  với người mới học  phải chọn học liệu có tốc độ nói chậm  rõ từ và dễ hiểu  như thế mới tạo cảm hứng để bạn tiếp tục cố gắng được click vào đây để nhận trọn bộ 3 ebook tiếng anh giá trị hôm nay   ngày thứ 5 may mắn  topica native sẽ gửi đến bạn không chỉ 1  mà tận 03 ebook kèm audio để bạn thỏa sức luyện nghe  biết cách phát âm chuẩn  lại còn tăng từ vựng nữa  món quà này đã được các chuyên gia ngoại ngữ của topica native dày công nghiên cứu  chọn lọc ra những nội dung phù hợp  hiệu quả nhất với người mới học tiếng anh  hy vọng bạn sẽ thích thú với món quà cực  xịn  này\n"
     ]
    }
   ],
   "source": [
    "document_test = strip_non_alphanum(s).lower().strip()\n",
    "print(document_test)"
   ]
  },
  {
   "cell_type": "code",
   "execution_count": 5,
   "metadata": {},
   "outputs": [
    {
     "name": "stdout",
     "output_type": "stream",
     "text": [
      "spam    quà tặng  cải thiện vượt bậc khả năng nghe với bộ 3 ebook tiếng anh giá trị sau  cải thiện vượt bậc khả năng nghe và giao tiếp với bộ 3 ebook tiếng anh bạn thân mến  khả năng nghe được coi là tối quan trọng trong giao tiếp  nếu không hiểu người khác nói gì  chúng ta sẽ dễ rơi vào cảnh  ngậm hột thị   rất may mắn  kỹ năng nghe không quá khó để lên trình  chỉ cần bạn kiên nhẫn làm quen với nó  luyện tập chậm rãi từng bước  giống như trước khi học bơi bạn phải học  chơi  với nước vậy đặc biệt  với người mới học  phải chọn học liệu có tốc độ nói chậm  rõ từ và dễ hiểu  như thế mới tạo cảm hứng để bạn tiếp tục cố gắng được click vào đây để nhận trọn bộ 3 ebook tiếng anh giá trị hôm nay   ngày thứ 5 may mắn  topica native sẽ gửi đến bạn không chỉ 1  mà tận 03 ebook kèm audio để bạn thỏa sức luyện nghe  biết cách phát âm chuẩn  lại còn tăng từ vựng nữa  món quà này đã được các chuyên gia ngoại ngữ của topica native dày công nghiên cứu  chọn lọc ra những nội dung phù hợp  hiệu quả nhất với người mới học tiếng anh  hy vọng bạn sẽ thích thú với món quà cực  xịn  này\n"
     ]
    }
   ],
   "source": [
    "document_test = split_alphanum(document_test)\n",
    "print(document_test)"
   ]
  },
  {
   "cell_type": "code",
   "execution_count": 6,
   "metadata": {},
   "outputs": [
    {
     "name": "stdout",
     "output_type": "stream",
     "text": [
      "spam quà tặng cải thiện vượt bậc khả năng nghe với bộ ebook tiếng anh giá trị sau cải thiện vượt bậc khả năng nghe và giao tiếp với bộ ebook tiếng anh bạn thân mến khả năng nghe được coi là tối quan trọng trong giao tiếp nếu không hiểu người khác nói gì chúng ta sẽ dễ rơi vào cảnh ngậm hột thị rất may mắn kỹ năng nghe không quá khó để lên trình chỉ cần bạn kiên nhẫn làm quen với nó luyện tập chậm rãi từng bước giống như trước khi học bơi bạn phải học chơi với nước vậy đặc biệt với người mới học phải chọn học liệu có tốc độ nói chậm rõ từ và dễ hiểu như thế mới tạo cảm hứng để bạn tiếp tục cố gắng được click vào đây để nhận trọn bộ ebook tiếng anh giá trị hôm nay ngày thứ may mắn topica native sẽ gửi đến bạn không chỉ mà tận 03 ebook kèm audio để bạn thỏa sức luyện nghe biết cách phát âm chuẩn lại còn tăng từ vựng nữa món quà này đã được các chuyên gia ngoại ngữ của topica native dày công nghiên cứu chọn lọc ra những nội dung phù hợp hiệu quả nhất với người mới học tiếng anh hy vọng bạn sẽ thích thú với món quà cực xịn này\n"
     ]
    }
   ],
   "source": [
    "document_test = strip_short(document_test, minsize=2)\n",
    "print(document_test)"
   ]
  },
  {
   "cell_type": "code",
   "execution_count": 7,
   "metadata": {},
   "outputs": [
    {
     "name": "stdout",
     "output_type": "stream",
     "text": [
      "spam quà tặng cải thiện vượt bậc khả năng nghe với bộ ebook tiếng anh giá trị sau cải thiện vượt bậc khả năng nghe và giao tiếp với bộ ebook tiếng anh bạn thân mến khả năng nghe được coi là tối quan trọng trong giao tiếp nếu không hiểu người khác nói gì chúng ta sẽ dễ rơi vào cảnh ngậm hột thị rất may mắn kỹ năng nghe không quá khó để lên trình chỉ cần bạn kiên nhẫn làm quen với nó luyện tập chậm rãi từng bước giống như trước khi học bơi bạn phải học chơi với nước vậy đặc biệt với người mới học phải chọn học liệu có tốc độ nói chậm rõ từ và dễ hiểu như thế mới tạo cảm hứng để bạn tiếp tục cố gắng được click vào đây để nhận trọn bộ ebook tiếng anh giá trị hôm nay ngày thứ may mắn topica native sẽ gửi đến bạn không chỉ mà tận  ebook kèm audio để bạn thỏa sức luyện nghe biết cách phát âm chuẩn lại còn tăng từ vựng nữa món quà này đã được các chuyên gia ngoại ngữ của topica native dày công nghiên cứu chọn lọc ra những nội dung phù hợp hiệu quả nhất với người mới học tiếng anh hy vọng bạn sẽ thích thú với món quà cực xịn này\n"
     ]
    }
   ],
   "source": [
    "document_test = strip_numeric(document_test)\n",
    "print(document_test)"
   ]
  },
  {
   "cell_type": "code",
   "execution_count": 8,
   "metadata": {},
   "outputs": [
    {
     "name": "stdout",
     "output_type": "stream",
     "text": [
      "spam quà tặng cải_thiện vượt_bậc khả_năng nghe với bộ ebook tiếng anh giá_trị sau cải_thiện vượt_bậc khả_năng nghe và giao_tiếp với bộ ebook tiếng anh bạn thân_mến khả_năng nghe được coi là tối quan_trọng trong giao_tiếp nếu không hiểu người khác nói_gì chúng_ta sẽ dễ rơi vào cảnh ngậm hột_thị rất may_mắn kỹ_năng nghe không quá khó để lên trình chỉ cần bạn kiên_nhẫn làm_quen với nó luyện_tập chậm_rãi từng bước giống như trước khi học bơi bạn phải học chơi với nước vậy đặc_biệt với người mới học phải chọn học liệu có tốc_độ nói chậm rõ từ và dễ hiểu như thế mới tạo cảm_hứng để bạn tiếp_tục cố_gắng được click vào đây để nhận trọn bộ ebook tiếng anh giá_trị hôm_nay ngày thứ may_mắn topica native sẽ gửi đến bạn không chỉ mà tận ebook kèm audio để bạn thỏa_sức luyện nghe biết cách phát_âm chuẩn lại còn tăng từ_vựng nữa món quà này đã được các chuyên_gia ngoại_ngữ của topica native dày công nghiên_cứu chọn_lọc ra những nội_dung phù_hợp hiệu_quả nhất với người mới học tiếng anh hy_vọng bạn sẽ thích_thú với món quà cực xịn này\n"
     ]
    }
   ],
   "source": [
    "document_test = ViTokenizer.tokenize(document_test)\n",
    "print(document_test)"
   ]
  },
  {
   "cell_type": "code",
   "execution_count": null,
   "metadata": {},
   "outputs": [],
   "source": []
  }
 ],
 "metadata": {
  "kernelspec": {
   "display_name": "Python 3",
   "language": "python",
   "name": "python3"
  },
  "language_info": {
   "codemirror_mode": {
    "name": "ipython",
    "version": 3
   },
   "file_extension": ".py",
   "mimetype": "text/x-python",
   "name": "python",
   "nbconvert_exporter": "python",
   "pygments_lexer": "ipython3",
   "version": "3.7.3"
  }
 },
 "nbformat": 4,
 "nbformat_minor": 2
}
