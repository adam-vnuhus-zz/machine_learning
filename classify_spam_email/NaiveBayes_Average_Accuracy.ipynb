{
 "cells": [
  {
   "cell_type": "code",
   "execution_count": 1,
   "metadata": {},
   "outputs": [],
   "source": [
    "from sklearn.utils import shuffle\n",
    "from pyvi import ViTokenizer #For split vietnamese words\n",
    "import pandas as pd #For reading xlsx file\n",
    "from gensim.parsing.preprocessing import strip_non_alphanum, strip_multiple_whitespaces,preprocess_string, split_alphanum, strip_short, strip_numeric\n",
    "import re\n",
    "import numpy as np\n",
    "from scipy.sparse import coo_matrix\n",
    "from sklearn.naive_bayes import MultinomialNB, BernoulliNB\n",
    "from sklearn.metrics import accuracy_score\n",
    "import string"
   ]
  },
  {
   "cell_type": "code",
   "execution_count": 17,
   "metadata": {},
   "outputs": [],
   "source": [
    "# read file and shuffle\n",
    "doc = []\n",
    "label = []\n",
    "with open('data_email.txt','r', encoding= 'utf-8') as f:\n",
    "    for line in f:\n",
    "        doc.append(line[:])\n",
    "doc = shuffle(doc,random_state = 0)\n",
    "document = []\n",
    "for d in doc:\n",
    "    ind = d.find('|')        \n",
    "    if ind == 5:   \n",
    "        label.append(1)\n",
    "    elif ind == 8:\n",
    "        label.append(0)\n",
    "    document.append(d[ind+2:])"
   ]
  },
  {
   "cell_type": "code",
   "execution_count": 18,
   "metadata": {},
   "outputs": [],
   "source": [
    "def raw_text_preprocess(raw):\n",
    "    raw = raw.lower()\n",
    "    raw = re.sub(r\"(http\\S+)|(https\\S+)\", \"URL_Change\", raw)\n",
    "    raw = re.sub(r\"(www\\S+)|(\\S+@\\S+)\", \"URL_Change\", raw)\n",
    "    raw = re.sub(r\"([0-9][0-9]/[0-9][0-9]/[0-9][0-9][0-9][0-9])|([0-9][0-9]/[0-9][0-9])|([0-9][0-9]/[0-9][0-9][0-9][0-9])\", \"DATE_Change\", raw)\n",
    "    raw = re.sub(r\"([0-9][0-9]-[0-9][0-9]-[0-9][0-9][0-9][0-9])|([0-9][0-9]-[0-9][0-9])|([0-9][0-9]-[0-9][0-9][0-9][0-9])\", \"DATE_Change\", raw)\n",
    "    raw = strip_numeric(raw)\n",
    "    raw = strip_short(raw, minsize=2)\n",
    "    raw = ViTokenizer.tokenize(raw)\n",
    "    return raw"
   ]
  },
  {
   "cell_type": "code",
   "execution_count": 19,
   "metadata": {},
   "outputs": [],
   "source": [
    "#Chia dữ liệu làm 5 đoạn, lấy đoạn thứ i để test và còn lại để train\n",
    "def divide_fold(i):\n",
    "    document_test = document[(i-1)*80:i*80]\n",
    "    label_test = label[(i-1)*80:i*80]\n",
    "    document_train = document[:(i-1)*80+1]+document[i*80+1:]\n",
    "    label_train = label[:(i-1)*80+1]+label[i*80+1:]\n",
    "    return (document_test,label_test,document_train ,label_train)"
   ]
  },
  {
   "cell_type": "code",
   "execution_count": 20,
   "metadata": {},
   "outputs": [],
   "source": [
    "\n",
    "def dict_word(document):\n",
    "    res = {}\n",
    "    words = {}\n",
    "    conten = 0\n",
    "    for doc in document:\n",
    "            token = doc.split(\" \")\n",
    "            for tok in token:\n",
    "                if tok in res.keys():\n",
    "                    res[tok] = res[tok] + 1\n",
    "                else:\n",
    "                    res.update({tok : 1})\n",
    "            for key, value in res.items():\n",
    "                if (value >= 3):\n",
    "                    words.update({key : value})\n",
    "            word = {}\n",
    "            for tok in token:\n",
    "                if tok in word.keys():\n",
    "                    word[tok] = word[tok] + 1\n",
    "                else:\n",
    "                    word.update({tok : 1})\n",
    "            conten = conten + len(word)\n",
    "    words = sorted(words.keys())\n",
    "    print(len(words))\n",
    "    return (words, conten)"
   ]
  },
  {
   "cell_type": "code",
   "execution_count": 21,
   "metadata": {},
   "outputs": [],
   "source": [
    "def read_data(document, label, words, conten):\n",
    "    word_list = []\n",
    "#     conten = 0\n",
    "    for doc in document:\n",
    "#         token = change(doc)\n",
    "        token = doc.split(\" \")\n",
    "        word = {}\n",
    "        for tok in token:\n",
    "            if tok in word.keys():\n",
    "                word[tok] = word[tok] + 1\n",
    "            else:\n",
    "                word.update({tok : 1})\n",
    "        word_list.append(word)\n",
    "    j = 0\n",
    "    dat = np.zeros((conten, 3), dtype = int)\n",
    "    for i, word in enumerate(word_list):\n",
    "        for key, value in word.items():\n",
    "            if(key in words):\n",
    "                dat[j, :] = np.array([int(i), int(words.index(key)), int(value)])\n",
    "                j = j + 1\n",
    "    data = coo_matrix((dat[:, 2], (dat[:, 0] , dat[:, 1] )),shape=(len(label), len(words)))\n",
    "    return (data, label)"
   ]
  },
  {
   "cell_type": "code",
   "execution_count": 22,
   "metadata": {},
   "outputs": [
    {
     "name": "stdout",
     "output_type": "stream",
     "text": [
      "2780\n",
      "Fold  1\n",
      "Training size = 327 . accuracy = 82.5\n",
      "2919\n",
      "Fold  2\n",
      "Training size = 327 . accuracy = 82.5\n",
      "2922\n",
      "Fold  3\n",
      "Training size = 327 . accuracy = 83.75\n",
      "2796\n",
      "Fold  4\n",
      "Training size = 327 . accuracy = 83.75\n",
      "2840\n",
      "Fold  5\n",
      "Training size = 327 . accuracy = 85.0\n",
      "Average accuracy  83.5\n"
     ]
    }
   ],
   "source": [
    "#Không tiền xử lý\n",
    "average = 0\n",
    "for i in range(1,6):\n",
    "    document_test,label_test,document_train ,label_train = divide_fold(i)\n",
    "    (words, conten) = dict_word(document_train)\n",
    "    (train_data, train_label) = read_data(document_train, label_train, words, conten)\n",
    "    (test_data, test_label) = read_data(document_test, label_test, words, conten)\n",
    "    clf = MultinomialNB()\n",
    "    clf.fit(train_data, train_label)\n",
    "    y_pred = clf.predict(test_data)\n",
    "    accuracy = accuracy_score(y_pred,test_label)\n",
    "    print(\"Fold \",i)\n",
    "    print('Training size =',train_data.shape[0],'. accuracy =', accuracy*100)\n",
    "    average = average + accuracy\n",
    "print(\"Average accuracy \",average/5*100)"
   ]
  },
  {
   "cell_type": "code",
   "execution_count": 23,
   "metadata": {},
   "outputs": [
    {
     "name": "stdout",
     "output_type": "stream",
     "text": [
      "2137\n",
      "fole  1 Training size = 327 . accuracy = 83.75\n",
      "2230\n",
      "fole  2 Training size = 327 . accuracy = 80.0\n",
      "2200\n",
      "fole  3 Training size = 327 . accuracy = 86.25\n",
      "2143\n",
      "fole  4 Training size = 327 . accuracy = 85.0\n",
      "2124\n",
      "fole  5 Training size = 327 . accuracy = 83.75\n",
      "Average accuracy  83.75\n"
     ]
    }
   ],
   "source": [
    "# Xử lý dữ liệu trước khi train\n",
    "document = [raw_text_preprocess(d) for d in document]\n",
    "average = 0\n",
    "for i in range(1,6):\n",
    "    document_test,label_test,document_train ,label_train = divide_fold(i)\n",
    "    (words, conten) = dict_word(document_train)\n",
    "    (train_data, train_label) = read_data(document_train, label_train, words, conten)\n",
    "    (test_data, test_label) = read_data(document_test, label_test, words, conten)\n",
    "    clf = MultinomialNB()\n",
    "    clf.fit(train_data, train_label)\n",
    "    y_pred = clf.predict(test_data)\n",
    "    accuracy = accuracy_score(y_pred,test_label)\n",
    "    print(\"fole \",i,'Training size =',train_data.shape[0],'. accuracy =', accuracy*100)\n",
    "    average = average + accuracy\n",
    "print(\"Average accuracy \",average/5*100)"
   ]
  },
  {
   "cell_type": "code",
   "execution_count": null,
   "metadata": {},
   "outputs": [],
   "source": []
  }
 ],
 "metadata": {
  "kernelspec": {
   "display_name": "Python 3",
   "language": "python",
   "name": "python3"
  },
  "language_info": {
   "codemirror_mode": {
    "name": "ipython",
    "version": 3
   },
   "file_extension": ".py",
   "mimetype": "text/x-python",
   "name": "python",
   "nbconvert_exporter": "python",
   "pygments_lexer": "ipython3",
   "version": "3.7.1"
  }
 },
 "nbformat": 4,
 "nbformat_minor": 2
}
