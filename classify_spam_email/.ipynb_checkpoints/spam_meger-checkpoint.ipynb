{
 "cells": [
  {
   "cell_type": "code",
   "execution_count": null,
   "metadata": {},
   "outputs": [],
   "source": []
  },
  {
   "cell_type": "code",
   "execution_count": 1,
   "metadata": {},
   "outputs": [],
   "source": [
    "from pyvi import ViTokenizer #For split vietnamese words\n",
    "import pandas as pd #For reading xlsx file\n",
    "from gensim.parsing.preprocessing import strip_non_alphanum, strip_multiple_whitespaces,preprocess_string, split_alphanum, strip_short, strip_numeric\n",
    "import re\n",
    "import numpy as np\n",
    "from scipy.sparse import coo_matrix"
   ]
  },
  {
   "cell_type": "code",
   "execution_count": 2,
   "metadata": {},
   "outputs": [],
   "source": [
    "def raw_text_preprocess(raw):\n",
    "    raw = re.sub(r\"\\S+\", \"\", raw)\n",
    "#     raw = split_alphanum(raw)\n",
    "#     raw = strip_non_alphanum(raw).lower().strip()\n",
    "    raw = strip_short(raw, minsize=2)\n",
    "    raw = strip_numeric(raw)\n",
    "    raw = ViTokenizer.tokenize(raw)\n",
    "\n",
    "    return raw"
   ]
  },
  {
   "cell_type": "code",
   "execution_count": 3,
   "metadata": {},
   "outputs": [
    {
     "name": "stdout",
     "output_type": "stream",
     "text": [
      "407\n"
     ]
    }
   ],
   "source": [
    "document = []\n",
    "label = []\n",
    "# with open('spam.txt', 'r', encoding = 'utf-8') as f:\n",
    "#     for line in f:\n",
    "#         document.append(line[6: ])\n",
    "#         label.append(1)\n",
    "# with open('nonspam_email.txt', 'r', encoding = 'utf-8') as f:\n",
    "#     for line in f:\n",
    "#         document.append(line[9: ])\n",
    "#         label.append(0)\n",
    "# document_test = []\n",
    "# label_test = []\n",
    "with open('data_email.txt', 'r', encoding = 'utf-8') as f:\n",
    "    for line in f:\n",
    "#         document_test.append(line[6: ])\n",
    "        document.append(line[6: ])\n",
    "        if ('non' in line[: 6]):\n",
    "#             label.append(0)\n",
    "            label.append(0)\n",
    "        else:\n",
    "#             label.append(1)\n",
    "            label.append(1)\n",
    "print(len(document))"
   ]
  },
  {
   "cell_type": "code",
   "execution_count": 4,
   "metadata": {},
   "outputs": [],
   "source": [
    "def change(raw):\n",
    "    raw_cop = raw\n",
    "    token = raw.split(\" \")\n",
    "    links = ('http:', '.com', '.org', '.vn', '@', 'https:')\n",
    "#     daus = (':', '*', '(', ')', '/','-', '+', '#', '$', '%', '<', '>', '[', ']','!')\n",
    "    for i, char in enumerate(token):\n",
    "#         print(char)\n",
    "        for link in links:\n",
    "            if (link in char):\n",
    "                token[i] = 'URL'\n",
    "                break\n",
    "        if(char.isalnum()):\n",
    "            token[i] = ' '\n",
    "#         for dau in daus:\n",
    "#             if (dau in char):\n",
    "#                 token[i] = ''\n",
    "    return token"
   ]
  },
  {
   "cell_type": "code",
   "execution_count": 5,
   "metadata": {},
   "outputs": [],
   "source": [
    "document = [raw_text_preprocess(d) for d in document]\n",
    "document_test = document[300: ]\n",
    "label_test = label[300: ]\n",
    "document = document[: 300]\n",
    "label = label[: 300]"
   ]
  },
  {
   "cell_type": "code",
   "execution_count": 6,
   "metadata": {},
   "outputs": [
    {
     "ename": "TypeError",
     "evalue": "'<' not supported between instances of 'NoneType' and 'str'",
     "output_type": "error",
     "traceback": [
      "\u001b[1;31m---------------------------------------------------------------------------\u001b[0m",
      "\u001b[1;31mTypeError\u001b[0m                                 Traceback (most recent call last)",
      "\u001b[1;32m<ipython-input-6-ebf637ea73b7>\u001b[0m in \u001b[0;36m<module>\u001b[1;34m\u001b[0m\n\u001b[0;32m     21\u001b[0m     \u001b[0mconten\u001b[0m \u001b[1;33m=\u001b[0m \u001b[0mconten\u001b[0m \u001b[1;33m+\u001b[0m \u001b[0mlen\u001b[0m\u001b[1;33m(\u001b[0m\u001b[0mword\u001b[0m\u001b[1;33m)\u001b[0m\u001b[1;33m\u001b[0m\u001b[1;33m\u001b[0m\u001b[0m\n\u001b[0;32m     22\u001b[0m     \u001b[0mword_list\u001b[0m\u001b[1;33m.\u001b[0m\u001b[0mappend\u001b[0m\u001b[1;33m(\u001b[0m\u001b[0mword\u001b[0m\u001b[1;33m)\u001b[0m\u001b[1;33m\u001b[0m\u001b[1;33m\u001b[0m\u001b[0m\n\u001b[1;32m---> 23\u001b[1;33m \u001b[0mwords\u001b[0m \u001b[1;33m=\u001b[0m \u001b[0msorted\u001b[0m\u001b[1;33m(\u001b[0m\u001b[0mwords\u001b[0m\u001b[1;33m.\u001b[0m\u001b[0mkeys\u001b[0m\u001b[1;33m(\u001b[0m\u001b[1;33m)\u001b[0m\u001b[1;33m)\u001b[0m\u001b[1;33m\u001b[0m\u001b[1;33m\u001b[0m\u001b[0m\n\u001b[0m\u001b[0;32m     24\u001b[0m \u001b[0mprint\u001b[0m\u001b[1;33m(\u001b[0m\u001b[0mword_list\u001b[0m\u001b[1;33m)\u001b[0m\u001b[1;33m\u001b[0m\u001b[1;33m\u001b[0m\u001b[0m\n",
      "\u001b[1;31mTypeError\u001b[0m: '<' not supported between instances of 'NoneType' and 'str'"
     ]
    }
   ],
   "source": [
    "res = {}\n",
    "words = {}\n",
    "word_list = []\n",
    "conten = 0\n",
    "for doc in document:\n",
    "    token = change(doc)\n",
    "    for tok in token:\n",
    "        if tok in res.keys():\n",
    "            res[tok] = res[tok] + 1\n",
    "        else:\n",
    "            res.update({tok : 1})\n",
    "    for key, value in res.items():\n",
    "        if value >= 1:\n",
    "            words.update({key : value})\n",
    "    word = {}\n",
    "    for tok in token:\n",
    "        if tok in word.keys():\n",
    "            word[tok] = word[tok] + 1\n",
    "        else:\n",
    "            word.update({tok : 1})\n",
    "    conten = conten + len(word)\n",
    "    word_list.append(word)\n",
    "words = sorted(words.keys())\n",
    "print(word_list)"
   ]
  },
  {
   "cell_type": "code",
   "execution_count": null,
   "metadata": {},
   "outputs": [],
   "source": [
    "j = 0\n",
    "dat = np.zeros((conten, 3), dtype = int)\n",
    "print(conten)\n",
    "for i, word in enumerate(word_list):\n",
    "    for key, value in word.items():\n",
    "        if(key in words):\n",
    "            dat[j, :] = np.array([int(i), int(words.index(key)), int(value)])\n",
    "            j = j + 1\n",
    "data = coo_matrix((dat[:, 2], (dat[:, 0], dat[:, 1])))\n",
    "print(data)"
   ]
  },
  {
   "cell_type": "code",
   "execution_count": null,
   "metadata": {},
   "outputs": [],
   "source": []
  }
 ],
 "metadata": {
  "kernelspec": {
   "display_name": "Python 3",
   "language": "python",
   "name": "python3"
  },
  "language_info": {
   "codemirror_mode": {
    "name": "ipython",
    "version": 3
   },
   "file_extension": ".py",
   "mimetype": "text/x-python",
   "name": "python",
   "nbconvert_exporter": "python",
   "pygments_lexer": "ipython3",
   "version": "3.7.3"
  }
 },
 "nbformat": 4,
 "nbformat_minor": 2
}
