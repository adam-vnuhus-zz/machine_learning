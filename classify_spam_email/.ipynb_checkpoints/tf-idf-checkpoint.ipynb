{
 "cells": [
  {
   "cell_type": "code",
   "execution_count": 1,
   "metadata": {},
   "outputs": [],
   "source": [
    "from sklearn.utils import shuffle\n",
    "from pyvi import ViTokenizer #For split vietnamese words\n",
    "import pandas as pd #For reading xlsx file\n",
    "from gensim.parsing.preprocessing import strip_non_alphanum, strip_multiple_whitespaces,preprocess_string, split_alphanum, strip_short, strip_numeric\n",
    "import re\n",
    "import numpy as np\n",
    "from scipy.sparse import coo_matrix\n",
    "from sklearn.naive_bayes import MultinomialNB, BernoulliNB\n",
    "from sklearn.metrics import accuracy_score\n",
    "import string\n",
    "import math"
   ]
  },
  {
   "cell_type": "code",
   "execution_count": 2,
   "metadata": {},
   "outputs": [
    {
     "name": "stdout",
     "output_type": "stream",
     "text": [
      "391\n"
     ]
    }
   ],
   "source": [
    "document = []\n",
    "label = []\n",
    "def read_file(file):\n",
    "    doc = []\n",
    "    with open(file, 'r', encoding = 'utf-8') as f:\n",
    "        for line in f:\n",
    "            doc.append(line)\n",
    "    doc = shuffle(doc,random_state = 0)\n",
    "    \n",
    "    for line in doc:\n",
    "        document.append(line[7: ])\n",
    "        if ('non' in line[: 6]):\n",
    "            label.append(0)\n",
    "        else:\n",
    "            label.append(1)\n",
    "\n",
    "read_file('data_mail.txt')\n",
    "read_file('data_email.txt')\n",
    "print(len(document))"
   ]
  },
  {
   "cell_type": "code",
   "execution_count": 3,
   "metadata": {},
   "outputs": [],
   "source": [
    "def raw_text_preprocess(raw):\n",
    "    raw = raw.lower()\n",
    "    raw = re.sub(r\"http\\S+\", \"URL_Change\", raw)\n",
    "    raw = re.sub(r\"https\\S+\", \"URL_Change\", raw)\n",
    "    raw = re.sub(r\"(www\\S+)|(\\S+@\\S+)\", \"URL_Change\", raw)\n",
    "    raw = re.sub(r\"([0-9][0-9]/[0-9][0-9]/[0-9][0-9][0-9][0-9])|([0-9][0-9]/[0-9][0-9])|([0-9][0-9]/[0-9][0-9][0-9][0-9])\", \"DATE_Change\", raw)\n",
    "    raw = re.sub(r\"([0-9][0-9]-[0-9][0-9]-[0-9][0-9][0-9][0-9])|([0-9][0-9]-[0-9][0-9])|([0-9][0-9]-[0-9][0-9][0-9][0-9])\", \"DATE_Change\", raw)\n",
    "    raw = re.sub(r\"(ngày [0-9][0-9] tháng [0-9][0-9] năm [0-9][0-9][0-9][0-9])|(ngày [0-9][0-9] tháng [0-9][0-9])|(tháng [0-9][0-9] năm [0-9][0-9][0-9][0-9])\", \"DATE_Change\", raw)\n",
    "\n",
    "    raw = strip_numeric(raw)\n",
    "    raw = ViTokenizer.tokenize(raw)\n",
    "    raw = strip_short(raw, minsize=2)\n",
    "    return raw"
   ]
  },
  {
   "cell_type": "code",
   "execution_count": 4,
   "metadata": {},
   "outputs": [],
   "source": [
    "#Chia dữ liệu làm 5 đoạn, lấy đoạn thứ i để test và còn lại để train\n",
    "def divide_fold(i, document):\n",
    "    document = [raw_text_preprocess(d) for d in document]\n",
    "    document_test = document[(i-1)*80:i*80]\n",
    "    label_test = label[(i-1)*80:i*80]\n",
    "    document_train = document[:(i-1)*80+1]+document[i*80+1:]\n",
    "    label_train = label[:(i-1)*80+1]+label[i*80+1:]\n",
    "    return (document_test,label_test,document_train ,label_train)"
   ]
  },
  {
   "cell_type": "code",
   "execution_count": 5,
   "metadata": {},
   "outputs": [],
   "source": [
    "def word_dict(document):\n",
    "    words = {}\n",
    "    conten = 0\n",
    "    for doc in document:\n",
    "#             token = change(doc)\n",
    "            token = doc.split(\" \")\n",
    "            for tok in token:\n",
    "                if tok in words.keys():\n",
    "                    words[tok] = words[tok] + 1\n",
    "                else:\n",
    "                    words.update({tok : 1})\n",
    "#     words = sorted(words.keys())\n",
    "    return words"
   ]
  },
  {
   "cell_type": "code",
   "execution_count": 6,
   "metadata": {},
   "outputs": [],
   "source": [
    "def word_list(document, word_dict):\n",
    "    words_list = []\n",
    "    for doc in document:\n",
    "#         token = change(doc)\n",
    "        token = doc.split(\" \")\n",
    "        word = dict.fromkeys(word_dict, 0)\n",
    "        for tok in token:\n",
    "            if(tok in word.keys()):\n",
    "                word[tok]+= 1\n",
    "        words_list.append(word)\n",
    "    return words_list"
   ]
  },
  {
   "cell_type": "code",
   "execution_count": 7,
   "metadata": {},
   "outputs": [],
   "source": [
    "def compute_TF(word_dict, word):\n",
    "    tf_dict = {}\n",
    "    word_count = len(word)\n",
    "    for word, count in word_dict.items():\n",
    "        tf_dict[word] = count/float(word_count)\n",
    "    \n",
    "    return tf_dict   "
   ]
  },
  {
   "cell_type": "code",
   "execution_count": 8,
   "metadata": {},
   "outputs": [],
   "source": [
    "def compute_IDF(word_list):\n",
    "    idf_dict = {}\n",
    "    N = len(word_list)\n",
    "    \n",
    "    #count number of documents that contain this word\n",
    "    idf_dict = dict.fromkeys(word_list[0].keys(), 0)\n",
    "    for doc in word_list:\n",
    "        for word, count in doc.items():\n",
    "            if count > 0:\n",
    "                idf_dict[word] += 1\n",
    "                \n",
    "    for word, count in idf_dict.items():\n",
    "        idf_dict[word] = math.log(N/float(count))\n",
    "        \n",
    "    return idf_dict"
   ]
  },
  {
   "cell_type": "code",
   "execution_count": 9,
   "metadata": {},
   "outputs": [],
   "source": [
    "def compute_TFIDF(tf_word, idfs):\n",
    "    tfidf = {}\n",
    "    for w, val in tf_word.items():\n",
    "        tfidf[w] = val*idfs[w]\n",
    "    return tfidf"
   ]
  },
  {
   "cell_type": "code",
   "execution_count": 10,
   "metadata": {},
   "outputs": [],
   "source": [
    "# word_dict_1 = word_dict(document[: 4])\n",
    "# word_list_1 = word_list(document[: 4], word_dict_1)\n",
    "# idf_dict = compute_IDF(word_list_1)\n",
    "# tf_idf =[]\n",
    "# for word in word_list_1:\n",
    "#     tf = compute_TF(word_dict_1, word)\n",
    "#     tfidf =compute_TFIDF(tf, idf_dict)\n",
    "#     tf_idf.append(tfidf)\n",
    "# tf_idf"
   ]
  },
  {
   "cell_type": "code",
   "execution_count": 11,
   "metadata": {},
   "outputs": [],
   "source": [
    "def write_data(word_dict, document, label, file_name):\n",
    "    words_list = word_list(document, word_dict)\n",
    "    idf_dict = compute_IDF(words_list)\n",
    "    N = len(document)\n",
    "    D = len(word_dict)\n",
    "    tf_idf =[]\n",
    "    j = 0\n",
    "    data = np.zeros((N, D), dtype = float)\n",
    "    for w in words_list:\n",
    "        tf = compute_TF(word_dict, w)\n",
    "        tfidf =compute_TFIDF(tf, idf_dict)\n",
    "        dat = tfidf.values()\n",
    "        data[j, :] = np.array(np.asarray(dat))\n",
    "        j = j + 1                   \n",
    "        tf_idf.append(tfidf)\n",
    "    with open(fileName, 'w') as f:\n",
    "        for i, l in enumerate(label):\n",
    "            f.write(str(l))\n",
    "            f.write(\" \")\n",
    "            for num in data[i, :]:\n",
    "                f.write(str(num))\n",
    "                f.write(\" \")\n",
    "            f.write('\\n')"
   ]
  },
  {
   "cell_type": "code",
   "execution_count": 12,
   "metadata": {},
   "outputs": [
    {
     "ename": "UnboundLocalError",
     "evalue": "local variable 'j' referenced before assignment",
     "output_type": "error",
     "traceback": [
      "\u001b[1;31m---------------------------------------------------------------------------\u001b[0m",
      "\u001b[1;31mUnboundLocalError\u001b[0m                         Traceback (most recent call last)",
      "\u001b[1;32m<ipython-input-12-501c44de0a5d>\u001b[0m in \u001b[0;36m<module>\u001b[1;34m\u001b[0m\n\u001b[0;32m      3\u001b[0m     \u001b[0mwords_dict\u001b[0m \u001b[1;33m=\u001b[0m \u001b[0mword_dict\u001b[0m\u001b[1;33m(\u001b[0m\u001b[0mdocument_train\u001b[0m\u001b[1;33m)\u001b[0m\u001b[1;33m\u001b[0m\u001b[1;33m\u001b[0m\u001b[0m\n\u001b[0;32m      4\u001b[0m \u001b[1;31m#     write_data(words_dict, document_test,label_test, 'test{}.txt'.format(i))\u001b[0m\u001b[1;33m\u001b[0m\u001b[1;33m\u001b[0m\u001b[1;33m\u001b[0m\u001b[0m\n\u001b[1;32m----> 5\u001b[1;33m     \u001b[0mwrite_data\u001b[0m\u001b[1;33m(\u001b[0m\u001b[0mwords_dict\u001b[0m\u001b[1;33m,\u001b[0m \u001b[0mdocument_train\u001b[0m\u001b[1;33m,\u001b[0m\u001b[0mlabel_train\u001b[0m\u001b[1;33m,\u001b[0m\u001b[1;34m'train{}.txt'\u001b[0m\u001b[1;33m.\u001b[0m\u001b[0mformat\u001b[0m\u001b[1;33m(\u001b[0m\u001b[0mi\u001b[0m\u001b[1;33m)\u001b[0m\u001b[1;33m)\u001b[0m\u001b[1;33m\u001b[0m\u001b[1;33m\u001b[0m\u001b[0m\n\u001b[0m",
      "\u001b[1;32m<ipython-input-11-a2616504a322>\u001b[0m in \u001b[0;36mwrite_data\u001b[1;34m(word_dict, document, label, file_name)\u001b[0m\n\u001b[0;32m     10\u001b[0m         \u001b[0mtfidf\u001b[0m \u001b[1;33m=\u001b[0m\u001b[0mcompute_TFIDF\u001b[0m\u001b[1;33m(\u001b[0m\u001b[0mtf\u001b[0m\u001b[1;33m,\u001b[0m \u001b[0midf_dict\u001b[0m\u001b[1;33m)\u001b[0m\u001b[1;33m\u001b[0m\u001b[1;33m\u001b[0m\u001b[0m\n\u001b[0;32m     11\u001b[0m         \u001b[0mdat\u001b[0m \u001b[1;33m=\u001b[0m \u001b[0mtfidf\u001b[0m\u001b[1;33m.\u001b[0m\u001b[0mvalues\u001b[0m\u001b[1;33m(\u001b[0m\u001b[1;33m)\u001b[0m\u001b[1;33m\u001b[0m\u001b[1;33m\u001b[0m\u001b[0m\n\u001b[1;32m---> 12\u001b[1;33m         \u001b[0mdata\u001b[0m\u001b[1;33m[\u001b[0m\u001b[0mj\u001b[0m\u001b[1;33m,\u001b[0m \u001b[1;33m:\u001b[0m\u001b[1;33m]\u001b[0m \u001b[1;33m=\u001b[0m \u001b[0mnp\u001b[0m\u001b[1;33m.\u001b[0m\u001b[0marray\u001b[0m\u001b[1;33m(\u001b[0m\u001b[0mnp\u001b[0m\u001b[1;33m.\u001b[0m\u001b[0masarray\u001b[0m\u001b[1;33m(\u001b[0m\u001b[0mdat\u001b[0m\u001b[1;33m)\u001b[0m\u001b[1;33m)\u001b[0m\u001b[1;33m\u001b[0m\u001b[1;33m\u001b[0m\u001b[0m\n\u001b[0m\u001b[0;32m     13\u001b[0m         \u001b[0mj\u001b[0m \u001b[1;33m=\u001b[0m \u001b[0mj\u001b[0m \u001b[1;33m+\u001b[0m \u001b[1;36m1\u001b[0m\u001b[1;33m\u001b[0m\u001b[1;33m\u001b[0m\u001b[0m\n\u001b[0;32m     14\u001b[0m         \u001b[0mtf_idf\u001b[0m\u001b[1;33m.\u001b[0m\u001b[0mappend\u001b[0m\u001b[1;33m(\u001b[0m\u001b[0mtfidf\u001b[0m\u001b[1;33m)\u001b[0m\u001b[1;33m\u001b[0m\u001b[1;33m\u001b[0m\u001b[0m\n",
      "\u001b[1;31mUnboundLocalError\u001b[0m: local variable 'j' referenced before assignment"
     ]
    }
   ],
   "source": [
    "for i in range(1, 6):\n",
    "    document_test,label_test,document_train ,label_train = divide_fold(i, document)\n",
    "    words_dict = word_dict(document_train)\n",
    "#     write_data(words_dict, document_test,label_test, 'test{}.txt'.format(i))\n",
    "    write_data(words_dict, document_train,label_train,'train{}.txt'.format(i))"
   ]
  },
  {
   "cell_type": "code",
   "execution_count": null,
   "metadata": {},
   "outputs": [],
   "source": []
  },
  {
   "cell_type": "code",
   "execution_count": null,
   "metadata": {},
   "outputs": [],
   "source": [
    "# document_test,label_test,document_train ,label_train = divide_fold(1, document)\n",
    "# words_dict = word_dict(document_train)\n",
    "# words_list = word_list(document_train, words_dict)\n",
    "\n",
    "# idf_dict = compute_IDF(words_list)\n",
    "# N = len(document_train)\n",
    "# D = len(words_dict)\n",
    "# tf_idf =[]\n",
    "# j = 0\n",
    "# data = np.zeros((N, D), dtype = float)\n",
    "# for w in words_list:\n",
    "#     tf = compute_TF(words_dict, w)\n",
    "#     tfidf =compute_TFIDF(tf, idf_dict)\n",
    "#     dat = list(tfidf.values())\n",
    "#     data[j, :] = np.array(np.asarray(dat))\n",
    "#     j = j + 1                   \n",
    "#     tf_idf.append(tfidf)\n",
    "# with open('train{}.txt'.format(1), 'w') as f:\n",
    "#     for i, l in enumerate(label_test):\n",
    "#         f.write(str(l))\n",
    "#         f.write(\" \")\n",
    "#         for num in data[i, :]:\n",
    "#             f.write(str(num))\n",
    "#             f.write(\" \")\n",
    "#         f.write('\\n')"
   ]
  },
  {
   "cell_type": "code",
   "execution_count": null,
   "metadata": {},
   "outputs": [],
   "source": []
  }
 ],
 "metadata": {
  "kernelspec": {
   "display_name": "Python 3",
   "language": "python",
   "name": "python3"
  },
  "language_info": {
   "codemirror_mode": {
    "name": "ipython",
    "version": 3
   },
   "file_extension": ".py",
   "mimetype": "text/x-python",
   "name": "python",
   "nbconvert_exporter": "python",
   "pygments_lexer": "ipython3",
   "version": "3.7.3"
  }
 },
 "nbformat": 4,
 "nbformat_minor": 2
}
