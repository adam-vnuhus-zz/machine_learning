{
 "cells": [
  {
   "cell_type": "code",
   "execution_count": 1,
   "metadata": {},
   "outputs": [],
   "source": [
    "from pyvi import ViTokenizer #For split vietnamese words\n",
    "import pandas as pd #For reading xlsx file\n",
    "from gensim.parsing.preprocessing import strip_non_alphanum, strip_multiple_whitespaces,preprocess_string, split_alphanum, strip_short, strip_numeric\n",
    "import re "
   ]
  },
  {
   "cell_type": "code",
   "execution_count": 2,
   "metadata": {},
   "outputs": [],
   "source": [
    "def raw_text_preprocess(raw):\n",
    "#     raw = re.sub(r\"http\\S+\", \"\", raw)\n",
    "#     raw = split_alphanum(raw)\n",
    "#     raw = strip_non_alphanum(raw).lower().strip()\n",
    "    raw = strip_short(raw, minsize=2)\n",
    "#     raw = strip_numeric(raw)\n",
    "    raw = ViTokenizer.tokenize(raw)\n",
    "\n",
    "    return raw"
   ]
  },
  {
   "cell_type": "code",
   "execution_count": 3,
   "metadata": {},
   "outputs": [
    {
     "name": "stdout",
     "output_type": "stream",
     "text": [
      "62\n"
     ]
    }
   ],
   "source": [
    "document = []\n",
    "label = []\n",
    "with open('spam.txt', 'r', encoding = 'utf-8') as f:\n",
    "    for line in f:\n",
    "        document.append(line[6: ])\n",
    "        label.append(1)\n",
    "with open('nonspam_email.txt', 'r', encoding = 'utf-8') as f:\n",
    "    for line in f:\n",
    "        document.append(line[9: ])\n",
    "        label.append(0)\n",
    "document_test = []\n",
    "label_test = []\n",
    "with open('emailGroup3.txt', 'r', encoding = 'utf-8') as f:\n",
    "    for line in f:\n",
    "        document_test.append(line[6: ])\n",
    "        if ('non' in line[: 6]):\n",
    "            label_test.append(0)\n",
    "        else:\n",
    "            label_test.append(1)\n",
    "print(len(document))"
   ]
  },
  {
   "cell_type": "code",
   "execution_count": 4,
   "metadata": {},
   "outputs": [],
   "source": [
    "document = [raw_text_preprocess(d) for d in document]\n",
    "document_test = [raw_text_preprocess(d) for d in document_test]\n",
    "# document_test = document[62: 102]\n",
    "# label_test = label[62: 102]"
   ]
  },
  {
   "cell_type": "code",
   "execution_count": 5,
   "metadata": {},
   "outputs": [
    {
     "name": "stdout",
     "output_type": "stream",
     "text": [
      "2894\n",
      "2894\n"
     ]
    },
    {
     "name": "stdout",
     "output_type": "stream",
     "text": [
      "{'✅': 2, 'Cơ_hội': 3, 'được': 81, 'tham_gia': 16, 'hỗ_trợ': 15, 'trực_tiếp': 7, 'các': 159, 'dự_án': 5, '\"': 25, 'khủng': 2, 'với': 64, 'hàng': 9, 'triệu': 11, 'khách_hàng': 4, 'trong': 82, 'nước': 2, 'và': 154, 'quốc_tế': 7, '.': 604, 'Được': 8, 'trải': 6, 'nghiệm': 5, 'môi_trường': 1, 'làm_việc': 5, 'trẻ': 3, ',': 495, 'chuyên_nghiệp': 7, 'sáng_tạo': 4, 'Lương': 3, 'thời_gian': 23, 'đào_tạo': 8, 'từ': 44, '300': 1, 'USD': 1, '+': 16, 'Phụ_cấp': 1, 'cơm': 2, 'trưa': 2, 'cafe': 1, 'miễn_phí': 8, 'hướng_dẫn': 13, 'mentors': 1, 'là': 53, 'chuyên_gia': 5, 'hàng_đầu': 7, 'lĩnh_vực': 9, 'Marketing': 1, '≥': 1, '...': 6, 'HÌNH_THỨC': 1, 'ĐĂNG_KÝ': 4, ':': 197, 'B1': 4, 'Truy_cập': 3, 'http://bit.ly/2AezDzP': 1, 'Click': 1, 'Đăng_kí': 1, 'Điền_thông_tin': 1, 'B2': 4, 'Like_Fanpage': 1, 'http://bit.ly/2PctnNo,': 1, 'bật': 3, 'chế_độ': 2, 'See_First': 1, 'B3': 1, 'Join': 1, 'group': 1, 'VNG': 9, 'HN': 4, 'TALENT': 2, 'FRESHER': 1, \"http://bit.ly/2PgfA8R\\\\n'\": 1, 'Tiết_kiệm': 2, 'đến': 30, '300.000': 2, 'đ': 5, 'cùng': 20, 'siêu': 5, 'ưu_đãi': 15, 'GrabPay': 11, 'by': 13, 'Moca': 13, 'Muốn': 1, 'di_chuyển': 1, 'tiết_kiệm': 2, 'nhớ': 1, 'ngay': 19, '“': 17, 'thần_chú': 1, 'bạn': 174, 'nhé': 15, '!': 39, 'Theo': 5, 'đó': 22, 'để': 78, 'việc': 21, 'đi_lại': 1, 'tháng': 27, 'cuối': 16, 'năm': 11, 'của': 93, 'thật': 5, 'thoải_mái': 1, 'hơn': 18, 'Grab': 17, 'dành': 10, 'tặng': 5, 'mã': 10, 'GPM300': 2, '100.000': 1, 'chuyến': 6, 'lần': 6, 'đầu': 4, 'thanh_toán': 11, 'bằng': 16, '(': 117, 'Bao_gồm': 1, 'từng': 5, 'đi': 16, 'qua': 22, 'Thẻ': 8, 'Thanh_toán': 4, 'Ví': 5, ')': 119, 'Áp_dụng': 3, '06': 6, '/': 148, '12': 7, '2018': 17, '*': 12, 'Ưu_đãi': 2, 'áp_dụng': 5, 'cho': 82, 'phiên_bản': 2, 'ứng_dụng': 6, 'mới': 37, 'nhất': 33, 'Hiện_tại': 2, 'trên': 31, 'App_Store': 1, 'Google_Play': 1, 'V5': 1, '21.0': 1, 'Lưu_ý': 8, '✔': 5, '️': 7, 'ĐẦU_TIÊN': 1, 'hoặc': 33, 'dịch_vụ': 6, 'không': 54, 'bao_gồm': 7, 'GrabFood': 1, 'toàn_quốc': 1, 'phụ_phí': 2, 'Bạn': 25, 'vui_lòng': 12, 'nếu': 12, 'có': 74, 'tài_xế': 1, 'Số_lượng': 3, 'có_hạn': 3, 'mỗi': 12, 'ngày': 52, 'Đặt': 1, 'Ngay': 4, 'phương_thức': 1, 'dùng': 11, 'tiền_mặt': 1, 'chi_trả': 1, 'khi': 32, 'sử_dụng': 14, 'dựa': 1, 'nền_tảng': 2, 'điện_tử': 4, '1': 23, '⃣': 2, 'Kích_hoạt': 1, 'cách': 22, 'liên_kết': 3, 'thẻ': 6, 'ATM': 5, 'phát_hành': 2, 'những': 41, 'ngân_hàng': 8, 'hợp_tác': 1, 'ACB': 2, 'BIDV': 6, 'Sacombank': 2, 'SCB': 2, 'SHB': 2, 'Vietcombank': 3, 'Vietinbank': 1, 'VPBank': 3, 'Timo': 1, 'powered': 1, 'Ngoài_ra': 3, 'cũng': 13, 'có_thể': 40, 'ghi_nợ': 3, 'VISA': 2, 'MasterCard': 2, 'Amex': 2, 'Debit': 2, 'bởi': 2, '2': 10, 'tín_dụng': 2, 'JCB': 1, 'Credit': 1, 'thêm': 16, 'loại': 16, 'này': 44, 'vào': 27, 'Hướng_dẫn': 4, 'kích_hoạt': 1, 'tín_nhiệm': 1, 'hoạt_động': 5, 'VietinBank': 1, 'Timo_Powered': 1, 'VPbank': 1, '[': 16, 'QUÀ': 1, 'TẶNG': 1, ']': 16, 'Cải_Thiện': 1, 'Vượt_Bậc': 1, 'Khả_Năng': 1, 'Nghe': 1, 'Với': 10, 'Bộ': 3, 'Ebook': 6, 'Tiếng': 9, 'Anh': 27, 'Giá_Trị': 1, 'Sau': 5, 'CẢI_THIỆN': 1, 'VƯỢT_BẬC': 1, 'KHẢ_NĂNG': 1, 'NGHE': 1, 'VÀ': 4, 'GIAO_TIẾP': 1, 'VỚI': 5, 'BỘ': 2, 'EBOOK': 3, 'TIẾNG': 2, 'ANH.': 1, 'thân_mến': 7, 'Khả_năng': 1, 'nghe': 5, 'coi': 1, 'tối': 4, 'quan_trọng': 5, 'giao_tiếp': 3, 'Nếu': 10, 'hiểu': 3, 'người': 19, 'khác': 12, 'nói_gì': 1, 'chúng_ta': 12, 'sẽ': 70, 'dễ': 8, 'rơi': 2, 'cảnh': 1, 'ngậm': 1, 'hột_thị': 1, 'Rất': 1, 'may_mắn': 2, 'kỹ_năng': 7, 'quá': 5, 'khó': 2, 'lên': 12, 'trình': 1, 'chỉ': 11, 'cần': 26, 'kiên_nhẫn': 1, 'làm_quen': 1, 'nó': 4, 'luyện_tập': 2, 'chậm_rãi': 1, 'bước': 6, 'Giống': 1, 'như': 23, 'trước': 13, 'học': 48, 'bơi': 1, 'phải': 7, 'chơi': 1, 'vậy': 3, 'Đặc_biệt': 1, 'chọn': 7, 'liệu': 1, 'tốc_độ': 1, 'nói': 6, 'chậm': 1, 'rõ': 3, 'Như_thế': 1, 'tạo': 5, 'cảm_hứng': 1, 'tiếp_tục': 3, 'cố_gắng': 3, 'CLICK': 2, 'VÀO': 1, 'ĐÂY': 2, 'ĐỂ': 1, 'NHẬN': 2, 'TRỌN': 1, 'ANH': 1, 'GIÁ_TRỊ': 1, 'Hôm_nay': 1, 'thứ': 13, 'TOPICA': 9, 'Native': 9, 'gửi': 28, 'mà': 12, 'tận': 1, '03': 6, 'KÈM': 1, 'AUDIO': 1, 'thỏa_sức': 1, 'luyện': 3, 'biết': 17, 'phát_âm': 1, 'chuẩn': 2, 'lại': 20, 'còn': 9, 'tăng': 1, 'từ_vựng': 4, 'nữa': 8, 'Món': 1, 'quà': 5, 'đã': 58, 'ngoại_ngữ': 2, 'dày': 1, 'công': 1, 'nghiên_cứu': 6, 'chọn_lọc': 1, 'ra': 17, 'nội_dung': 1, 'phù_hợp': 12, 'hiệu_quả': 5, 'tiếng': 18, 'Hy_vọng': 3, 'thích_thú': 1, 'món': 1, 'cực': 7, 'xịn': 1, 'Hướng_Dẫn': 1, 'Thiền_Yoga': 7, 'Đúng': 1, 'Cách': 6, 'Cho': 2, 'Người': 1, 'Mới': 1, 'Bắt_Đầu': 1, 'WeFit': 6, 'gì': 22, '?': 44, 'Tuyển_dụng': 10, 'Phòng_tập': 1, 'Kiến_thức': 1, 'Thân': 10, 'quý_khách': 1, 'sự': 5, 'kết_hợp': 1, 'động_tác': 1, 'Yoga': 2, 'sau': 23, 'ngồi_thiền': 1, 'tùy': 3, 'theo': 19, 'mong_muốn': 3, 'Thông_thường': 1, 'lớp': 13, 'tập': 9, 'tư_thế': 1, 'xong': 1, 'giáo_viên': 5, 'Tuy_nhiên': 5, 'muốn': 17, 'tại': 65, 'nhà': 24, 'bắt_đầu': 6, 'gặp': 11, 'nhiều': 21, 'khó_khăn': 6, 'ngồi': 2, 'im_lặng': 1, 'một': 44, 'phút': 1, 'bài': 31, 'viết': 19, 'đúng': 5, 'Cần': 1, 'chuẩn_bị': 4, 'Tạo': 3, 'không_gian': 1, 'yên_tĩnh': 2, 'ánh_sáng': 1, 'đèn': 1, 'mờ': 1, 'mùi': 1, 'hương': 1, 'nhẹ_nhàng': 1, 'Vì': 3, 'phương_pháp': 2, 'tìm': 8, 'nơi': 6, 'thật_sự': 1, 'bất_cứ': 7, 'ồn': 1, 'nào': 16, 'hoàn_toàn_tập': 1, 'Đọc': 1, 'Một_số': 5, 'gợi': 1, 'Mách': 1, 'chị_em': 2, 'lịch': 8, 'gym': 2, 'giảm': 4, 'cân': 1, 'nữ': 1, 'buổi': 15, 'tuần': 9, 'chi_tiết': 27, 'T._p': 1, '10': 37, 'bài_tập': 7, 'Yoga_cơ_bản': 1, 'Cộng_đồng': 2, 'chia_sẻ': 6, 'kiến_thức': 9, 'tập_luyện': 4, 'dinh_dưỡng': 2, 'review': 2, 'phòng': 10, 'thành_viên': 15, 'Hà_Nội': 25, 'TP.': 8, 'HCM.': 5, 'cung_cấp': 3, 'giải_pháp': 1, 'fitness': 1, 'Việt_Nam': 22, 'đặt': 4, 'dễ_dàng': 2, '30': 14, 'bộ_môn': 1, 'thú_vị': 2, 'gần': 3, 'mình': 29, 'bất_kỳ': 6, 'đâu': 6, 'hệ_thống': 9, '750': 1, '5000': 1, 'hoàn_toàn': 2, 'chủ_động': 2, 'trở_nên': 1, 'thuận_tiện': 1, 'bản_thân': 6, 'bao_giờ': 7, 'hết': 11, 'Chúc': 9, 'vui_vẻ': 1, 'lập': 4, 'thời_gian_biểu': 6, 'hiệu_quả_cân_bằng': 2, 'giữa': 2, 'công_việc': 8, 'cuộc_sống': 4, 'Lập': 1, 'giúp': 14, 'kiểm_soát': 1, 'vừa': 5, 'hoàn_thành_công_việc': 1, 'nghỉ_ngơi': 1, 'một_cách': 3, 'Chính': 2, 'vì_vậy': 1, 'ngày_nay': 1, 'rất': 13, 'chính': 9, 'Bài': 2, 'đây': 35, 'chúng_tôi': 17, 'lợi_ích': 1, 'Xem': 26, '›': 1, 'BÀI': 2, 'VIẾT': 2, 'NỔI_BẬT': 2, 'Những': 5, 'câu': 8, 'hỏi': 8, 'hay': 8, 'thường': 7, 'phỏng_vấn': 12, 'Đừng': 3, 'lo_lắng': 3, 'về': 35, 'bởi_vì': 1, 'dưới': 7, 'trả_lời': 5, 'trọng_tâm': 1, 'lưu': 10, 'lá': 3, 'thư': 4, 'từ_chối': 2, 'nhận': 32, 'Từ_chối': 2, 'công_ty': 11, 'việc_làm': 23, 'đối_với': 4, 'Nếu_như': 1, 'không_thể': 2, 'bày_tỏ': 2, 'thì': 14, 'hãy': 9, 'điều': 9, 'ấn_tượng': 2, 'lời': 4, 'mời': 5, 'nộp': 16, 'hồ_sơ': 14, 'ứng_tuyển': 9, 'làm_sao': 3, 'tốt': 16, 'mắt': 1, 'tuyển_dụng': 13, 'Kỹ_năng': 1, 'vượt': 2, 'chán_nản': 1, 'nên': 5, 'đang': 21, 'mất': 3, 'tập_trung': 2, 'làm': 24, 'chẳng': 3, 'hứng_thú': 1, 'kể_cả': 1, 'sinh_hoạt': 2, 'thường_ngày': 1, 'đơn_giản': 9, 'giải_trí': 1, 'Đăng_tin': 2, 'Tìm': 5, 'ứng_viên': 7, 'sự_thật': 2, 'phũ_phàng': 2, '”': 16, 'câu_chuyện': 4, 'Isay': 1, 'xuất_bản': 4, 'cuốn': 8, 'sách': 10, 'tựa': 1, 'đề': 6, 'Callings': 1, 'The_Purpose': 1, 'and': 3, 'Passion': 1, 'of': 8, 'Work': 1, 'tạm': 1, 'dịch': 1, 'Mục_tiêu': 1, 'đam_mê': 2, 'anh': 9, 'ngàn': 1, 'tìm_kiếm': 5, 'họ': 3, 'yêu': 2, 'thích': 3, 'Làm': 4, 'thế_nào': 6, 'mọi': 8, 'thực_sự': 1, 'hiện_thực_hóa': 1, 'mơ_ước': 1, 'Dưới': 3, 'một_số': 7, 'ấy': 6, 'Nguyên_nhân': 1, 'dẫn': 1, 'tình_trạng': 2, 'rối_loạn': 1, 'sức_khỏe': 4, 'công_sở': 1, 'Bên': 1, 'cạnh': 1, 'nguyên_nhân': 1, 'tuổi_tác': 1, 'thói_quen': 1, 'khiến': 1, 'dân': 1, 'văn_phòng': 1, 'gây': 1, 'ảnh_hưởng': 4, 'nghiêm_trọng': 1, 'chi': 1, 'tiếtCV': 1, 'trình_bày': 1, 'chưa': 12, 'CV': 6, 'gương_mặt': 1, 'nhìn': 2, 'thấy': 12, 'đầu_tiên': 5, 'Để': 12, 'đảm_bảo': 2, 'nổi_bật': 2, 'vòng': 15, 'mẹo': 4, 'Làm_sao': 1, 'xóa_bỏ': 1, 'nỗi': 1, 'ám_ảnh': 1, 'khả_năng': 1, 'tìm_hiểu': 4, 'tự_tin': 3, '5': 5, 'sống_sót': 2, 'tiệc': 4, 'Có': 8, 'bữa': 2, 'tan': 2, 'vẫn': 4, 'bị': 4, 'uy_tín': 1, 'nhân_phẩm': 1, 'sự_nghiệp': 2, 'Lịch': 5, 'Ôn_Thi': 1, 'A2': 3, 'kịp': 1, 'đợt': 3, 'thi': 56, 'lấy': 1, 'chứng_chỉ': 3, 'nay': 3, 'ngữ': 2, 'VIVIAN': 1, 'gấp_rút': 1, 'khai_giảng': 3, 'Hãy': 6, 'liên_hệ': 12, 'kiểm_tra': 8, 'trình_độ': 6, 'tài_liệu': 2, 'Trung_tâm': 15, 'Vivian': 1, 'Website': 9, 'TiengAnhB1': 1, 'Com_Vstep': 1, 'edu': 3, 'vn': 7, 'Đc': 1, 'Cs1': 1, 'Số': 7, '302': 2, 'Nguyễn_Trãi': 2, 'Q._Nam': 1, 'Từ_Liêm': 1, 'Cs2': 1, '50': 5, 'Ngõ': 1, '16': 4, 'Phan_Văn_Trường': 1, 'Cầu': 2, 'Giấy': 4, 'SĐT': 1, '024.710.696.88': 1, 'Hotline': 5, '0974498347': 1, 'Email': 13, 'tienganhb1.com@gmail.com': 1, 'nguyễn_trãi': 1, 'nam': 1, 'liêm': 1, '84': 1, 'Vietnam_Bạn': 1, 'hủy': 1, 'đăng_ký': 20, 'thay_đổi': 14, 'thông_tin': 25, 'lúc_nào': 1, 'Cung_cấp': 1, 'GetResponse': 1, 'Giỏ_hàng': 1, 'đợi': 2, 'đấy': 3, 'ơi': 2, 'Hình_như': 1, 'Xin': 8, 'chào': 7, 'Luxstay': 5, 'rằng': 7, 'ghé': 1, 'thăm': 2, 'lựa_chọn': 5, 'chỗ': 5, 'sắp': 2, 'tới': 20, 'Nhưng': 2, 'báo': 4, 'hình_như': 1, 'Vì_vậy': 2, 'email': 17, 'hoàn_thành': 6, 'booking': 1, 'quên': 1, 'nhập': 1, 'COMEBACK': 1, 'sốc': 1, '20': 11, '%': 7, 'giỏ': 1, 'Hẹn': 1, 'Đến': 3, 'hanoi_saigon': 1, 'da_lat': 1, 'da': 2, 'nang': 1, 'sapa': 1, 'nha': 2, 'trang': 2, 'Bản_quyền': 1, 'thuộc': 4, 'Công_ty': 5, 'TNHH': 2, 'Mọi': 4, 'hành_vi': 1, 'sao_chép': 1, 'đều': 2, 'phạm_pháp': 1, 'phép': 6, 'văn_bản': 1, 'Quỳnh': 1, 'xem': 12, 'phù_hợp_nhất': 2, '18': 5, '09': 12, 'vieclam24hNgười': 1, 'Việc_làm': 4, 'Phạm_Thị_Quỳnh': 5, 'Việc_Làm': 1, '24h': 3, 'đầy_đủ': 7, 'tiêu_chí': 6, 'thiết_lập': 3, 'Hệ_thống': 3, 'giới_thiệu': 3, 'tương_tự': 3, 'mở_rộng': 2, 'hôm_nay': 4, 'VIỆC': 2, 'LÀM': 5, 'TƯƠNG_TỰ': 2, 'Nhân_Viên': 8, 'Lễ_Tân_Hành_Chính': 1, 'Khu_Vực': 1, 'Long_Biên': 1, 'Cổ_phần': 2, 'Tập_đoàn': 5, 'Công_nghiệp': 2, 'Việt': 2, 'Nộp': 5, 'Tư_Vấn': 1, 'Tại': 5, 'Tame': 1, 'Giám_Sát': 1, 'Bán': 1, 'Hàng': 2, '-': 41, '20Tr': 1, 'Benny': 1, '15': 3, 'HCM': 2, 'Bán_Hàng': 1, 'Trang_Sức': 1, 'vàng_bạc': 1, 'đá_quý': 1, 'DOJI.': 1, 'Hà_Nột': 1, '26': 2, 'Kho': 1, 'Tp': 1, 'Công_Ty_TNHH': 2, 'MTV': 2, 'Thương_Mại': 1, 'Dịch_Vụ': 1, 'Xuất_Nhập_Khẩu': 1, 'Hoành_Vũ_triệu': 1, 'thông_báo': 16, 'cập_nhật': 9, 'ntv@vieclam24h.vn': 1, 'Hoặc': 3, 'gọi': 4, 'số': 10, 'hotline': 2, '024': 3, '7109': 4, '2424': 2, '028': 2, 'hôm_qua': 5, '338': 1, '2,246': 1, 'tổng_số': 1, '624,814': 1, 'Bấm': 2, '>>': 6, 'www': 9, 'vieclam24h': 1, 'Gửi': 2, '9': 1, 'Timviecnhanh': 1, 'com': 10, 'Sale': 1, 'Văn_Phòng': 1, 'Digipower': 1, '7': 11, 'Hồ_Chí_Minh': 7, '2019': 46, 'Kỹ_Sư': 1, 'Công_Nghệ_Thông_Tin': 1, 'CTY': 2, 'CP': 3, 'SAMECO': 1, 'trực_thuộc': 5, 'HAWACO': 1, 'MIỀN': 1, 'NAM': 1, '11': 3, 'Thiết_Kế': 2, 'Đồ_Hoạ': 1, 'Graphic_Designer': 1, 'CÔNG_TY_TNHH': 3, 'SX': 1, 'TM': 1, 'DV': 1, 'KIM': 1, 'NGƯU': 1, 'Đồ_Họa_Đi': 1, 'THIẾT_KẾ': 1, 'IN': 1, 'GIA': 1, 'THỊNH': 1, '05': 5, 'Digital_Marketing': 1, 'CÔNG_TY': 5, 'ĐẦU_TƯ': 1, 'PHÁT_TRIỂN': 1, 'THƯƠNG_MẠI': 3, 'ĐIỆN_TỬ': 1, 'QUỐC_TẾ': 1, '»': 1, 'Cập_nhật': 1, 'ntv@timviecnhanh.com': 1, '2828': 2, 'thư_mục': 4, 'Việc': 1, 'Nhanh': 1, '401': 1, 'tổng': 1, '5.376': 1, 'Ngừng': 3, 'mail': 4, 'timviecnhanh': 1, 'Flash': 1, 'SALE': 3, 'Cực_Chất': 2, 'Xập_Xình': 1, 'Săn': 1, 'Deal': 1, 'hãng': 1, 'Nhận': 4, '2h': 1, 'TIKINOW.': 1, 'THỜI_TRANG': 3, 'ĐẸP': 1, 'MẸ': 1, 'BÉ': 1, 'CÔNG_NGHỆ': 3, 'NHÀ_CỬA': 1, 'SÁCH': 1, 'Bão_sale': 1, 'giảm_giá': 1, 'FLASH': 1, 'Số_Lượng': 1, 'Có_Hạn': 1, 'XEM': 3, 'THÊM': 2, 'Siêu_thị': 1, 'tã': 1, 'bỉm': 1, 'giá': 6, 'Hàng_Loạt': 1, 'Khuyến_Mãi': 1, 'Mẹ': 1, 'MUA': 7, 'NGAY.': 6, 'DEAL': 5, 'tràn_trề': 1, 'Sốc': 1, 'Mừng_Lương': 1, 'Về': 3, 'sale': 1, 'Mã_QUOCTE60KGiảm': 1, 'Thêm': 3, '60K': 1, 'Du_lịch': 1, 'mùa': 3, 'thu': 6, 'đỏ': 1, 'Mã_DLTHUDONG': 1, 'Giảm': 1, '3': 10, 'NGAY': 4, 'SẢN_PHẨM': 4, 'BẠN': 4, 'ĐÃ': 2, 'XEM.': 1, 'Image': 3, 'Chỉ': 4, '2390000': 1, 'VND.': 1, 'ƯU_ĐÃI': 1, 'KHÁC': 1, 'TẠI': 4, 'TIKI.': 1, 'Văn_phòng': 1, 'cổ_phần': 1, 'Tiki': 1, '52': 1, 'Út_Tịch': 1, 'P.': 3, '4': 10, 'Q.': 1, 'Tân_Bình': 1, '1900': 3, '6035': 1, 'hotro@tiki.vn': 1, 'tự_động': 1, 'Hủy': 1, 'Follow': 1, 'us': 1, 'Download': 1, 'TIKIAPP': 1, 'Ngày_hội': 1, 'innisfree': 3, 'day': 2, '27': 3, '28': 3, '29': 3, 'đặc_quyền': 1, 'riêng': 7, 'trở_lại': 1, 'hấp_dẫn': 5, 'đặc_biệt': 6, 'duy_nhất': 1, 'Chẳng_thể': 1, 'lâu': 2, 'sẵn_sàng': 4, 'hội': 1, 'bấm': 2, 'CodersX': 3, 'Học': 4, 'mãi': 1, 'Đã': 2, 'rồi': 4, 'khóa': 2, 'vấn_đề': 4, 'giảng': 1, 'feedback': 1, 'team': 3, 'Team': 2, 'giải_đáp': 4, 'sớm': 6, 'Cùng': 1, 'nhau': 3, 'thành_công': 4, 'con': 2, 'đường': 13, 'trở_thành': 12, 'lập_trình_viên': 2, 'Thân_mến': 3, 'Bí_quyết': 5, 'chăm': 1, 'thời': 1, 'nhiễm': 1, 'DƯỠNG': 2, 'DA': 2, 'SẠCH': 2, 'TRANG_ĐIỂM': 2, 'CHĂM_SÓC': 4, 'CƠ_THỂ': 2, 'KHUYẾN_MÃI': 2, 'TÌM_HIỂU': 1, 'Cảm_ơn': 4, 'Quý_khách': 1, 'sản_phẩm': 11, 'website': 3, 'tfscare': 2, 'nhanh': 3, 'KHÁCH_HÀNG': 2, 'Chương_trình': 7, 'sinh_nhật': 2, 'khuyến_mãi': 2, 'làm_đẹp': 2, 'KẾT_NỐI': 4, 'CHÚNG_TÔI': 4, '1900636534': 1, 'TRÁCH_NHIỆM': 1, 'HỮU_HẠN': 1, 'HOA': 2, 'SEN': 2, 'VIỆT': 2, '25Bis': 2, 'Nguyễn_Thị_Minh_Khai': 2, 'Phường': 4, 'Bến_Nghé': 4, 'Quận': 6, 'Tp.': 2, 'CSKH': 1, 'customercare@hsvgroup.com.vn': 1, 'Mua': 1, 'online': 4, 'thefaceshop': 1, 'ngừng': 2, 'quyền_lợi': 3, 'click': 2, 'unsubscribe': 2, '10.10': 1, 'Crazy': 1, 'Upto': 1, 'Xuất_Hiện': 1, 'Freeship': 1, 'Toàn_Quốc': 1, '0968.86.33.77': 2, 'Độc_quyền': 1, 'phân_phối': 1, 'thương_hiệu': 1, 'THEFACESHOP': 1, 'thị_trường': 2, 'Trụ_sở': 4, 'Tầng': 8, 'Toà': 4, 'HD': 1, 'Bank': 1, 'Việt_Nam_Hotline': 1, 'Cuối': 1, 'gặp_mặt': 4, 'Deloitte': 2, 'IBM': 2, 'Vietnam': 2, 'Datamart': 1, 'PAT': 2, 'Consulting': 2, 'VNPT': 1, 'IT': 10, 'tên': 7, 'tuổi': 3, 'lớn': 5, 'ngành': 6, 'công_nghệ': 14, 'tiềm_năng': 2, 'Trí_tuệ': 1, 'Nhân_tạo': 1, 'AI': 9, 'ngày_càng': 1, 'phát_triển': 10, 'khu_vực': 6, 'song_hành': 1, 'chuyển_mình': 1, 'thế_giới': 1, 'rubikAI': 1, 'Nexus': 2, 'FrontierTech': 2, 'VTV24': 1, 'đồng': 1, 'tổ_chức': 5, 'sự_kiện': 4, 'Vietnam_Frontier': 3, 'Summit': 3, 'chủ_đề': 2, 'Intelligence': 2, 'in': 15, 'Motion': 2, 'Star_Galaxy': 2, '87': 2, 'Láng_Hạ': 2, 'Vietnam_Frontier_Summit': 1, 'cơ_hội': 6, 'gặp_gỡ': 1, 'quản_lý': 2, 'chuyên_gia_công_nghệ': 3, 'Shark': 1, 'Nguyễn_Hoà_Bình': 1, 'NextTech': 1, 'Group': 2, 'Ruby': 1, 'Nguyễn': 1, 'ELSA': 2, 'Nguyễn_Tuấn_Khang': 1, 'Phạm_Hữu_Quang': 1, 'Sun': 1, 'Phi_Anh': 1, 'Tuấn': 1, 'Nguyễn_Việt_Thái': 1, 'Asilla': 1, 'xuất_hiện': 3, 'công_nghệ_châu': 1, 'Á': 1, 'Danny_Goh': 1, 'Sang': 2, 'Shin': 1, 'Temasek': 1, 'Tak': 1, 'Lo': 1, 'Zeroth': 1, 'ai': 5, 'Ernest_Xue': 1, 'Hello': 2, 'Tomorrow': 1, 'Singapore': 3, 'Pavel_Poskakhukhin': 1, 'Đề_cao': 1, 'tiến_bộ': 1, 'làm_nên': 1, 'bước_ngoặt': 1, 'to_lớn': 1, 'kiến_tạo': 1, 'tương_lai': 3, 'thông_điệp': 1, 'diễn': 2, 'giả': 2, 'gửi_gắm': 1, 'ba': 3, 'sân_khấu': 1, 'Open': 2, 'Stage': 1, 'Sân_khấu': 2, 'mở': 3, 'Thuyết_trình': 2, 'thảo_luận': 2, 'toàn_cảnh': 1, 'hệ': 1, 'sinh_thái': 1, 'start': 1, 'ups': 1, 'doanh_nghiệp': 6, 'lớnExhibition': 1, 'zone': 1, 'Gian': 1, 'triển_lãm': 1, 'Quy_tụ': 1, 'đầy': 3, 'triển_vọng': 1, 'OSAM': 1, 'Pixta': 1, 'Inc': 1, 'Renova': 1, 'hòa': 2, 'xu_hướng': 2, 'thế_giớiDeep': 1, 'dive': 2, 'for': 8, 'Tech_Deep': 1, 'Biz': 1, 'chuyên_sâu': 2, 'kỹ_sư': 1, 'nóng': 1, 'phần': 2, 'Thời_gian': 9, '8': 8, '00': 12, 'Địa_điểm': 5, 'Đống_Đa': 3, 'Còn': 3, 'vài': 2, 'Đại_Hội': 1, 'GIẢI_PHÓNG': 1, 'Tham_gia': 5, 'ngầu': 1, 'ADR': 1, 'Nhấn': 2, 'adayroi': 3, 'com_iPhone': 1, 'NẠP': 2, 'THẺ': 2, 'TIÊU_DÙNG': 2, 'MỸ_PHẨM': 2, 'DỊCH_VỤ': 4, 'SỨC_KHỎE': 2, 'line': 4, 'Giải_phóng': 1, 'deal': 1, 'ĐẾM': 1, 'NGƯỢC': 1, 'ĐẾN': 1, 'NGÀY': 1, 'KHAI_HỘI': 1, 'countdown': 3, 'Giá': 8, 'bất_bại': 3, 'đại_bác': 2, 'số_lượng': 5, 'giao': 2, 'Uy_tín': 2, '1901': 2, 'cskh@adayroi.com': 2, 'https://www.adayroi.com': 1, 'Adayroi': 6, 'Facebook_Adayroi': 2, 'Google': 3, 'Plus_Adayroi': 2, 'Youtube': 2, 'spacer': 2, 'TẢI': 2, 'APP': 2, 'ADAYROIline': 2, 'Down': 4, 'app': 4, 'IOS': 2, 'Androi': 2, 'QR': 2, 'Code': 5, 'CỔ_PHẦN': 3, 'TỔNG_HỢP': 2, 'VINCOMMERCE': 1, '72': 4, 'Lê_Thánh_Tôn': 2, 'Thành_phố': 2, 'bỏ': 3, 'lỡ': 4, '@': 1, 'newsletter': 1, 'danh_sách': 8, 'cam_kết': 3, 'bảo_mật': 2, 'bản': 4, 'tin': 6, 'This': 2, 'message': 3, 'is': 6, 'sent': 2, 'to': 18, 'you': 20, 'because': 3, 'your': 8, 'address': 2, 'on': 4, 'our': 4, 'subscribers': 2, 'list': 2, 'If': 3, 'are': 4, 'not': 5, 'interested': 2, 'receiving': 2, 'more': 2, 'emails': 2, 'like': 3, 'this': 2, 'one': 2, 'just': 4, 'hit': 2, 'Unsubscribe': 3, 'Đề_Nghị': 1, 'Giúp_Đỡ': 1, 'Trong': 7, 'Chào': 2, 'Khi': 5, 'giúp_đỡ': 3, 'ngỏ': 1, 'ngần_ngại': 1, 'sẽn': 1, 'mãi_mãi': 1, 'Let': 3, 'me': 4, 'do': 8, 'something': 4, 'động': 2, '‘': 7, 'let': 3, '’': 23, 'nghĩa_là': 2, 'xảy': 5, 'cụm': 1, 'I': 9, 'm': 1, 'free': 1, 'tomorrow': 1, 'so': 4, 'take': 1, 'the': 13, 'kids': 1, 'school': 2, 'rỗi': 1, 'cả': 6, 'ngày_mai': 2, 'đưa': 2, 'bọn': 1, 'trẻ_con': 1, 'trường': 11, 'hộ': 2, 'You': 2, 'need': 1, 'find': 1, 'out': 2, 'if': 1, 'whole': 1, 'story': 1, 'true': 1, 'Bà': 1, 'tôi': 11, 'thôi': 3, 'd': 7, 'be': 10, 'glad': 5, 'help': 4, 'Chúng_ta': 4, 'cấu_trúc': 5, 'thể_hiện': 5, 'sẵn_lòng': 3, 'Từ': 5, 'mang': 4, 'nghĩa': 2, 'with': 6, 'wedding': 1, 'preparation': 1, 'know': 1, 'have': 2, 'gone': 1, 'through': 1, 'lot': 1, 'will': 8, 'try': 1, 'as': 2, 'useful': 1, 'possible': 1, 'Tớ': 2, 'cậu': 5, 'đám_cưới': 1, 'chuyện': 2, 'tớ': 1, 'cố': 1, 'Anytime': 1, 'want': 5, 'here': 4, 'As': 2, 'mentioned': 1, 'before': 1, 'family': 1, 'any': 1, 'situations': 1, 'owe': 1, 'everything': 1, 'Bất_cứ': 1, 'Như': 1, 'gia_đình': 1, 'tình_huống': 4, 'Tôi': 6, 'nợ': 1, 'đơn': 10, 'Đây': 3, 'ít': 1, 'trang_trọng': 3, 'đề_nghị': 4, 'Ta': 1, 'mà_ta': 1, 'Why': 1, 'busy': 2, 'again': 1, 'afternoon': 1, 'Another': 1, 'pointless': 1, 'meeting': 2, 'boss': 1, 'heh': 1, 'Fine': 1, 'go': 1, 'shopping': 1, 'Which': 1, 'snacks': 2, 'Sao': 1, 'ông': 2, 'bận': 2, 'tiếp': 2, 'chiều': 1, 'thế': 3, 'họp': 2, 'vô_nghĩa': 1, 'sếp': 1, 'à': 1, 'mua_đồ': 1, 'Ông': 1, 'You_can': 1, 'spend': 1, 'how': 1, 'much': 1, 'time': 3, 'bathroom': 1, 'We': 2, 'no': 1, 'hurry': 1, 'hold': 1, 'door': 1, 'promise': 1, 'keep': 1, 'it': 4, 'open': 1, 'tắm': 1, 'bao_lâu': 1, 'vội': 1, 'giữ': 3, 'cửa': 1, 'hứa': 1, 'happy': 4, 'Cấu_trúc': 1, 'khá': 1, 'tinh_tế': 1, 'answer': 1, 'questions': 1, 'cô': 9, 'happened': 1, 'also': 1, 'Friday': 1, '13th': 1, 'although': 1, 'we': 1, 'planned': 1, 'advance': 1, 'due': 1, 'an': 1, 'emergency': 1, 'Thus': 1, 'reschedule': 1, 'appointment': 1, 'Thứ': 1, '13': 1, 'dù': 1, 'xếp': 2, 'vì': 6, 'khẩn_cấp': 1, 'Do_vậy': 2, 'can': 6, 'Động': 1, 'khuyết_thiếu': 1, 'Nó': 2, 'What': 1, 'see': 2, 'sir': 2, 'new_suit': 1, 'party': 1, 'dress': 1, 'lovely': 1, 'wife': 1, 'what': 1, 'assist': 1, 'that': 1, 'Ngài': 1, 'thưa': 1, 'ngài': 3, 'Một': 3, 'bộ': 3, 'suit': 1, 'chiếc': 3, 'váy': 1, 'quý': 2, 'bà': 1, 'vợ': 1, 'Chúng_tôi': 6, 'thiếu_hụt': 1, 'cái': 1, 'nhưng': 7, 'might': 1, 'feel': 1, 'cold': 1, 'That': 1, 's': 4, 'normal': 1, 'newcomers': 1, 'adjust': 1, 'temperature': 1, 'air': 1, 'conditioners': 1, 'It': 1, 'up': 1, 'Ngươi': 1, 'cảm': 1, 'lạnh': 1, 'Điều': 1, 'bình_thường': 2, 'ngươi': 2, 'ta': 4, 'điều_chỉnh': 2, 'nhiệt_độ': 2, 'băn_khoăn': 1, 'lộ_trình': 7, 'chinh_phục': 1, 'tư_vấn': 6, 'chương_trình': 12, 'Native_Gen5': 1, 'Đăng_ký': 1, 'bên': 5, 'MIỄN': 1, 'PHÍ': 1, 'NATIVE': 2, 'GEN5': 2, 'Bước': 2, 'nhảy_vọt': 2, 'công_nghệ_học': 2, 'trực_tuyến': 3, 'Luyện': 1, 'thỏa_thích': 3, 'Úc': 2, 'Mỹ': 2, 'lúc': 3, 'máy_tính': 3, 'kết_nối_mạng': 1, 'xây_dựng': 1, 'học_tập': 4, 'VP': 5, 'miền': 9, 'Bắc': 4, '75': 2, 'Phương_Mai': 2, 'Nam': 3, '58': 1, 'Thành': 1, 'Thái': 1, 'native@topica.edu.vn': 1, 'Không': 3, 'Dễ_dàng': 2, 'gia_hạn': 4, 'điểm': 23, 'thưởng': 16, 'giao_dịch': 13, 'GrabRewards': 4, 'hạn': 4, 'miễn': 3, 'ít_nhất': 4, 'Hạn_dùng': 4, 'tính': 6, 'tiếp_theo': 2, 'kể': 4, 'cuối_cùng': 3, '31': 3, 'Như_vậy': 3, 'thực_hiện': 4, 'hạn_dùng': 2, 'Gia_hạn': 2, 'Tìm_hiểu': 3, '𝐅𝐑𝐄𝐄𝐒𝐇𝐈𝐏': 1, 'khung': 2, 'giờ': 6, 'vàng': 2, 'Shopping': 1, 'thả': 2, 'ga': 2, 'ngại': 2, 'xa': 1, 'Tặng': 1, '350K': 1, 'https://www.adayroi.com.': 1, 'VINCOMMERCETrụ': 1, 'sở': 1, 'adayroi@newsletter-adayroi.com': 1, 'Gói_đăng': 1, 'Quý': 2, 'Em': 2, 'Kim_Thoa': 3, '0273': 2, '3.970': 2, '789': 2, '0913962646': 1, 'Chuyên_viên': 2, 'Sàn': 1, 'WWW.': 2, 'MYTHOINFO.': 2, 'COM_Em': 1, 'xin': 6, 'bảng': 3, 'ạ': 1, 'đề_xuất': 1, 'phương_án': 2, 'Thoa': 1, 'mong': 1, 'nhanh_chóng': 1, 'chất_lượng': 1, 'ĐĂNG': 1, 'TIN': 1, 'HIỆU_QUẢ': 1, 'CHI_PHÍ': 1, 'HỢP_LÝ': 1, 'Tin': 3, 'cố_định': 2, 'VIP': 2, 'Quyền_lợi': 1, '1,500,000': 1, '600.000': 1, 'hiển_thị': 1, 'Tăng': 1, 'tương_tác': 2, 'Facebook': 8, 'Đội_ngũ': 1, 'tư_vấn_viên': 1, '2.800,000': 1, '1.000.000': 1, '5.000.000': 1, '1.800.000': 1, 'VAT': 1, 'Cam_kết': 1, 'cá_nhân': 6, 'em': 35, 'Đảm_bảo': 1, 'nhân_sự': 2, 'ưng': 1, 'TỐT': 1, 'NHẤT': 1, 'THỊ_TRƯỜNG': 1, '0913.962646': 1, 'truy_cập': 2, 'COM': 1, 'Trân_trọng': 10, 'spam': 1, '|': 1, 'quá_khứ': 10, 'Past': 2, 'Simple_Thân': 1, 'Thì': 2, 'căn_bản': 1, 'ngữ_pháp': 4, 'thường_xuyên': 2, 'phổ_biến': 3, 'văn': 1, 'phạm': 1, 'Khám_phá': 1, 'Định_nghĩa': 1, 'simple': 1, 'diễn_tả': 1, 'hành_động': 5, 'sự_vật': 1, 'xác_định': 1, 'vừa_mới': 1, 'kết_thúc': 3, 'Diễn_đạt': 3, 'một_vài': 2, 'He': 1, 'visited': 1, 'his': 1, 'parents': 1, 'every': 1, 'weekend': 1, 'bố_mẹ': 2, 'liên_tiếp': 1, 'She': 1, 'turned': 1, 'her': 2, 'computer': 1, 'read': 1, 'answered': 1, 'Cô': 5, 'đọc': 3, 'nhắn': 2, 'xen': 1, 'When': 1, 'was': 5, 'having': 2, 'breakfast': 1, 'phone': 3, 'suddenly': 1, 'rang': 1, 'ăn': 1, 'sáng': 3, 'điện_thoại': 3, 'đột_nhiên': 1, 'reo': 1, 'Công_thức': 1, 'Câu': 4, 'khẳng_định': 1, 'were': 2, 'V': 4, 'ed': 1, 'at': 1, 'my': 1, 'friend': 1, 'house': 1, 'yesterday': 4, 'morning': 1, 'studied': 1, 'English': 1, 'last': 7, 'night': 3, 'Tối': 2, 'phủ_định': 1, 'nguyên_thể': 3, 'did': 2, 'nguyên': 1, 'thể': 3, 'She_wasn': 1, 't': 4, 'very': 1, 'lost': 1, 'money': 1, 'vui': 3, 'tiền': 11, 'He_didn': 1, 'come': 1, 'week': 2, 'Tuần': 1, 'nghi_vấn': 1, 'Was': 2, 'Were': 1, 'Did_V': 1, 'she': 3, 'tired': 1, 'hearing': 1, 'customer': 1, 'complaint': 1, 'mệt': 1, 'phàn_nàn': 1, 'Yes': 2, 'No': 2, 'wasn': 1, 'Did': 1, 'he': 3, 'miss': 1, 'train': 1, 'Cậu_ta': 1, 'tàu': 1, 'didn': 1, 'Dấu_hiệu': 1, 'nhận_biết': 1, 'month': 1, 'year': 1, 'năm_ngoái': 1, 'ago': 3, 'two': 2, 'hours': 1, 'weeks': 1, 'when': 1, 'thăng_tiến': 1, 'bắt_đầu_từ': 3, 'thích_hợp': 1, 'MIỄN_PHÍ': 1, 'vô_cùng': 2, 'LINK': 1, 'BÊN': 1, 'DƯỚI': 1, 'Kiểm_tra': 6, 'Gen5_Luyện': 1, 'nước_ngoài': 1, 'Chặng': 1, 'nỗ_lực': 1, 'vươn': 1, 'phụ_nữ': 2, 'thế_kỷ': 1, '21': 2, 'ca': 1, '8h': 1, 'đêm': 1, '100': 2, 'Giảng_viên': 2, 'Âu': 1, 'tuyển_chọn': 1, 'tiêu_chuẩn': 1, 'Đầy_đủ': 1, 'cần_thiết': 3, 'IELTS': 18, '7.0': 4, 'ebook': 4, 'học_viên': 5, 'kết_quả': 17, 'cực_kỳ': 2, 'khả_quan': 1, '6.5': 5, 'trở': 6, 'Hiện': 1, 'tác_giả': 1, 'Thay_vì_thế': 1, 'nhu_cầu': 1, 'IELTS.': 1, 'Bởi_vì': 1, 'thiết_thực': 1, 'có_ích': 1, 'writing': 2, 'task': 4, 'Cuốn': 2, 'đạt': 8, 'band': 5, 'Writing': 8, '200': 1, 'đủ': 5, 'Academic': 2, 'cơ_bản': 4, 'nâng': 3, 'cao': 10, 'mẫu': 2, 'điểm_cao': 1, 'tất_cả': 6, 'dạng': 4, 'cuôn': 1, 'thế_là': 1, 'cộng_đồng_học': 1, 'Tải': 8, 'Ebook_Demystify': 1, 'map': 2, 'bản_đồ': 2, 'Task_Dạng': 1, 'Map': 3, 'bây_giờ': 1, 'Writing_Task': 1, 'thí_sinh': 7, 'đừng': 2, 'sợ': 1, 'mạng': 10, 'Tổng_hợp': 1, 'Collocation': 1, 'Speaking_Đây': 1, 'tổng_hợp': 3, 'collocation': 1, 'hiếm': 1, 'mục_tiêu': 2, 'Speaking': 4, 'Các': 25, 'Tạp_chí': 2, 'chấm': 1, 'Tổng_hợp_đề': 1, 'kèm': 7, 'đáp_án': 5, 'chính_thức': 11, 'IDP': 1, 'BC': 1, 'ôn_luyện': 1, 'tham_khảo': 5, 'phân_tích': 2, 'luôn': 4, 'lẫn': 2, 'trọn': 2, 'tạp_chí': 1, 'Ebook_Bộ': 1, 'dự_đoán': 2, '2020': 2, 'gồm': 3, 'Đề': 2, 'Reading': 4, 'tỉ_lệ': 2, 'trúng': 4, 'passage': 1, 'Đáp_án': 1, 'Listening': 5, 'section': 1, 'Tỉ_lệ': 1, 'bán_triệu': 1, 'mua': 2, 'học_sinh_học': 1, 'kĩ_năng': 3, 'chiến_thuật': 2, 'tự': 2, 'Tài_liệu': 3, 'gốc': 1, 'ngọn': 1, 'bổ_ích': 3, 'củng_cố': 1, 'mất_gốc': 1, 'Khóa': 2, 'Online': 1, '7.5': 2, '8.0': 1, 'hóa': 1, 'https://ducthangbui.com/khoa-hoc-ielts-truc-tuyen-ielts-online-class/': 2, 'chữa': 2, 'General': 1, '': 17, 'CƠ_HỘI': 3, 'THỰC_TẬP': 3, 'DÀNH': 2, 'CHO': 2, 'CÁC': 1, 'SINH_VIÊN': 2, 'VTCC': 5, 'INTERNSHIP': 1, 'sinh_viên': 34, 'hẹn': 2, 'nối': 1, 'chuỗi': 2, 'Đào_tạo': 6, 'Hưởng': 1, 'lương': 5, 'phúc_lợi': 1, 'Không_gian': 10, 'Mạng_Viettel': 2, 'khởi_động': 2, 'TÀI_NĂNG': 1, 'Viettel': 13, 'Viettel_Cyberspace': 2, 'Center': 2, 'đơn_vị': 2, 'Viễn_thông': 4, 'định_hướng': 2, 'Nghiên_cứu': 2, 'kinh_doanh': 2, 'tự_hào': 1, 'hội_tụ': 2, 'đội_ngũ': 3, 'DPI': 3, 'Deep_Packet': 3, 'Inspection': 3, 'BigData': 2, 'Machine': 3, 'Learning': 3, 'Artificial_Intelligence': 3, 'Data': 7, 'Mining': 5, 'Speech': 2, 'Recognition': 2, 'Virtual': 2, 'Assistant': 2, 'NLP': 5, 'Natural_Language': 3, 'Processing': 4, '…': 7, 'Môi_trường': 2, 'thân_thiện': 2, 'trẻ_trung': 2, 'năng_động': 3, 'khuyến_khích': 2, 'tự_do': 2, 'YÊU_CẦU': 1, 'Ngành': 1, 'yêu_cầu': 7, 'CNTT': 4, 'ĐTVT': 2, 'ATTT': 2, 'Đại_học': 8, 'Bách_Khoa': 1, 'Công_nghệ': 4, 'Quốc_gia': 5, 'Học_viện': 4, 'Bưu_chính': 1, 'Kỹ_thuật': 2, 'Mật_mã': 1, 'Hệ': 1, 'dân_sự': 1, 'Quân_sự': 1, 'Đáp_ứng': 1, 'Điểm': 3, 'trung_bình': 2, '3.0': 1, 'Đạt': 1, 'giải': 1, 'kỳ': 3, 'Toán': 1, 'Tin_học': 4, 'cấp': 4, 'Quốc_tế': 1, 'công_trình': 1, 'giải_thưởng': 6, 'top': 1, 'LỘ_TRÌNH': 1, '01': 7, 'Phỏng_vấn': 3, 'hội_đồng': 1, 'Thông_báo': 8, 'THÔNG_TIN': 3, 'LIÊN_HỆ': 2, 'Ứng_viên': 4, 'địa_chỉ': 5, 'vtcc@viettel.com.vn': 2, 'Mail_Subject': 2, 'HCM_Họ': 2, 'tên_SVTT': 1, 'Contact': 2, '0978.331.994': 1, 'Ms._Dung': 2, '0164.799.7266': 1, 'Ms._My': 1, 'https://www.facebook.com/ViettelCyberspaceCenter': 2, 'http://www.vtcc.vn': 2, 'chần_chừ': 2, 'apply': 2, 'chất': 2, 'giành': 2, 'vé': 3, 'đại_gia_đình': 2, 'Think_Big': 2, 'Do': 3, 'way': 3, '41': 2, 'Tòa': 3, 'Keangnam': 2, 'Landmark': 2, 'Phạm_Hùng': 2, 'Quận_Nam': 2, 'Liêm': 2, 'TP': 2, '23': 3, 'Viettel_Complex': 2, '285': 2, 'Cách_Mạng_Tháng_Tám': 2, 'http://vtcc.vn': 2, 'page': 2, 'https://facebook.com/ViettelCyberspaceCenter': 2, 'Phân_công_cán': 1, 'bọ': 1, 'tiểu_luận': 4, 'khoa_học': 3, 'K61': 2, 'Khoa': 6, 'cán_bộ': 2, 'ban': 1, 'lãnh_đạo': 1, 'duyệt': 1, 'Sinh_viên': 10, ';': 12, 'Khoa_học': 4, 'cụ_thể': 2, 'học_kỳ': 3, 'II': 1, 'năm_học': 2, 'học_phần': 3, 'ThS.': 1, 'Trịnh_Thị_Bích_HIên': 1, 'Toán_Cơ': 2, 'Trường': 4, 'Tự_nhiên': 2, 'ĐHQG': 1, 'cơ_quan': 3, '043': 1, '8581135': 1, 'điện_thoại_di_động': 4, '0912': 1, '066': 1, '818': 1, 'RoboHUS': 1, 'Thay_mặt': 3, 'Ban': 5, 'chân_thành': 2, 'cảm_ơn': 10, 'mạnh_dạn': 2, 'sân_chơi': 2, 'kỹ': 1, 'thụât': 1, 'Hi_vọng': 1, 'tuyệt_vời': 1, 'quãng': 1, 'khỏi': 2, 'bỡ_ngỡ': 1, 'khái_niệm': 1, 'robot': 3, 'code': 5, 'sao': 2, 'lằng_nhằng': 1, 'anh_chị': 1, '12h00': 1, '12h45': 1, 'Phòng': 8, '108': 1, 'T3': 1, 'Phòng_thí_nghiệm': 1, 'Bộ_môn': 1, 'Vật_lý': 2, 'Vô_tuyến': 1, 'chốt': 1, 'tập_huấn': 1, 'biến': 2, 'thành': 3, 'truyền_miệng': 1, 'Lab': 1, 'mentor': 1, 'trụ_cột': 1, 'nhóm': 4, 'Cái': 2, 'thiếu': 1, 'chút': 2, 'một_chút': 1, 'đánh_thức': 1, 'như_vậy': 1, 'thầm': 1, 'thầy': 3, 'hai': 1, 'Khoa_Toán': 1, 'Cơ': 1, 'tin_học': 1, 'điều_kiện': 3, 'hết_mức': 1, 'ngoại_khoá': 1, 'khơi': 1, 'dậy': 1, 'đam': 1, 'Nhờ': 1, 'rộng_rãi': 1, 'đội': 13, 'giao_lưu': 1, 'học_hỏi': 3, 'Your': 1, 'sincerely': 1, 'Thao': 1, 'Quang_Le': 1, 'Dr.': 1, 'Faculty': 1, 'Physics': 1, 'VNU': 2, 'University': 2, 'Science': 1, '334': 2, 'Nguyen': 2, 'Trai': 2, 'Thanh_Xuan': 2, 'Hanoi': 1, 'Vietnam_Mobile': 1, 'Phone': 1, '84.983.712.941': 1, 'Fax': 1, '84.43.858.4069': 1, 'thaolq@vnu.edu.vn': 1, 'thaolq@hus.edu.vn': 1, 'K61A2': 1, 'OSCs': 1, 'Bài_tập': 1, 'thực_hành': 1, '20190219': 1, 'Mình': 2, 'ôn_tập': 2, 'chương': 2, '3,4,5': 1, 'lần_lượt': 1, 'máy': 1, 'Yêu_cầu': 2, 'Kết_quả': 3, 'đầu_ra': 1, 'ví_dụ': 7, 'chạy': 1, 'Chapter': 1, '<': 5, 'x': 2, '>': 5, '_vd': 1, 'Thư_mục': 1, 'chứa': 3, 'Chapter3vd1': 1, 'file': 12, 'c': 2, 'cpp': 1, 'project': 1, 'binary': 1, 'biên_dịch': 3, 'README.': 2, 'txt': 2, 'câu_lệnh': 1, 'word': 3, 'mô_tả': 2, 'rút': 3, 'liên_quan': 3, 'Cách_thức': 1, 'nén': 2, 'zip': 3, 'name': 1, '_': 1, 'ID': 1, '_OSC_example_20190219': 1, 'NguyenVanA_123456_OSC_example_20190219': 1, 'reply': 1, 'tiêu_đề': 1, 'Deadline': 2, '23h59': 1, \"'\": 1, '25': 2, '02': 6, 'điền': 1, 'mã_số': 1, 'sv': 1, 'Regards': 1, 'Tien': 1, 'Dat_Nguyen': 1, 'Video_Image': 1, 'Processing_Lab': 1, 'Hyungnam': 1, 'Building': 2, 'Soongsil': 1, '369': 1, 'doro': 1, 'Dongjak': 1, 'gu': 1, 'Seoul': 1, 'Korea': 1, 'Tel': 1, '010': 1, '9962': 1, '2704': 1, 'Mã': 1, 'tài_khoản': 11, 'K61_Thân': 1, 'chi_nhánh': 1, 'Thanh_Xuân': 1, 'nhà_trường': 4, 'học_phí': 8, 'trả': 1, 'học_bổng': 2, 'thông_qua': 1, 'Kế': 1, 'hoạc': 1, 'Tài_chính': 1, 'học_kì': 1, 'nhờ': 2, 'chuyển': 6, 'quét': 1, '50.000': 1, 'khoảng': 1, 'nghìn': 1, 'đc': 1, 'ban_đầu': 2, 'nhập_học': 1, 'do_vậy': 1, 'bổ_sung': 3, 'quyết_định': 3, 'check': 1, 'KHÔNG': 7, 'ĐƯỢC': 1, 'DỰ': 1, 'THI': 1, 'HỌC_KÌ': 1, 'có_học_bổng': 1, 'tích': 1, 'hopwj': 1, 'SV': 2, 'cso': 1, 'ảnh': 2, 'chứng_minh_thư': 1, 'pho': 1, 'Nguyễn_Huy_Tưởng': 1, 'toàn': 2, 'HAPULICO': 1, 'Vũ_Trọng_Phụng': 2, 'Thủy_phòng': 1, '320': 1, 'T1': 2, 'Long': 2, 'HP': 2, 'Address': 2, 'Department': 1, 'Mathematics': 1, 'Mechanics': 1, 'Informatics': 1, 'University_of': 1, 'Science_Cell': 1, '0168.21.21.268': 2, 'phamhoanglong': 1, 'AT': 2, 'hus': 1, 'longhp': 1, 'vnu': 1, 'NGHỀ_NGHIỆP': 1, 'MỚI': 1, 'TRUNG_TÂM': 1, 'KHÔNG_GIAN': 1, 'MẠNG': 1, 'VIETTEL': 1, 'quan_tâm': 3, 'nghề_nghiệp': 3, 'bạn_bè': 1, 'Java_Back': 1, 'end': 1, 'Developer_Mobile': 1, 'App_Developer': 1, 'Java': 6, 'Web_Developer': 1, 'Python_Developer': 1, 'PHP': 1, 'Developer': 1, 'iOS': 1, 'Android_Developer': 1, 'ReactNative': 1, 'System_Engineering': 1, 'C': 2, 'ReactJs': 2, 'Developer_Search': 1, 'Engine': 1, 'Backend_Developer': 1, 'Developer_Speech': 1, 'Processing_Developer': 1, 'Windows_Developer': 1, 'Speech_Processing': 1, 'Researcher': 2, 'Automation_Tester': 1, 'Developer_Tester': 1, 'Business_Analyst': 1, 'Thông_tin': 5, 'đính': 3, 'http://www.vtcc.vn/tuyen-dung/': 1, 'thực_tập': 9, 'tuyển': 1, 'scan': 2, 'bằng_cấp': 1, 'chụp': 1, 'CMND': 3, 'mặt': 1, 'tên_Tên': 1, 'vị_trí': 6, '0978331994': 1, '024.2233.8899': 1, 'Ms._Phương': 1, 'follow': 1, 'Page': 1, 'FB': 2, 'FYI': 1, 'chiến_lược': 1, 'Quân_đội': 2, 'Tổng_quan': 1, 'Lịch_sử': 1, 'hình_thành': 1, 'Ngày': 4, '14': 2, '2014': 1, 'Dự_án': 4, 'Tường': 1, 'lửa': 1, 'thành_lập': 2, 'tiền_thân': 1, 'hiện_nay': 1, 'Không_Gian': 1, 'Big': 1, 'CDN': 1, 'Cloud': 1, 'Social': 1, 'Voice': 1, 'SMS': 1, 'Firewall': 1, 'Advertising': 1, 'Content': 1, 'Filtering': 1, 'chờ': 3, 'tốt_nghiệp': 3, 'Practice': 1, 'best': 1, 'learn': 1, 'kì': 2, 'THCS1': 2, 'Chào_Trà': 1, 'Đối_với': 1, 'báo_cáo': 1, 'slide': 1, 'chuyển_tiếp': 1, 'nguyenminhhai06@gmail.com': 1, 'MT': 1, '&': 1, 'KHTT': 1, 'nguyenthitam.hus@gmail.com': 1, 'Toán_Tin': 1, 'thắc_mắc': 3, '22': 2, 'giải_quyết': 1, 'Active_Learning': 4, 'Mining_Thân': 1, 'Finance': 1, 'Insurance': 1, 'Retail': 1, 'cơ_sở': 2, 'vật_chất': 1, 'lớp_học': 4, 'kinh_phí': 1, 'tài_trợ': 1, 'giới_hạn': 1, 'đông_đảo': 1, 'Vậy': 2, 'thời_điểm': 2, 'hiện_tại': 1, 'Thật_sự': 1, 'tiếc': 1, 'sắp_xếp': 2, 'Data_Mining': 5, 'Hỗ_trợ': 1, 'Phát_triển': 1, 'CENSTED': 1, 'liên_lạc': 1, 'triển_khai': 2, 'Lớp': 1, 'xét_duyệt': 2, 'chúc_mừng': 2, 'sơ_tuyển': 1, 'suy_nghĩ': 1, 'nghiêm_túc': 1, 'link': 6, 'https://docs.google.com/forms/d/e/1FAIpQLSeJzot1rsRcH8LtL94WZlY13N7t-qYJ4bpdJQWryqnpBsIbzg/viewform': 1, 'chúc': 1, 'THƯ': 2, 'MỜI': 2, 'Workshop': 2, 'Stateless': 3, 'vs': 3, 'Stateful': 3, 'Programming_Logic': 3, 'HTTP_Design': 1, 'static': 2, 'method': 2, 'non': 1, 'prototype': 1, 'singleton': 1, 'Stateless_Stateful': 1, 'thiết_kế': 2, 'lập_trình': 12, 'Lập_trình': 6, 'thủ_thuật': 1, 'cách_thức': 1, 'ngắn_gọn': 1, 'Tất_cả': 1, 'WORKSHOP': 1, 'CodeGym': 2, 'VelaCrop': 1, 'workshop': 1, 'JAVA': 2, 'Diễn': 1, 'Nhữ_Đình_Thuận_Technical': 1, 'Leader': 1, 'SA': 1, 'Homedirect': 1, 'HR': 1, 'Partner': 1, 'Technical_Reviewer': 1, 'công_ty_chứng_khoán': 1, 'VNdirect': 1, 'Chuyên_gia_tư_vấn': 1, 'FSoft': 1, 'ECoIT': 1, 'năng': 1, 'kinh_nghiệm': 2, 'Tác_giả': 1, 'VietSpider': 2, 'crawl': 1, 'internet': 1, 'mạnh_mẽ': 1, 'Sự_kiện': 1, 'nằm': 1, 'Quỹ': 1, 'đầu_tư': 1, 'Velacorp': 1, 'phối_hợp': 2, 'hiện_đại': 2, '14h': 1, '16h': 1, 'Hệ_Thống': 1, 'Đào_Tạo': 1, 'Lập_Trình_Viên': 1, 'Hiện_Đại_CodeGym_Tầng': 1, 'MD': 1, 'Complex': 1, '68': 1, 'Nguyễn_Cơ_Thạch': 1, 'Mỹ_Đình': 1, 'HOTLINE': 1, '6653': 1, '5759': 1, 'VNG_Corp': 2, 'GIVE': 2, 'AWAY': 2, 'TUYỂN_DỤNG': 1, 'CORP': 1, 'HÀ': 1, 'NỘI': 1, 'Cám_ơn': 1, 'Give_Away': 1, 'Report': 2, '2017': 3, 'cận': 1, 'khối': 1, 'Mobile_Game': 1, 'Development_Fresher': 1, 'Đợt': 1, 'thường_niên': 1, 'cộng_đồng': 1, 'đón': 1, 'Fresher': 4, 'nhằm': 2, 'phát_hiện': 3, 'tài_năng': 1, 'chuyên_môn': 2, 'nhân_viên': 2, 'VNG.': 2, 'Chưa': 1, 'thu_nhập': 2, 'thực_tế': 4, 'Công_việc': 1, 'gắn_bó': 1, 'lâu_dài': 1, 'Vẫn': 1, 'ÍT_NHẤT': 1, '7,000,000': 1, 'café': 1, 'bài_bản': 1, 'thử_thách': 1, 'chục': 1, 'Technical': 1, 'linh_hoạt': 1, 'full': 1, 'part': 1, 'tối_thiểu': 3, 'chi_phí': 1, 'văn_hóa': 1, 'thể_dục': 1, 'thể_thao': 1, 'Điều_kiện': 2, 'dự_kiến': 1, 'Nắm': 1, 'vững': 1, 'dữ_liệu': 2, 'giải_thuật': 1, 'hướng': 1, 'đối_tượng': 4, 'Tư_duy': 1, 'logic': 1, 'Tinh_thần': 1, 'cầu': 1, 'tiến': 1, 'See': 1, 'first': 1, 'update': 4, 'Hà_Nội_tại': 1, 'Fanpage': 4, 'Talent': 1, 'Freshers_Facebook': 1, 'NGUYỄN_THỊ': 1, 'PHƯƠNG': 1, 'THẢO': 1, 'Ms.': 1, 'Recruitment': 1, 'Branch_Manager': 1, 'VNG_Corporation': 1, '12A': 1, 'Floor': 1, 'SongHong': 1, 'Thai': 1, 'Ha_St': 1, 'Ba': 1, 'Dinh_Dictrict': 1, 'Webiste': 1, 'vng': 2, 'Skype': 1, 'Thaontp903': 1, 'facebook': 2, 'thaontp': 1, 'thaontp2@vng.com.vn': 1, 'CodeWar': 2, 'Sơ': 2, 'Cuộc': 4, 'Code_War': 11, 'FPT': 3, 'Software': 2, 'Trung_ương': 1, 'Hội': 2, 'Nam_Ban': 1, 'Tổ_chức': 3, 'trân_trọng': 3, 'tham_dự': 11, 'Vòng_Sơ': 9, 'trận': 4, '20h00': 2, 'Codelearn': 3, 'io': 2, 'Mỗi': 1, 'địa_điểm': 3, 'account': 2, 'thi_đấu': 9, 'chung': 2, 'nhỏ': 1, 'BTC': 9, 'hợp_lý': 1, 'https://tinyurl.com/biquyetthiteam': 1, 'công_nhận': 1, 'cuộc': 12, 'Cao_đẳng': 1, 'sinh_sống': 2, 'minh_chứng': 1, 'Photo': 2, 'Xác_nhận': 1, 'Bảng_điểm': 2, 'BTC._Đội': 1, 'ĐỦ': 1, 'trường_hợp': 2, 'giả_mạo': 1, 'kê_khai_thông_tin': 1, 'Vi_phạm': 1, 'quy_định': 2, 'Quy_chế': 1, 'tiến_hành': 1, 'vi_phạm': 1, 'đồng_thời': 2, 'quyền': 1, 'truy_thu': 1, 'danh_hiệu': 1, 'trao': 2, 'xem_xét': 2, 'xếp_hạng': 1, 'kế_tiếp': 1, 'Quyết_định': 1, 'ĐH': 1, '–': 1, 'HV': 1, 'CĐ': 1, 'sửa': 1, 'BTC.': 1, 'Lưu': 1, 'nhầm': 1, 'vùng': 3, '9h00': 1, '02.10.2019': 1, 'Vào': 1, '01.10.2019': 1, 'Livestream': 2, 'công_bố': 2, 'Đấu_trường': 1, 'Cuder': 1, '04': 3, 'Software_Click': 1, 'Minigame': 1, 'Thay_Avatar': 1, 'giải_đáp_số': 1, 'liên_tục': 1, 'https://www.facebook.com/events/530266294444875/': 1, 'CONTACT': 1, 'CodeWar@fsoft.com.vn': 1, 'Chung_kết': 2, 'Lời': 1, 'thay_mặt': 1, 'ủng_hộ': 1, 'tích_cực': 2, 'suốt': 2, 'đấu': 1, 'trận_đấu': 1, 'kiến_nghị': 1, 'Trung': 2, 'Trận_đấu': 1, 'trùng': 1, 'Vòng': 3, 'sơ': 1, 'Miền': 3, 'Olympic': 1, 'ACM': 1, 'ICPC.': 1, 'lịch_trình': 1, 'cũ': 1, 'Trận': 2, '08': 3, 'Dự_kiến': 3, '24': 1, 'đồng_hành': 2, 'vòng_đấu': 1, 'War': 1, 'Samsung': 5, 'Hồ_sơ': 3, 'Đàm_Tuấn_Anh': 1, 'Nhân_Sự': 1, 'Electronics': 1, 'SVMC': 14, 'năng_lực': 3, 'STC': 4, 'IM': 3, 'Level_Thân': 1, 'v': 2, 'Level': 1, 'CHÚC_MỪNG': 1, 'XUẤT_SẮC': 1, 'VƯỢT': 1, 'QUA': 1, 'Năng_lực': 2, 'level': 2, 'SVMC.': 4, 'Kỹ_sư': 6, 'phần_mềm': 4, 'rộng_mở': 1, 'Phần': 2, 'xuất_sắc': 2, 'ngoài': 2, 'mong_đợi': 2, 'chào_đón': 1, 'gia_nhập': 1, 'bảo_lưu': 1, 'thay': 1, 'đầu_vào': 2, '17': 2, 'nho_nhỏ': 1, '0': 1, 'Like': 1, 'SamsungVietnamRnD': 1, 'Hoàn_thành': 1, 'Chấp_nhận': 1, 'Bằng': 1, 'Tốt_nghiệp': 1, 'bảo_vệ': 3, 'Đồ_án': 1, 'samsungcareers': 1, 'mục': 1, 'Chọn': 1, 'job': 1, 'Ứng_tuyển': 1, '^': 2, 'Khám': 1, 'trợ_cấp': 2, '11.000.000': 1, 'VND': 1, '80': 1, 'tháng_lương': 1, '6': 3, 'Advanced': 1, 'Ký': 1, 'hợp_đồng': 1, '19': 2, 'Nhân_sự': 2, 'Linux_Team': 3, 'Offline': 3, '15h00': 1, '17h00': 1, '15,16,22,23': 1, 'The_Coffee': 1, 'House': 1, '259': 1, 'Kim_Mã': 1, 'Ba_Đình': 1, 'Chi_phí': 3, 'Miễn_phí': 1, 'Trừ': 1, 'định': 1, 'Donate': 1, 'tiền_đồ': 1, 'uống': 1, 'đăng_kí': 4, 'form': 1, 'http://bit.ly/offlinemienbaclan3ltvn': 1, 'Event': 1, 'https://www.facebook.com/events/677404859386411/': 1, 'Sẽ': 1, 'Tham_Gia': 1, 'bất_kì': 1, 'video': 1, 'http://bit.ly/hdofflinemienbaclan3ltvn': 1, 'Thư': 1, 'Thực_tập_sinh': 3, 'Mời': 1, 'Tốt': 1, 'Sáu': 1, 'Thí_sinh': 1, 'xe': 2, 'xung_quanh': 1, 'tòa': 4, '07': 2, 'tầng': 1, 'hầm': 1, 'PVI': 1, 'Phạm_Văn_Bạch': 1, 'xuất_trình': 1, 'BẮT_BUỘC': 1, 'xác_nhận': 1, 'http://bit.ly/2VrR8Ea': 1, 'Có_mặt': 1, 'thủ_tục': 1, 'an_ninh': 1, 'Ăn_mặc': 1, 'lịch_sự': 1, 'dép_lê': 1, 'thiết_bị': 2, 'USB': 1, 'laptop': 1, 'trừ': 1, 'ĐTDĐ': 1, 'dán': 1, 'tem': 1, 'An_ninh': 1, 'Mang': 1, 'giấy_tờ': 1, 'bản_gốc': 1, 'thay_thế': 1, 'Viện': 1, 'Chuẩn_bị': 1, 'kiến': 1, 'phản_hồi': 2, 'Mr.': 2, 'Hoàng_Trọng_Tuấn': 1, '0912.406.001': 1, 'ht.tuan@samsung.com': 1, 'Nguyễn_Ngọc_Tú': 1, '0888.99.00.81': 1, 'tu.nn2@samsung.com': 1, 'hè': 2, 'HC': 1, 'ĐN': 1, 'Office': 1, 'International': 1, 'Relations': 1, 'hcdn@hus.edu.vn': 1, 'đại_học': 1, 'khởi_nghiệp': 1, 'Đối_tượng': 1, '2019.3': 1, 'đề_cử': 1, 'ĐHQGHN': 5, '2.8': 1, '4.0': 1, 'Trình_độ': 1, 'TOEFL': 2, 'iBT': 1, '92': 1, 'PBT': 1, '580': 1, 'Chứng_chỉ': 2, 'thời_hạn': 1, 'Đơn': 1, 'khám': 1, 'hộ_chiếu': 1, 'lưu_bản': 1, '218': 1, 'Điện_thoại': 1, '0332273098': 1, '3000': 1, 'SGD': 1, 'bao': 1, 'phí': 1, 'bảo_hiểm': 1, 'máy_bay': 1, 'Chi_tiết': 1, 'https://enterprise.nus.edu.sg/educate/summer-programme': 1, 'P': 1, 'HCĐN': 1, 'VỀ': 1, 'HỌC_PHẦN': 1, 'ĐỢT': 1, 'Thầy': 3, 'vừa_qua': 1, 'Hiện_nay': 2, 'xử_lý': 1, 'thích_đáng': 1, 'yên_tâm': 1, 'ôn_thi': 2, 'kế_hoạch': 1, 'nghỉ': 2, 'môn': 1, 'Phương_trình': 2, 'đạo_hàm': 2, 'TS.': 1, 'Dư_Đức_Thắng': 1, 'đột_xuất': 1, 'tiết': 1, 'Tư': 1, 'giảng_đường': 1, '401T4': 1, 'Buổi': 1, 'GÓC': 1, 'CẢNH_BÁO': 1, 'HUS': 1, 'cổng': 1, 'phía': 1, 'tầm': 1, 'cầm': 1, 'sổ': 1, 'chào_mời': 1, 'tăm': 1, 'TUYỆT_ĐỐI': 1, 'TĂM': 1, 'CUNG_CẤP': 1, 'lợi_dụng': 1, 'cả_tin': 1, 'lừa_đảo': 2, 'vòi': 1, 'điện_thoại_dọa': 1, 'nạt': 1, 'cảnh_giác': 1, 'chú': 1, 'Khảo_sát': 1, 'tình_hình': 1, 'Kính': 1, 'hiện': 1, 'đầu_mối': 1, 'đánh_giá': 1, 'thực_trạng': 1, 'công_tác': 1, 'khảo_sát': 4, 'tiếp_nhận': 2, 'ĐHKHTN': 2, 'kính': 1, 'Cã': 1, 'khoa': 1, 'Đường': 2, 'Cơ_quan': 1, 'Doanh_nghiệp': 1, 'https://goo.gl/forms/TkxfkNLy9lsXM1Ud2': 1, 'https://goo.gl/forms/sMjLDkNEndBFOFF12': 1, 'Faculty_Mathematics': 1, 'Mechanis_Informatics': 1, 'Ha_Nội': 1, 'Cell': 1, 'p_hoanglong@hus.edu.vn': 1, 'phamhoanglong@hus.edu.vn': 1, 'mrhoanglong.hus@gmail.com': 1, 'longhp@vnu.edu.vn': 1}\n"
     ]
    }
   ],
   "source": [
    "res = {}\n",
    "words = {}\n",
    "word_list = []\n",
    "for doc in document:\n",
    "    token = doc.split(\" \")\n",
    "    for tok in token:\n",
    "        if tok in res.keys():\n",
    "            res[tok] = res[tok] + 1\n",
    "        else:\n",
    "            res.update({tok : 1})\n",
    "    for key, value in res.items():\n",
    "        if value >= 1:\n",
    "            words.update({key : value})\n",
    "#     word = {}\n",
    "#     for tok in token:\n",
    "#         if tok in word.keys():\n",
    "#             word[tok] = word[tok] + 1\n",
    "#         else:\n",
    "#             word.update({tok : 1})\n",
    "#     word_list.append(word)\n",
    "print(len(words))\n",
    "print(len(res))\n",
    "print(words)"
   ]
  },
  {
   "cell_type": "code",
   "execution_count": 6,
   "metadata": {},
   "outputs": [
    {
     "data": {
      "text/plain": [
       "(62, 2894)"
      ]
     },
     "execution_count": 6,
     "metadata": {},
     "output_type": "execute_result"
    }
   ],
   "source": [
    "import numpy as np\n",
    "vectors = []\n",
    "\n",
    "for doc in document:\n",
    "    vector = np.zeros(len(words))\n",
    "    for i, word in enumerate(words.keys()):\n",
    "        if word in doc:\n",
    "            vector[i] = 1\n",
    "    vectors.append(vector)\n",
    "np.shape(vectors)"
   ]
  },
  {
   "cell_type": "code",
   "execution_count": 7,
   "metadata": {},
   "outputs": [],
   "source": [
    "def smoothing(a, b):\n",
    "    return float((a + 1)/(b + 1))"
   ]
  },
  {
   "cell_type": "code",
   "execution_count": 8,
   "metadata": {},
   "outputs": [
    {
     "name": "stdout",
     "output_type": "stream",
     "text": [
      "39 23\n"
     ]
    }
   ],
   "source": [
    "spam = 0\n",
    "non_spam = 0\n",
    "\n",
    "for l in label:\n",
    "    if l == 1:\n",
    "        spam += 1\n",
    "    else:\n",
    "        non_spam += 1\n",
    "print(spam, non_spam)"
   ]
  },
  {
   "cell_type": "code",
   "execution_count": 9,
   "metadata": {},
   "outputs": [],
   "source": [
    "spam_coef = smoothing(spam, (spam + non_spam))\n",
    "non_spam_coef = smoothing(non_spam, (spam + non_spam))"
   ]
  },
  {
   "cell_type": "code",
   "execution_count": 10,
   "metadata": {},
   "outputs": [],
   "source": [
    "bayes_matrix = np.zeros((len(words), 4))\n",
    "for i, word in enumerate(words.keys()):\n",
    "    app_spam = 0\n",
    "    app_nonspam = 0\n",
    "    nonapp_spam = 0\n",
    "    nonapp_nonspam = 0\n",
    "    for k, v in enumerate(vectors):\n",
    "        if v[i] == 1:\n",
    "            if label[k] == 1:\n",
    "                app_spam += 1\n",
    "            else:\n",
    "                app_nonspam += 1\n",
    "        else:\n",
    "            if label[k] == 1:\n",
    "                nonapp_spam += 1\n",
    "            else:\n",
    "                nonapp_nonspam += 1\n",
    "                \n",
    "    bayes_matrix[i][0] = smoothing(app_spam, spam)\n",
    "    bayes_matrix[i][1] = smoothing(app_nonspam, non_spam)\n",
    "    bayes_matrix[i][2] = smoothing(nonapp_spam, spam)\n",
    "    bayes_matrix[i][3] = smoothing(nonapp_nonspam, non_spam)"
   ]
  },
  {
   "cell_type": "code",
   "execution_count": 11,
   "metadata": {},
   "outputs": [],
   "source": [
    "new_document = document[30] \n",
    "new_document = raw_text_preprocess(new_document)\n",
    "\n",
    "#Vectorizer\n",
    "vector = np.zeros(len(words))\n",
    "for i, word in enumerate(words.keys()):\n",
    "    if word in new_document:\n",
    "        vector[i] = 1"
   ]
  },
  {
   "cell_type": "code",
   "execution_count": 12,
   "metadata": {},
   "outputs": [],
   "source": [
    "log = np.zeros(2)\n",
    "\n",
    "predict_spam = spam_coef #P(spam)\n",
    "predict_non_spam = non_spam_coef #P(non_spam)\n",
    "\n",
    "index = 0\n",
    "\n",
    "for i, v in enumerate(vector):\n",
    "    if v == 0:\n",
    "        predict_spam *= bayes_matrix[i][2] #P(xi|cj)\n",
    "        predict_non_spam *= bayes_matrix[i][3]\n",
    "    else:\n",
    "        predict_spam *= bayes_matrix[i][0]\n",
    "        predict_non_spam *= bayes_matrix[i][1]\n",
    "    \n",
    "    if predict_spam < 1e-10:\n",
    "        predict_spam *= 1000\n",
    "        log[0] += 1\n",
    "    \n",
    "    if predict_non_spam < 1e-10:\n",
    "        predict_non_spam *= 1000\n",
    "        log[1] +=1"
   ]
  },
  {
   "cell_type": "code",
   "execution_count": 13,
   "metadata": {},
   "outputs": [],
   "source": [
    "def compare(predict_spam, predict_non_spam, log):\n",
    "    while (log[0] > log[1]):\n",
    "        predict_spam /= 10\n",
    "        log[0] -=1\n",
    "        if predict_spam > predict_non_spam:\n",
    "            return True\n",
    "        \n",
    "    while(log[1] > log[0]):\n",
    "        predict_non_spam /= 10\n",
    "        log[1] -= 1\n",
    "        if predict_non_spam > predict_spam:\n",
    "            return False\n",
    "        \n",
    "    if predict_spam > predict_non_spam:\n",
    "        return True\n",
    "    return False"
   ]
  },
  {
   "cell_type": "code",
   "execution_count": 14,
   "metadata": {},
   "outputs": [],
   "source": [
    "def predict(mail):\n",
    "    mail = raw_text_preprocess(mail)\n",
    "    \n",
    "    vector = np.zeros(len(words))\n",
    "    for i, word in enumerate(words.keys()):\n",
    "        if word in mail:\n",
    "            vector[i] = 1\n",
    "    log = np.zeros(2)\n",
    "\n",
    "    predict_spam = spam_coef\n",
    "    predict_non_spam = non_spam_coef\n",
    "\n",
    "    for i, v in enumerate(vector):\n",
    "        if v == 0:\n",
    "            predict_spam *= bayes_matrix[i][2]\n",
    "            predict_non_spam *= bayes_matrix[i][3]\n",
    "        else:\n",
    "            predict_spam *= bayes_matrix[i][0]\n",
    "            predict_non_spam *= bayes_matrix[i][1]\n",
    "\n",
    "        if predict_spam < 1e-10:\n",
    "            predict_spam *= 1000\n",
    "            log[0] += 1\n",
    "\n",
    "        if predict_non_spam < 1e-10:\n",
    "            predict_non_spam *= 1000\n",
    "            log[1] +=1\n",
    "            \n",
    "    if compare(predict_spam, predict_non_spam, log):\n",
    "        return 1\n",
    "    return 0"
   ]
  },
  {
   "cell_type": "code",
   "execution_count": 15,
   "metadata": {},
   "outputs": [
    {
     "data": {
      "text/plain": [
       "0.625"
      ]
     },
     "execution_count": 15,
     "metadata": {},
     "output_type": "execute_result"
    }
   ],
   "source": [
    "from sklearn.metrics import accuracy_score\n",
    "pred = [predict(d) for d in document_test]\n",
    "accuracy_score(label_test, pred)"
   ]
  },
  {
   "cell_type": "code",
   "execution_count": null,
   "metadata": {},
   "outputs": [],
   "source": []
  }
 ],
 "metadata": {
  "kernelspec": {
   "display_name": "Python 3",
   "language": "python",
   "name": "python3"
  },
  "language_info": {
   "codemirror_mode": {
    "name": "ipython",
    "version": 3
   },
   "file_extension": ".py",
   "mimetype": "text/x-python",
   "name": "python",
   "nbconvert_exporter": "python",
   "pygments_lexer": "ipython3",
   "version": "3.7.3"
  }
 },
 "nbformat": 4,
 "nbformat_minor": 2
}
