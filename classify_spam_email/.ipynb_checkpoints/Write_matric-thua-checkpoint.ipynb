{
 "cells": [
  {
   "cell_type": "code",
   "execution_count": null,
   "metadata": {},
   "outputs": [],
   "source": []
  },
  {
   "cell_type": "code",
   "execution_count": 1,
   "metadata": {},
   "outputs": [],
   "source": [
    "from pyvi import ViTokenizer #For split vietnamese words\n",
    "import pandas as pd #For reading xlsx file\n",
    "from gensim.parsing.preprocessing import strip_non_alphanum, strip_multiple_whitespaces,preprocess_string, split_alphanum, strip_short, strip_numeric\n",
    "import re\n",
    "import numpy as np\n",
    "from scipy.sparse import coo_matrix\n",
    "from sklearn.naive_bayes import MultinomialNB, BernoulliNB\n",
    "from sklearn.metrics import accuracy_score\n",
    "import string\n",
    "from sklearn.utils import shuffle"
   ]
  },
  {
   "cell_type": "code",
   "execution_count": 2,
   "metadata": {},
   "outputs": [],
   "source": [
    "def raw_text_preprocess(raw):\n",
    "    raw = raw.lower()\n",
    "    raw = re.sub(r\"http\\S+\", \"URL_Change\", raw)\n",
    "    raw = re.sub(r\"https\\S+\", \"URL_Change\", raw)\n",
    "    raw = re.sub(r\"(www\\S+)|(\\S+@\\S+)\", \"URL_Change\", raw)\n",
    "    raw = re.sub(r\"([0-9][0-9]/[0-9][0-9]/[0-9][0-9][0-9][0-9])|([0-9][0-9]/[0-9][0-9])|([0-9][0-9]/[0-9][0-9][0-9][0-9])\", \"DATE_Change\", raw)\n",
    "    raw = re.sub(r\"([0-9][0-9]-[0-9][0-9]-[0-9][0-9][0-9][0-9])|([0-9][0-9]-[0-9][0-9])|([0-9][0-9]-[0-9][0-9][0-9][0-9])\", \"DATE_Change\", raw)\n",
    "    raw = re.sub(r\"(ngày [0-9][0-9] tháng [0-9][0-9] năm [0-9][0-9][0-9][0-9])|(ngày [0-9][0-9] tháng [0-9][0-9])|(tháng [0-9][0-9] năm [0-9][0-9][0-9][0-9])\", \"DATE_Change\", raw)\n",
    "\n",
    "    raw = strip_numeric(raw)\n",
    "    raw = ViTokenizer.tokenize(raw)\n",
    "    raw = strip_short(raw, minsize=2)\n",
    "    return raw"
   ]
  },
  {
   "cell_type": "code",
   "execution_count": 3,
   "metadata": {},
   "outputs": [
    {
     "name": "stdout",
     "output_type": "stream",
     "text": [
      "391\n"
     ]
    }
   ],
   "source": [
    "document = []\n",
    "label = []\n",
    "def read_file(file):\n",
    "    doc = []\n",
    "    with open(file, 'r', encoding = 'utf-8') as f:\n",
    "        for line in f:\n",
    "            doc.append(line)\n",
    "    doc = shuffle(doc,random_state = 0)\n",
    "    \n",
    "    for line in doc:\n",
    "        document.append(line[7: ])\n",
    "        if ('non' in line[: 6]):\n",
    "            label.append(0)\n",
    "        else:\n",
    "            label.append(1)\n",
    "\n",
    "read_file('data_mail.txt')\n",
    "read_file('data_email.txt')\n",
    "print(len(document))"
   ]
  },
  {
   "cell_type": "code",
   "execution_count": 4,
   "metadata": {},
   "outputs": [],
   "source": [
    "def raw_text_preprocess(raw):\n",
    "    raw = raw.lower()\n",
    "    raw = re.sub(r\"http\\S+\", \"URL_Change\", raw)\n",
    "    raw = re.sub(r\"https\\S+\", \"URL_Change\", raw)\n",
    "    raw = re.sub(r\"(www\\S+)|(\\S+@\\S+)\", \"URL_Change\", raw)\n",
    "    raw = re.sub(r\"([0-9][0-9]/[0-9][0-9]/[0-9][0-9][0-9][0-9])|([0-9][0-9]/[0-9][0-9])|([0-9][0-9]/[0-9][0-9][0-9][0-9])\", \"DATE_Change\", raw)\n",
    "    raw = re.sub(r\"([0-9][0-9]-[0-9][0-9]-[0-9][0-9][0-9][0-9])|([0-9][0-9]-[0-9][0-9])|([0-9][0-9]-[0-9][0-9][0-9][0-9])\", \"DATE_Change\", raw)\n",
    "    raw = re.sub(r\"(ngày [0-9][0-9] tháng [0-9][0-9] năm [0-9][0-9][0-9][0-9])|(ngày [0-9][0-9] tháng [0-9][0-9])|(tháng [0-9][0-9] năm [0-9][0-9][0-9][0-9])\", \"DATE_Change\", raw)\n",
    "\n",
    "    raw = strip_numeric(raw)\n",
    "    raw = ViTokenizer.tokenize(raw)\n",
    "    raw = strip_short(raw, minsize=2)\n",
    "    return raw#Chia dữ liệu làm 5 đoạn, lấy đoạn thứ i để test và còn lại để train\n",
    "def divide_fold(i):\n",
    "    document = [raw_text_preprocess(d) for d in document]\n",
    "    document_test = document[(i-1)*80:i*80]\n",
    "    label_test = label[(i-1)*80:i*80]\n",
    "    document_train = document[:(i-1)*80+1]+document[i*80+1:]\n",
    "    label_train = label[:(i-1)*80+1]+label[i*80+1:]\n",
    "    return (document_test,label_test,document_train ,label_train)"
   ]
  },
  {
   "cell_type": "code",
   "execution_count": 5,
   "metadata": {},
   "outputs": [],
   "source": [
    "def divide_fold(i, document):\n",
    "    document = [raw_text_preprocess(d) for d in document]\n",
    "    document_test = document[(i-1)*80:i*80]\n",
    "    label_test = label[(i-1)*80:i*80]\n",
    "    document_train = document[:(i-1)*80+1]+document[i*80+1:]\n",
    "    label_train = label[:(i-1)*80+1]+label[i*80+1:]\n",
    "    return (document_test,label_test,document_train ,label_train)"
   ]
  },
  {
   "cell_type": "code",
   "execution_count": 6,
   "metadata": {},
   "outputs": [],
   "source": [
    "def dict_word(document):\n",
    "    res = {}\n",
    "    words = {}\n",
    "    conten = 0\n",
    "    for doc in document:\n",
    "#             token = change(doc)\n",
    "            token = doc.split(\" \")\n",
    "            for tok in token:\n",
    "                if tok in res.keys():\n",
    "                    res[tok] = res[tok] + 1\n",
    "                else:\n",
    "                    res.update({tok : 1})\n",
    "            for key, value in res.items():\n",
    "                if (value >= 3):\n",
    "                    words.update({key : value})\n",
    "            word = {}\n",
    "            for tok in token:\n",
    "                if tok in word.keys():\n",
    "                    word[tok] = word[tok] + 1\n",
    "                else:\n",
    "                    word.update({tok : 1})\n",
    "            conten = conten + len(word)\n",
    "    words = sorted(words.keys())\n",
    "    print(len(words))\n",
    "    return (words, conten)"
   ]
  },
  {
   "cell_type": "code",
   "execution_count": 7,
   "metadata": {},
   "outputs": [],
   "source": [
    "def read_data(document, label, words, conten, fileName):\n",
    "    word_list = []\n",
    "#     conten = 0\n",
    "    for doc in document:\n",
    "#         token = change(doc)\n",
    "        token = doc.split(\" \")\n",
    "        word = {}\n",
    "        for tok in token:\n",
    "            if tok in word.keys():\n",
    "                word[tok] = word[tok] + 1\n",
    "            else:\n",
    "                word.update({tok : 1})\n",
    "        word_list.append(word)\n",
    "    j = 0\n",
    "    data = []\n",
    "    for i, word in enumerate(word_list):\n",
    "        dat = []\n",
    "        for key, value in word.items():\n",
    "            if(key in words):\n",
    "                dat = np.array([int(i), int(words.index(key)), int(value)])\n",
    "                j = j + 1\n",
    "        data.append(dat)\n",
    "    with open(fileName, 'w') as f:\n",
    "        for i, l in enumerate(label):\n",
    "            f.write(str(l))\n",
    "            f.write(\" \")\n",
    "            for num in data:\n",
    "                for n in num:\n",
    "                    f.write(str(n))\n",
    "                    f.write(\" \")\n",
    "                f.write('\\n')"
   ]
  },
  {
   "cell_type": "code",
   "execution_count": 8,
   "metadata": {},
   "outputs": [
    {
     "name": "stdout",
     "output_type": "stream",
     "text": [
      "1888\n",
      "1967\n",
      "1875\n",
      "1867\n",
      "1929\n"
     ]
    }
   ],
   "source": [
    "for i in range(1, 6):\n",
    "    document_test,label_test,document_train ,label_train = divide_fold(i, document)\n",
    "    (words, conten) = dict_word(document_train)\n",
    "    read_data(document_train, label_train, words, conten, 'data_thua/train{}.txt'.format(i))\n",
    "    read_data(document_test, label_test, words, conten, 'data_thua/test{}.txt'.format(i))\n"
   ]
  },
  {
   "cell_type": "code",
   "execution_count": null,
   "metadata": {},
   "outputs": [],
   "source": []
  },
  {
   "cell_type": "code",
   "execution_count": null,
   "metadata": {},
   "outputs": [],
   "source": []
  },
  {
   "cell_type": "code",
   "execution_count": null,
   "metadata": {},
   "outputs": [],
   "source": []
  }
 ],
 "metadata": {
  "kernelspec": {
   "display_name": "Python 3",
   "language": "python",
   "name": "python3"
  },
  "language_info": {
   "codemirror_mode": {
    "name": "ipython",
    "version": 3
   },
   "file_extension": ".py",
   "mimetype": "text/x-python",
   "name": "python",
   "nbconvert_exporter": "python",
   "pygments_lexer": "ipython3",
   "version": "3.7.3"
  }
 },
 "nbformat": 4,
 "nbformat_minor": 2
}
