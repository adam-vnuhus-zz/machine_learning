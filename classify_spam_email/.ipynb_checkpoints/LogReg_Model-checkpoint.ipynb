{
 "cells": [
  {
   "cell_type": "code",
   "execution_count": 1,
   "metadata": {},
   "outputs": [],
   "source": [
    "from pyvi import ViTokenizer #For split vietnamese words\n",
    "import pandas as pd #For reading xlsx file\n",
    "from gensim.parsing.preprocessing import strip_non_alphanum, strip_multiple_whitespaces,preprocess_string, split_alphanum, strip_short, strip_numeric\n",
    "import re\n",
    "import numpy as np\n",
    "import string\n",
    "from sklearn.utils import shuffle"
   ]
  },
  {
   "cell_type": "code",
   "execution_count": 2,
   "metadata": {},
   "outputs": [],
   "source": [
    "# calculate value of sigmoid of a variation\n",
    "def sigmoid(z):\n",
    "    return 1/(1+np.exp(-z))"
   ]
  },
  {
   "cell_type": "code",
   "execution_count": 3,
   "metadata": {},
   "outputs": [],
   "source": [
    "# calculate value of sigmoid of a linear z=X.w\n",
    "def prob(w,X):\n",
    "    return sigmoid(X.dot(w))"
   ]
  },
  {
   "cell_type": "code",
   "execution_count": 4,
   "metadata": {},
   "outputs": [],
   "source": [
    "# loss function\n",
    "def loss(w, X, y, lam):\n",
    "    z = prob(w,X)\n",
    "    return -np.mean(y*np.log(z) + (1-y)*np.log(1-z) + 0.5*lam/X.shape[0]*np.sum(w*w))"
   ]
  },
  {
   "cell_type": "code",
   "execution_count": 5,
   "metadata": {},
   "outputs": [],
   "source": [
    "# training function with regulation norm l1\n",
    "def logistic_regression(w_init, X, y, lam =0.001, lr=0.1, nEpoches=2000):\n",
    "    N, d= X.shape\n",
    "    print(N)\n",
    "    w = w_old = w_init\n",
    "    loss_hist =[loss(w_init, X, y, lam)]\n",
    "    ep = 0\n",
    "    while ep < nEpoches:\n",
    "        ep += 1;\n",
    "        mix_ids = np.random.permutation(N)\n",
    "        for i in mix_ids:\n",
    "            xi= X[i]\n",
    "            yi = y[i]\n",
    "            zi = sigmoid(xi.dot(w))\n",
    "            w = w -lr*((zi-yi)*xi+lam*w)\n",
    "        loss_hist.append(loss(w, X, y, lam))\n",
    "        if np.linalg.norm(w - w_old)/d <1e-6:\n",
    "            break\n",
    "        w_old = w\n",
    "    return w, loss_hist"
   ]
  },
  {
   "cell_type": "code",
   "execution_count": 6,
   "metadata": {},
   "outputs": [],
   "source": [
    "#classify with X is a matrix (N,D),  is the number of samples, D is the number of feature\n",
    "def predict(w, X, threshold =0.5):\n",
    "    res = np.zeros(X.shape[0])\n",
    "    res[np.where(prob(w,X)> threshold)[0]]=1\n",
    "    return res"
   ]
  },
  {
   "cell_type": "code",
   "execution_count": 7,
   "metadata": {},
   "outputs": [],
   "source": [
    "#accurracy of Model with w parameter\n",
    "def accurracy(w,X_test, y_text):\n",
    "    y_predict = predict(w,X_test)\n",
    "    N=X_test.shape[0]\n",
    "    count=0\n",
    "    for m in range(N):\n",
    "        if (y_predict[m] == y_test[m]):\n",
    "            count+=1;\n",
    "    return count/N"
   ]
  },
  {
   "cell_type": "code",
   "execution_count": 8,
   "metadata": {},
   "outputs": [],
   "source": [
    "#example with predict beastcancer problem \n",
    "# A = np.loadtxt('wdbc.txt', delimiter=',')\n",
    "# y = y_test=np.array(A[:,1])\n",
    "# X = X_test=np.array(A[:,2:])\n",
    "# w_init = np.random.randn(X.shape[1])\n",
    "# lam =0.0001\n",
    "# w, loss_hist=logistic_regression(w_init, X, y, lam, lr =0.05, nEpoches = 500)\n",
    "# x_input =np.array(A[:, 2:])\n",
    "# print(x_input.shape[0])\n",
    "# #y_pre=predict(w,x_input,threshold = 0.5)\n",
    "# a=accurracy(w,X_test, y_test)\n",
    "# print(a)"
   ]
  },
  {
   "cell_type": "code",
   "execution_count": 9,
   "metadata": {},
   "outputs": [],
   "source": [
    "def raw_text_preprocess(raw):\n",
    "    raw = raw.lower()\n",
    "    raw = re.sub(r\"http\\S+\", \"URL_Change\", raw)\n",
    "    raw = re.sub(r\"https\\S+\", \"URL_Change\", raw)\n",
    "    raw = re.sub(r\"(www\\S+)|(\\S+@\\S+)\", \"URL_Change\", raw)\n",
    "    raw = re.sub(r\"([0-9][0-9]/[0-9][0-9]/[0-9][0-9][0-9][0-9])|([0-9][0-9]/[0-9][0-9])|([0-9][0-9]/[0-9][0-9][0-9][0-9])\", \"DATE_Change\", raw)\n",
    "    raw = re.sub(r\"([0-9][0-9]-[0-9][0-9]-[0-9][0-9][0-9][0-9])|([0-9][0-9]-[0-9][0-9])|([0-9][0-9]-[0-9][0-9][0-9][0-9])\", \"DATE_Change\", raw)\n",
    "    raw = re.sub(r\"(ngày [0-9][0-9] tháng [0-9][0-9] năm [0-9][0-9][0-9][0-9])|(ngày [0-9][0-9] tháng [0-9][0-9])|(tháng [0-9][0-9] năm [0-9][0-9][0-9][0-9])\", \"DATE_Change\", raw)\n",
    "\n",
    "    raw = strip_numeric(raw)\n",
    "    raw = ViTokenizer.tokenize(raw)\n",
    "    raw = strip_short(raw, minsize=2)\n",
    "    return raw"
   ]
  },
  {
   "cell_type": "code",
   "execution_count": 10,
   "metadata": {},
   "outputs": [
    {
     "name": "stdout",
     "output_type": "stream",
     "text": [
      "391\n"
     ]
    }
   ],
   "source": [
    "document = []\n",
    "label = []\n",
    "def read_file(file):\n",
    "    with open(file, 'r', encoding = 'utf-8') as f:\n",
    "\n",
    "        for line in f:\n",
    "            document.append(line[7: ])\n",
    "            if ('non' in line[: 6]):\n",
    "                label.append(0)\n",
    "            else:\n",
    "                label.append(1)\n",
    "\n",
    "read_file('data_mail.txt')\n",
    "read_file('data_email.txt')\n",
    "print(len(document))"
   ]
  },
  {
   "cell_type": "code",
   "execution_count": 11,
   "metadata": {},
   "outputs": [],
   "source": [
    "document = [raw_text_preprocess(d) for d in document]\n",
    "document_test = document[: 80]\n",
    "label_test = label[: 80]\n",
    "document = document[80 :]\n",
    "label = label[80 :]\n",
    "# print(document_test)"
   ]
  },
  {
   "cell_type": "code",
   "execution_count": 12,
   "metadata": {},
   "outputs": [],
   "source": [
    "def dict_word(document):\n",
    "    res = {}\n",
    "    words = {}\n",
    "    conten = 0\n",
    "    for doc in document:\n",
    "#             token = change(doc)\n",
    "            token = doc.split(\" \")\n",
    "            for tok in token:\n",
    "                if tok in res.keys():\n",
    "                    res[tok] = res[tok] + 1\n",
    "                else:\n",
    "                    res.update({tok : 1})\n",
    "            for key, value in res.items():\n",
    "                if (value >= 3):\n",
    "                    words.update({key : value})\n",
    "    words = sorted(words.keys())\n",
    "    return words"
   ]
  },
  {
   "cell_type": "code",
   "execution_count": 13,
   "metadata": {},
   "outputs": [],
   "source": [
    "def read_data(document, label, words):\n",
    "    word_list = []\n",
    "    N = len(document)\n",
    "#     conten = 0\n",
    "    for doc in document:\n",
    "#         token = change(doc)\n",
    "        token = doc.split(\" \")\n",
    "        word = {}\n",
    "        for tok in token:\n",
    "            if tok in word.keys():\n",
    "                word[tok] = word[tok] + 1\n",
    "            else:\n",
    "                word.update({tok : 1})\n",
    "        word_list.append(word)\n",
    "    data = dat = np.zeros((N, len(words)), dtype = int)\n",
    "    j = 0\n",
    "    for word in word_list:\n",
    "        dat = []\n",
    "        for key in words:\n",
    "            if(key in word.keys()):\n",
    "                dat.append(word[key])\n",
    "            else:\n",
    "                dat.append(0)\n",
    "        data[j, :] = np.array(np.asarray(dat))\n",
    "        j = j + 1\n",
    "#     return (np.array(np.asarray(data)), np.array(np.asarray(label)))\n",
    "    return (data, np.array(np.asarray(label)))"
   ]
  },
  {
   "cell_type": "code",
   "execution_count": 14,
   "metadata": {},
   "outputs": [],
   "source": [
    "words = dict_word(document)\n",
    "(X_train, y_train) = read_data(document, label, words)\n",
    "(X_test, y_test) = read_data(document_test, label_test, words)\n",
    "# print(len(train_data))\n",
    "# print(len(train_data[0]))\n",
    "# print(train_data[0])\n"
   ]
  },
  {
   "cell_type": "code",
   "execution_count": 15,
   "metadata": {},
   "outputs": [
    {
     "ename": "NameError",
     "evalue": "name 'train_data' is not defined",
     "output_type": "error",
     "traceback": [
      "\u001b[1;31m---------------------------------------------------------------------------\u001b[0m",
      "\u001b[1;31mNameError\u001b[0m                                 Traceback (most recent call last)",
      "\u001b[1;32m<ipython-input-15-719ae8bf8bd8>\u001b[0m in \u001b[0;36m<module>\u001b[1;34m\u001b[0m\n\u001b[1;32m----> 1\u001b[1;33m \u001b[0mw_init\u001b[0m \u001b[1;33m=\u001b[0m \u001b[0mnp\u001b[0m\u001b[1;33m.\u001b[0m\u001b[0mrandom\u001b[0m\u001b[1;33m.\u001b[0m\u001b[0mrandn\u001b[0m\u001b[1;33m(\u001b[0m\u001b[0mtrain_data\u001b[0m\u001b[1;33m.\u001b[0m\u001b[0mshape\u001b[0m\u001b[1;33m[\u001b[0m\u001b[1;36m1\u001b[0m\u001b[1;33m]\u001b[0m\u001b[1;33m)\u001b[0m\u001b[1;33m\u001b[0m\u001b[1;33m\u001b[0m\u001b[0m\n\u001b[0m\u001b[0;32m      2\u001b[0m \u001b[0mlam\u001b[0m \u001b[1;33m=\u001b[0m\u001b[1;36m0.00001\u001b[0m\u001b[1;33m\u001b[0m\u001b[1;33m\u001b[0m\u001b[0m\n\u001b[0;32m      3\u001b[0m \u001b[0mw\u001b[0m\u001b[1;33m,\u001b[0m \u001b[0mloss_hist\u001b[0m\u001b[1;33m=\u001b[0m\u001b[0mlogistic_regression\u001b[0m\u001b[1;33m(\u001b[0m\u001b[0mw_init\u001b[0m\u001b[1;33m,\u001b[0m \u001b[0mX_train\u001b[0m\u001b[1;33m,\u001b[0m \u001b[0my_train\u001b[0m\u001b[1;33m,\u001b[0m \u001b[0mlam\u001b[0m\u001b[1;33m,\u001b[0m \u001b[0mlr\u001b[0m \u001b[1;33m=\u001b[0m\u001b[1;36m0.05\u001b[0m\u001b[1;33m,\u001b[0m \u001b[0mnEpoches\u001b[0m \u001b[1;33m=\u001b[0m \u001b[1;36m1000\u001b[0m\u001b[1;33m)\u001b[0m\u001b[1;33m\u001b[0m\u001b[1;33m\u001b[0m\u001b[0m\n\u001b[0;32m      4\u001b[0m \u001b[1;31m# x_input =np.array(A[:, 2:])\u001b[0m\u001b[1;33m\u001b[0m\u001b[1;33m\u001b[0m\u001b[1;33m\u001b[0m\u001b[0m\n\u001b[0;32m      5\u001b[0m \u001b[1;31m# print(x_input.shape[0])\u001b[0m\u001b[1;33m\u001b[0m\u001b[1;33m\u001b[0m\u001b[1;33m\u001b[0m\u001b[0m\n",
      "\u001b[1;31mNameError\u001b[0m: name 'train_data' is not defined"
     ]
    }
   ],
   "source": [
    "w_init = np.random.randn(X_train.shape[1])\n",
    "lam =0.00001\n",
    "w, loss_hist=logistic_regression(w_init, X_train, y_train, lam, lr =0.05, nEpoches = 1000)\n",
    "# x_input =np.array(A[:, 2:])\n",
    "# print(x_input.shape[0])\n",
    "# y_pre=predict(w,x_input,threshold = 0.5)\n",
    "a=accurracy(w,X_test, y_test)\n",
    "print(a)"
   ]
  },
  {
   "cell_type": "code",
   "execution_count": null,
   "metadata": {},
   "outputs": [],
   "source": [
    "print(train_data.shape[1])"
   ]
  },
  {
   "cell_type": "code",
   "execution_count": null,
   "metadata": {},
   "outputs": [],
   "source": []
  }
 ],
 "metadata": {
  "kernelspec": {
   "display_name": "Python 3",
   "language": "python",
   "name": "python3"
  },
  "language_info": {
   "codemirror_mode": {
    "name": "ipython",
    "version": 3
   },
   "file_extension": ".py",
   "mimetype": "text/x-python",
   "name": "python",
   "nbconvert_exporter": "python",
   "pygments_lexer": "ipython3",
   "version": "3.7.3"
  }
 },
 "nbformat": 4,
 "nbformat_minor": 2
}
