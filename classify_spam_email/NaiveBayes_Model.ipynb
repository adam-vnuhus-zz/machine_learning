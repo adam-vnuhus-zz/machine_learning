{
 "cells": [
  {
   "cell_type": "code",
   "execution_count": 1,
   "metadata": {},
   "outputs": [],
   "source": [
    "import numpy as np\n",
    "import math"
   ]
  },
  {
   "cell_type": "code",
   "execution_count": 2,
   "metadata": {},
   "outputs": [],
   "source": [
    "def training(X_train, y_train):\n",
    "    N,D = X_train.shape\n",
    "    classes, noElementOfClass = np.unique(y_train, return_counts=True)\n",
    "    K=classes.size\n",
    "    theta = np.ones((K,1))\n",
    "    mu_jk = np.ones((K,D))\n",
    "    sigma_jk = np.ones((K,D))\n",
    "    for k in range(0,K):\n",
    "        theta[k]= noElementOfClass[k] \n",
    "        ide = np.where(y_train==classes[k])[-1]\n",
    "        X=[]\n",
    "        for i in ide:\n",
    "             X.append(X_train[i][:])\n",
    "        X=np.array(X)\n",
    "        mu_jk[k][:]= np.sum(X,0)/X.shape[0]\n",
    "        sigma_jk[k][:]= np.square(X[k][:]-mu_jk[k][:])/X.shape[0]\n",
    "    theta/=N\n",
    "    return theta, mu_jk, sigma_jk\n"
   ]
  },
  {
   "cell_type": "code",
   "execution_count": 3,
   "metadata": {},
   "outputs": [],
   "source": [
    "def classify(theta, mu_jk, sigma_jk, x):\n",
    "    K,D = mu_jk.shape\n",
    "    p= np.ones((K,1))\n",
    "    for k in range(0, K):\n",
    "        l=np.log(1/np.sqrt(2*np.pi*sigma_jk[k][:]))-(np.square(x[:]-mu_jk[k][:])/(2*sigma_jk[k][:]))\n",
    "        p[k] = np.log(theta[k])+np.sum(l)\n",
    "    return np.argmax(p)"
   ]
  },
  {
   "cell_type": "code",
   "execution_count": 4,
   "metadata": {},
   "outputs": [],
   "source": [
    "def accuracy(theta, mu_jk, sigma_jk,X_test, y_test):\n",
    "    K, D = sigma_jk.shape\n",
    "    N, D  = X_test.shape\n",
    "    y_pre = np.ones((N,1))\n",
    "    count =0;\n",
    "    for j in range(N):\n",
    "        y_pre[j] = classify(theta, mu_jk, sigma_jk, X_test[j][:])\n",
    "        if y_pre[j]==y_test[j]:\n",
    "            count+=1\n",
    "    return count/N"
   ]
  },
  {
   "cell_type": "code",
   "execution_count": 5,
   "metadata": {},
   "outputs": [
    {
     "name": "stdout",
     "output_type": "stream",
     "text": [
      "0.6625\n"
     ]
    },
    {
     "name": "stderr",
     "output_type": "stream",
     "text": [
      "C:\\ProgramData\\Anaconda3\\lib\\site-packages\\ipykernel_launcher.py:5: RuntimeWarning: divide by zero encountered in true_divide\n",
      "  \"\"\"\n",
      "C:\\ProgramData\\Anaconda3\\lib\\site-packages\\ipykernel_launcher.py:5: RuntimeWarning: invalid value encountered in true_divide\n",
      "  \"\"\"\n",
      "C:\\ProgramData\\Anaconda3\\lib\\site-packages\\ipykernel_launcher.py:5: RuntimeWarning: invalid value encountered in subtract\n",
      "  \"\"\"\n"
     ]
    }
   ],
   "source": [
    "A = np.loadtxt('train.txt')\n",
    "X = np.array(A[:, 1: ])\n",
    "y = np.array(A[:, 0])\n",
    "theta, mu_jk, sigma_jk=training(X, y)\n",
    "# print(theta)\n",
    "# print(mu_jk)\n",
    "# print(sigma_jk)\n",
    "T = np.loadtxt('test.txt')\n",
    "# print(y)\n",
    "X_test=np.array(T[:, 1: ])\n",
    "y_test=np.array(T[:, 0])\n",
    "acc= accuracy(theta, mu_jk, sigma_jk,X_test, y_test)\n",
    "print(acc)"
   ]
  },
  {
   "cell_type": "code",
   "execution_count": null,
   "metadata": {},
   "outputs": [],
   "source": []
  }
 ],
 "metadata": {
  "kernelspec": {
   "display_name": "Python 3",
   "language": "python",
   "name": "python3"
  },
  "language_info": {
   "codemirror_mode": {
    "name": "ipython",
    "version": 3
   },
   "file_extension": ".py",
   "mimetype": "text/x-python",
   "name": "python",
   "nbconvert_exporter": "python",
   "pygments_lexer": "ipython3",
   "version": "3.7.3"
  }
 },
 "nbformat": 4,
 "nbformat_minor": 2
}
